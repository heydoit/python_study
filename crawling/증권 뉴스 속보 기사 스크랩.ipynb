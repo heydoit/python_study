{
 "cells": [
  {
   "cell_type": "code",
   "execution_count": 98,
   "id": "229c50de",
   "metadata": {},
   "outputs": [],
   "source": [
    "import requests\n",
    "from bs4  import BeautifulSoup as bs"
   ]
  },
  {
   "cell_type": "code",
   "execution_count": 99,
   "id": "4e9b78ed",
   "metadata": {},
   "outputs": [],
   "source": [
    "url = \"https://finance.naver.com/news/news_list.naver?mode=LSS2D&section_id=101&section_id2=258\""
   ]
  },
  {
   "cell_type": "code",
   "execution_count": 100,
   "id": "c9b3a442",
   "metadata": {},
   "outputs": [],
   "source": [
    "headers = {\n",
    "    \"user-agent\": \"Mozilla/5.0 (Windows NT 10.0; Win64; x64) AppleWebKit/537.36 (KHTML, like Gecko) Chrome/107.0.0.0 Safari/537.36\"\n",
    "    \n",
    "}"
   ]
  },
  {
   "cell_type": "code",
   "execution_count": 101,
   "id": "93dcceb8",
   "metadata": {},
   "outputs": [],
   "source": [
    "res = requests.get(url, headers = headers)"
   ]
  },
  {
   "cell_type": "code",
   "execution_count": 102,
   "id": "a31d44f6",
   "metadata": {},
   "outputs": [],
   "source": [
    "soup = bs(res.text, \"html.parser\")"
   ]
  },
  {
   "cell_type": "code",
   "execution_count": 103,
   "id": "1e556fe8",
   "metadata": {},
   "outputs": [],
   "source": [
    "tlt = soup.select(\"dd.articleSubject > a\")"
   ]
  },
  {
   "cell_type": "code",
   "execution_count": 104,
   "id": "dd5dbc6d",
   "metadata": {},
   "outputs": [
    {
     "data": {
      "text/plain": [
       "[<a href=\"/news/news_read.naver?article_id=0005373761&amp;office_id=018&amp;mode=LSS2D&amp;type=0§ion_id=101§ion_id2=258§ion_id3=&amp;date=20221124&amp;page=1\" title=\"KB證,  ETF 랩 가입자 커피 기프티콘 제공 등 이벤트\">KB證,  ETF 랩 가입자 커피 기프티콘 제공 등 이벤트</a>,\n",
       " <a href=\"/news/news_read.naver?article_id=0004125908&amp;office_id=011&amp;mode=LSS2D&amp;type=0§ion_id=101§ion_id2=258§ion_id3=&amp;date=20221124&amp;page=1\" title=\"[오전시황] 미국 금리 속도조절 훈풍에 코스피 2430선\">[오전시황] 미국 금리 속도조절 훈풍에 코스피 2430선</a>,\n",
       " <a href=\"/news/news_read.naver?article_id=0000712450&amp;office_id=031&amp;mode=LSS2D&amp;type=0§ion_id=101§ion_id2=258§ion_id3=&amp;date=20221124&amp;page=1\" title=\"NH투자증권, 리얼 연애프로그램 '영끌로맨스' 론칭\">NH투자증권, 리얼 연애프로그램 '영끌로맨스' 론칭</a>,\n",
       " <a href=\"/news/news_read.naver?article_id=0004932909&amp;office_id=014&amp;mode=LSS2D&amp;type=0§ion_id=101§ion_id2=258§ion_id3=&amp;date=20221124&amp;page=1\" title='\"반도체 불황, 삼성전자에게 기회\"'>\"반도체 불황, 삼성전자에게 기회\"</a>,\n",
       " <a href=\"/news/news_read.naver?article_id=0003061346&amp;office_id=030&amp;mode=LSS2D&amp;type=0§ion_id=101§ion_id2=258§ion_id3=&amp;date=20221124&amp;page=1\" title='[ET라씨로] \"편의점 비닐봉투 판매도 금지\"...제지 관련주 강세'>[ET라씨로] \"편의점 비닐봉투 판매도 금지\"...제지 관련주 강세</a>,\n",
       " <a href=\"/news/news_read.naver?article_id=0000871970&amp;office_id=417&amp;mode=LSS2D&amp;type=0§ion_id=101§ion_id2=258§ion_id3=&amp;date=20221124&amp;page=1\" title=\"[특징주] 에이프로, 1010억 규모 2차전지 활성화장비 공급 계약에↑\">[특징주] 에이프로, 1010억 규모 2차전지 활성화장비 공급 계약에↑</a>,\n",
       " <a href=\"/news/news_read.naver?article_id=0002660832&amp;office_id=119&amp;mode=LSS2D&amp;type=0§ion_id=101§ion_id2=258§ion_id3=&amp;date=20221124&amp;page=1\" title=\"NH투자증권, 리얼 연애프로그램 ‘영끌로맨스’ 론칭\">NH투자증권, 리얼 연애프로그램 ‘영끌로맨스’ 론칭</a>,\n",
       " <a href=\"/news/news_read.naver?article_id=0011554450&amp;office_id=003&amp;mode=LSS2D&amp;type=0§ion_id=101§ion_id2=258§ion_id3=&amp;date=20221124&amp;page=1\" title=\"[핫스탁]드래곤플라이·펨트론\">[핫스탁]드래곤플라이·펨트론</a>,\n",
       " <a href=\"/news/news_read.naver?article_id=0004778871&amp;office_id=015&amp;mode=LSS2D&amp;type=0§ion_id=101§ion_id2=258§ion_id3=&amp;date=20221124&amp;page=1\" title=\"펨트론, 상장 첫날 5% 강세\">펨트론, 상장 첫날 5% 강세</a>,\n",
       " <a href=\"/news/news_read.naver?article_id=0005373757&amp;office_id=018&amp;mode=LSS2D&amp;type=0§ion_id=101§ion_id2=258§ion_id3=&amp;date=20221124&amp;page=1\" title=\"김종현 위세아이텍 대표, 한국연구산업협회 6대 회장 선출\">김종현 위세아이텍 대표, 한국연구산업협회 6대 회장 선출</a>,\n",
       " <a href=\"/news/news_read.naver?article_id=0006478250&amp;office_id=421&amp;mode=LSS2D&amp;type=0§ion_id=101§ion_id2=258§ion_id3=&amp;date=20221124&amp;page=1\" title=\"네카오, '금리인상 속도 조절 기대'에 상승세\">네카오, '금리인상 속도 조절 기대'에 상승세</a>,\n",
       " <a href=\"/news/news_read.naver?article_id=0004778870&amp;office_id=015&amp;mode=LSS2D&amp;type=0§ion_id=101§ion_id2=258§ion_id3=&amp;date=20221124&amp;page=1\" title=\"NH투자증권, 리얼 연애프로그램 ‘영끌로맨스’ 론칭\">NH투자증권, 리얼 연애프로그램 ‘영끌로맨스’ 론칭</a>,\n",
       " <a href=\"/news/news_read.naver?article_id=0002069603&amp;office_id=016&amp;mode=LSS2D&amp;type=0§ion_id=101§ion_id2=258§ion_id3=&amp;date=20221124&amp;page=1\" title=\"한한령 해제 기대감에 미디어K팝게임·화장품여행주 급등…허와 실은?\">한한령 해제 기대감에 미디어K팝게임·화장품여행주 급등…허와 실은?</a>,\n",
       " <a href=\"/news/news_read.naver?article_id=0000186345&amp;office_id=629&amp;mode=LSS2D&amp;type=0§ion_id=101§ion_id2=258§ion_id3=&amp;date=20221124&amp;page=1\" title=\"[특징주] '증시 입성' 펨트론, 시초가 밑돌다 반등 성공\">[특징주] '증시 입성' 펨트론, 시초가 밑돌다 반등 성공</a>,\n",
       " <a href=\"/news/news_read.naver?article_id=0004778869&amp;office_id=015&amp;mode=LSS2D&amp;type=0§ion_id=101§ion_id2=258§ion_id3=&amp;date=20221124&amp;page=1\" title=\"에이프로, 얼티엄셀즈와 1010억 2차전지 활성화장비 공급계약 [주목 e공시]\">에이프로, 얼티엄셀즈와 1010억 2차전지 활성화장비 공급계약 [주목 e공시]</a>,\n",
       " <a href=\"/news/news_read.naver?article_id=0002660827&amp;office_id=119&amp;mode=LSS2D&amp;type=0§ion_id=101§ion_id2=258§ion_id3=&amp;date=20221124&amp;page=1\" title=\"[시황] 코스피, 금리인상 앞두고 0.7%↑…2430선 상회\">[시황] 코스피, 금리인상 앞두고 0.7%↑…2430선 상회</a>,\n",
       " <a href=\"/news/news_read.naver?article_id=0011554440&amp;office_id=003&amp;mode=LSS2D&amp;type=0§ion_id=101§ion_id2=258§ion_id3=&amp;date=20221124&amp;page=1\" title=\"코스피 상승 출발\">코스피 상승 출발</a>,\n",
       " <a href=\"/news/news_read.naver?article_id=0011554439&amp;office_id=003&amp;mode=LSS2D&amp;type=0§ion_id=101§ion_id2=258§ion_id3=&amp;date=20221124&amp;page=1\" title=\"상승 출발한 코스피\">상승 출발한 코스피</a>,\n",
       " <a href=\"/news/news_read.naver?article_id=0011554438&amp;office_id=003&amp;mode=LSS2D&amp;type=0§ion_id=101§ion_id2=258§ion_id3=&amp;date=20221124&amp;page=1\" title=\"코스피 상승출발\">코스피 상승출발</a>,\n",
       " <a href=\"/news/news_read.naver?article_id=0011554437&amp;office_id=003&amp;mode=LSS2D&amp;type=0§ion_id=101§ion_id2=258§ion_id3=&amp;date=20221124&amp;page=1\" title=\"상승 출발한 국내증시\">상승 출발한 국내증시</a>]"
      ]
     },
     "execution_count": 104,
     "metadata": {},
     "output_type": "execute_result"
    }
   ],
   "source": [
    "tlt"
   ]
  },
  {
   "cell_type": "code",
   "execution_count": 105,
   "id": "ce6aaef3",
   "metadata": {
    "scrolled": true
   },
   "outputs": [
    {
     "data": {
      "text/plain": [
       "'KB證,  ETF 랩 가입자 커피 기프티콘 제공 등 이벤트'"
      ]
     },
     "execution_count": 105,
     "metadata": {},
     "output_type": "execute_result"
    }
   ],
   "source": [
    "tlt[0].text.strip()"
   ]
  },
  {
   "cell_type": "code",
   "execution_count": 106,
   "id": "b445b37f",
   "metadata": {},
   "outputs": [
    {
     "data": {
      "text/plain": [
       "'http://naver.com/news/news_read.naver?article_id=0005373761&office_id=018&mode=LSS2D&type=0§ion_id=101§ion_id2=258§ion_id3=&date=20221124&page=1'"
      ]
     },
     "execution_count": 106,
     "metadata": {},
     "output_type": "execute_result"
    }
   ],
   "source": [
    "\"http://naver.com\" + tlt[0][\"href\"]"
   ]
  },
  {
   "cell_type": "code",
   "execution_count": 107,
   "id": "46793106",
   "metadata": {
    "scrolled": false
   },
   "outputs": [
    {
     "name": "stdout",
     "output_type": "stream",
     "text": [
      "KB證,  ETF 랩 가입자 커피 기프티콘 제공 등 이벤트 http://naver.com/news/news_read.naver?article_id=0005373761&office_id=018&mode=LSS2D&type=0§ion_id=101§ion_id2=258§ion_id3=&date=20221124&page=1\n",
      "[오전시황] 미국 금리 속도조절 훈풍에 코스피 2430선 http://naver.com/news/news_read.naver?article_id=0004125908&office_id=011&mode=LSS2D&type=0§ion_id=101§ion_id2=258§ion_id3=&date=20221124&page=1\n",
      "NH투자증권, 리얼 연애프로그램 '영끌로맨스' 론칭 http://naver.com/news/news_read.naver?article_id=0000712450&office_id=031&mode=LSS2D&type=0§ion_id=101§ion_id2=258§ion_id3=&date=20221124&page=1\n",
      "\"반도체 불황, 삼성전자에게 기회\" http://naver.com/news/news_read.naver?article_id=0004932909&office_id=014&mode=LSS2D&type=0§ion_id=101§ion_id2=258§ion_id3=&date=20221124&page=1\n",
      "[ET라씨로] \"편의점 비닐봉투 판매도 금지\"...제지 관련주 강세 http://naver.com/news/news_read.naver?article_id=0003061346&office_id=030&mode=LSS2D&type=0§ion_id=101§ion_id2=258§ion_id3=&date=20221124&page=1\n",
      "[특징주] 에이프로, 1010억 규모 2차전지 활성화장비 공급 계약에↑ http://naver.com/news/news_read.naver?article_id=0000871970&office_id=417&mode=LSS2D&type=0§ion_id=101§ion_id2=258§ion_id3=&date=20221124&page=1\n",
      "NH투자증권, 리얼 연애프로그램 ‘영끌로맨스’ 론칭 http://naver.com/news/news_read.naver?article_id=0002660832&office_id=119&mode=LSS2D&type=0§ion_id=101§ion_id2=258§ion_id3=&date=20221124&page=1\n",
      "[핫스탁]드래곤플라이·펨트론 http://naver.com/news/news_read.naver?article_id=0011554450&office_id=003&mode=LSS2D&type=0§ion_id=101§ion_id2=258§ion_id3=&date=20221124&page=1\n",
      "펨트론, 상장 첫날 5% 강세 http://naver.com/news/news_read.naver?article_id=0004778871&office_id=015&mode=LSS2D&type=0§ion_id=101§ion_id2=258§ion_id3=&date=20221124&page=1\n",
      "김종현 위세아이텍 대표, 한국연구산업협회 6대 회장 선출 http://naver.com/news/news_read.naver?article_id=0005373757&office_id=018&mode=LSS2D&type=0§ion_id=101§ion_id2=258§ion_id3=&date=20221124&page=1\n",
      "네카오, '금리인상 속도 조절 기대'에 상승세 http://naver.com/news/news_read.naver?article_id=0006478250&office_id=421&mode=LSS2D&type=0§ion_id=101§ion_id2=258§ion_id3=&date=20221124&page=1\n",
      "NH투자증권, 리얼 연애프로그램 ‘영끌로맨스’ 론칭 http://naver.com/news/news_read.naver?article_id=0004778870&office_id=015&mode=LSS2D&type=0§ion_id=101§ion_id2=258§ion_id3=&date=20221124&page=1\n",
      "한한령 해제 기대감에 미디어K팝게임·화장품여행주 급등…허와 실은? http://naver.com/news/news_read.naver?article_id=0002069603&office_id=016&mode=LSS2D&type=0§ion_id=101§ion_id2=258§ion_id3=&date=20221124&page=1\n",
      "[특징주] '증시 입성' 펨트론, 시초가 밑돌다 반등 성공 http://naver.com/news/news_read.naver?article_id=0000186345&office_id=629&mode=LSS2D&type=0§ion_id=101§ion_id2=258§ion_id3=&date=20221124&page=1\n",
      "에이프로, 얼티엄셀즈와 1010억 2차전지 활성화장비 공급계약 [주목 e공시] http://naver.com/news/news_read.naver?article_id=0004778869&office_id=015&mode=LSS2D&type=0§ion_id=101§ion_id2=258§ion_id3=&date=20221124&page=1\n",
      "[시황] 코스피, 금리인상 앞두고 0.7%↑…2430선 상회 http://naver.com/news/news_read.naver?article_id=0002660827&office_id=119&mode=LSS2D&type=0§ion_id=101§ion_id2=258§ion_id3=&date=20221124&page=1\n",
      "코스피 상승 출발 http://naver.com/news/news_read.naver?article_id=0011554440&office_id=003&mode=LSS2D&type=0§ion_id=101§ion_id2=258§ion_id3=&date=20221124&page=1\n",
      "상승 출발한 코스피 http://naver.com/news/news_read.naver?article_id=0011554439&office_id=003&mode=LSS2D&type=0§ion_id=101§ion_id2=258§ion_id3=&date=20221124&page=1\n",
      "코스피 상승출발 http://naver.com/news/news_read.naver?article_id=0011554438&office_id=003&mode=LSS2D&type=0§ion_id=101§ion_id2=258§ion_id3=&date=20221124&page=1\n",
      "상승 출발한 국내증시 http://naver.com/news/news_read.naver?article_id=0011554437&office_id=003&mode=LSS2D&type=0§ion_id=101§ion_id2=258§ion_id3=&date=20221124&page=1\n"
     ]
    }
   ],
   "source": [
    "for a in tlt:\n",
    "    press = a.text\n",
    "    links = \"http://naver.com\" + a[\"href\"]\n",
    "    print(press, links)"
   ]
  },
  {
   "cell_type": "code",
   "execution_count": 127,
   "id": "1bb78e32",
   "metadata": {},
   "outputs": [
    {
     "ename": "TypeError",
     "evalue": "'NoneType' object is not callable",
     "output_type": "error",
     "traceback": [
      "\u001b[1;31m---------------------------------------------------------------------------\u001b[0m",
      "\u001b[1;31mTypeError\u001b[0m                                 Traceback (most recent call last)",
      "\u001b[1;32m~\\AppData\\Local\\Temp\\ipykernel_14964\\2265692096.py\u001b[0m in \u001b[0;36m<module>\u001b[1;34m\u001b[0m\n\u001b[0;32m      3\u001b[0m     \u001b[0mres1\u001b[0m \u001b[1;33m=\u001b[0m \u001b[0mrequests\u001b[0m\u001b[1;33m.\u001b[0m\u001b[0mget\u001b[0m\u001b[1;33m(\u001b[0m\u001b[0murl1\u001b[0m\u001b[1;33m,\u001b[0m \u001b[0mheaders\u001b[0m\u001b[1;33m=\u001b[0m\u001b[0mheaders\u001b[0m\u001b[1;33m)\u001b[0m\u001b[1;33m\u001b[0m\u001b[1;33m\u001b[0m\u001b[0m\n\u001b[0;32m      4\u001b[0m     \u001b[0msoup1\u001b[0m \u001b[1;33m=\u001b[0m \u001b[0mbs\u001b[0m\u001b[1;33m(\u001b[0m\u001b[0mres1\u001b[0m\u001b[1;33m.\u001b[0m\u001b[0mtext\u001b[0m\u001b[1;33m,\u001b[0m \u001b[1;34m\"html.parser\"\u001b[0m\u001b[1;33m)\u001b[0m\u001b[1;33m\u001b[0m\u001b[1;33m\u001b[0m\u001b[0m\n\u001b[1;32m----> 5\u001b[1;33m     \u001b[0mtitle1\u001b[0m \u001b[1;33m=\u001b[0m \u001b[0msoup1\u001b[0m\u001b[1;33m.\u001b[0m\u001b[0mselect_one\u001b[0m\u001b[1;33m(\u001b[0m\u001b[1;34m\"div.article_info\"\u001b[0m\u001b[1;33m)\u001b[0m\u001b[1;33m(\u001b[0m\u001b[1;34m'h3'\u001b[0m\u001b[1;33m)\u001b[0m\u001b[1;33m\u001b[0m\u001b[1;33m\u001b[0m\u001b[0m\n\u001b[0m\u001b[0;32m      6\u001b[0m     \u001b[0mcontents\u001b[0m \u001b[1;33m=\u001b[0m \u001b[0mlink\u001b[0m\u001b[1;33m.\u001b[0m\u001b[0mfind\u001b[0m\u001b[1;33m(\u001b[0m\u001b[1;34m'div'\u001b[0m\u001b[1;33m,\u001b[0m \u001b[0mid\u001b[0m \u001b[1;33m=\u001b[0m \u001b[1;34m\"content\"\u001b[0m\u001b[1;33m)\u001b[0m\u001b[1;33m.\u001b[0m\u001b[0mtext\u001b[0m\u001b[1;33m\u001b[0m\u001b[1;33m\u001b[0m\u001b[0m\n\u001b[0;32m      7\u001b[0m     \u001b[0mprint\u001b[0m\u001b[1;33m(\u001b[0m\u001b[0mtitle1\u001b[0m\u001b[1;33m,\u001b[0m \u001b[0mcontents\u001b[0m\u001b[1;33m)\u001b[0m\u001b[1;33m\u001b[0m\u001b[1;33m\u001b[0m\u001b[0m\n",
      "\u001b[1;31mTypeError\u001b[0m: 'NoneType' object is not callable"
     ]
    }
   ],
   "source": [
    "for link in tlt:\n",
    "    url1 = \"http://naver.com\" + link[\"href\"]\n",
    "    res1 = requests.get(url1, headers=headers)\n",
    "    soup1 = bs(res1.text, \"html.parser\")\n",
    "    title1 = soup1.select_one(\"div.article_info\")('h3')\n",
    "    contents = link.find('div', id = \"content\").text\n",
    "    print(title1, contents)"
   ]
  },
  {
   "cell_type": "code",
   "execution_count": null,
   "id": "c1374f33",
   "metadata": {},
   "outputs": [],
   "source": []
  }
 ],
 "metadata": {
  "kernelspec": {
   "display_name": "Python 3 (ipykernel)",
   "language": "python",
   "name": "python3"
  },
  "language_info": {
   "codemirror_mode": {
    "name": "ipython",
    "version": 3
   },
   "file_extension": ".py",
   "mimetype": "text/x-python",
   "name": "python",
   "nbconvert_exporter": "python",
   "pygments_lexer": "ipython3",
   "version": "3.9.13"
  }
 },
 "nbformat": 4,
 "nbformat_minor": 5
}
