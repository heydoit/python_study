{
 "cells": [
  {
   "cell_type": "code",
   "execution_count": 2,
   "id": "dc375a76",
   "metadata": {},
   "outputs": [],
   "source": [
    "import requests\n",
    "from bs4 import BeautifulSoup as bs\n",
    "import pandas as pd"
   ]
  },
  {
   "cell_type": "code",
   "execution_count": 3,
   "id": "fc309cd7",
   "metadata": {},
   "outputs": [],
   "source": [
    "url = 'http://crawlingstudy-dd3c9.web.app/03/'"
   ]
  },
  {
   "cell_type": "code",
   "execution_count": 5,
   "id": "48179b5d",
   "metadata": {},
   "outputs": [],
   "source": [
    "res = requests.get(url)"
   ]
  },
  {
   "cell_type": "code",
   "execution_count": 9,
   "id": "68a60320",
   "metadata": {},
   "outputs": [],
   "source": [
    "soup = bs(res.text, \"html.parser\")"
   ]
  },
  {
   "cell_type": "code",
   "execution_count": 18,
   "id": "a7de05b8",
   "metadata": {},
   "outputs": [],
   "source": [
    "result = soup.select('#popularItemList li')"
   ]
  },
  {
   "cell_type": "code",
   "execution_count": 111,
   "id": "822e3c79",
   "metadata": {
    "scrolled": true
   },
   "outputs": [
    {
     "name": "stdout",
     "output_type": "stream",
     "text": [
      "써니전자 5,000 상한\n",
      "--------------------------------------------------\n",
      "삼성전자 55,200 하락\n",
      "--------------------------------------------------\n",
      "안랩 81,000 상승\n",
      "--------------------------------------------------\n",
      "케이엠더블.. 57,300 상승\n",
      "--------------------------------------------------\n",
      "피피아이 12,600 상한\n",
      "--------------------------------------------------\n",
      "KT&G 92,500 하락\n",
      "--------------------------------------------------\n",
      "삼성전자우 45,600 상승\n",
      "--------------------------------------------------\n",
      "대양금속 10,550 하한\n",
      "--------------------------------------------------\n",
      "SK하이닉스 94,700 상승\n",
      "--------------------------------------------------\n",
      "SK텔레콤 234,000 하락\n",
      "--------------------------------------------------\n"
     ]
    }
   ],
   "source": [
    "hot_stock=[]\n",
    "for i in result:\n",
    "    stock_name = i.select_one('a').text\n",
    "    stock_price = i.select_one('span').text\n",
    "    stock_ud = i.select_one('img')['alt']\n",
    "    print(stock_name, stock_price, stock_ud)\n",
    "    print('-'*50)\n",
    "    hot_stock.append([stock_name, stock_price, stock_ud])"
   ]
  },
  {
   "cell_type": "code",
   "execution_count": 112,
   "id": "7dedfb2c",
   "metadata": {},
   "outputs": [],
   "source": [
    "df = pd.DataFrame(data = hot_stock, columns = ['stock_name','stock_price', 'stock_updown'])"
   ]
  },
  {
   "cell_type": "code",
   "execution_count": 113,
   "id": "526db733",
   "metadata": {},
   "outputs": [
    {
     "data": {
      "text/html": [
       "<div>\n",
       "<style scoped>\n",
       "    .dataframe tbody tr th:only-of-type {\n",
       "        vertical-align: middle;\n",
       "    }\n",
       "\n",
       "    .dataframe tbody tr th {\n",
       "        vertical-align: top;\n",
       "    }\n",
       "\n",
       "    .dataframe thead th {\n",
       "        text-align: right;\n",
       "    }\n",
       "</style>\n",
       "<table border=\"1\" class=\"dataframe\">\n",
       "  <thead>\n",
       "    <tr style=\"text-align: right;\">\n",
       "      <th></th>\n",
       "      <th>stock_name</th>\n",
       "      <th>stock_price</th>\n",
       "      <th>stock_updown</th>\n",
       "    </tr>\n",
       "  </thead>\n",
       "  <tbody>\n",
       "    <tr>\n",
       "      <th>0</th>\n",
       "      <td>써니전자</td>\n",
       "      <td>5,000</td>\n",
       "      <td>상한</td>\n",
       "    </tr>\n",
       "    <tr>\n",
       "      <th>1</th>\n",
       "      <td>삼성전자</td>\n",
       "      <td>55,200</td>\n",
       "      <td>하락</td>\n",
       "    </tr>\n",
       "    <tr>\n",
       "      <th>2</th>\n",
       "      <td>안랩</td>\n",
       "      <td>81,000</td>\n",
       "      <td>상승</td>\n",
       "    </tr>\n",
       "    <tr>\n",
       "      <th>3</th>\n",
       "      <td>케이엠더블..</td>\n",
       "      <td>57,300</td>\n",
       "      <td>상승</td>\n",
       "    </tr>\n",
       "    <tr>\n",
       "      <th>4</th>\n",
       "      <td>피피아이</td>\n",
       "      <td>12,600</td>\n",
       "      <td>상한</td>\n",
       "    </tr>\n",
       "    <tr>\n",
       "      <th>5</th>\n",
       "      <td>KT&amp;G</td>\n",
       "      <td>92,500</td>\n",
       "      <td>하락</td>\n",
       "    </tr>\n",
       "    <tr>\n",
       "      <th>6</th>\n",
       "      <td>삼성전자우</td>\n",
       "      <td>45,600</td>\n",
       "      <td>상승</td>\n",
       "    </tr>\n",
       "    <tr>\n",
       "      <th>7</th>\n",
       "      <td>대양금속</td>\n",
       "      <td>10,550</td>\n",
       "      <td>하한</td>\n",
       "    </tr>\n",
       "    <tr>\n",
       "      <th>8</th>\n",
       "      <td>SK하이닉스</td>\n",
       "      <td>94,700</td>\n",
       "      <td>상승</td>\n",
       "    </tr>\n",
       "    <tr>\n",
       "      <th>9</th>\n",
       "      <td>SK텔레콤</td>\n",
       "      <td>234,000</td>\n",
       "      <td>하락</td>\n",
       "    </tr>\n",
       "  </tbody>\n",
       "</table>\n",
       "</div>"
      ],
      "text/plain": [
       "  stock_name stock_price stock_updown\n",
       "0       써니전자       5,000           상한\n",
       "1       삼성전자      55,200           하락\n",
       "2         안랩      81,000           상승\n",
       "3    케이엠더블..      57,300           상승\n",
       "4       피피아이      12,600           상한\n",
       "5       KT&G      92,500           하락\n",
       "6      삼성전자우      45,600           상승\n",
       "7       대양금속      10,550           하한\n",
       "8     SK하이닉스      94,700           상승\n",
       "9      SK텔레콤     234,000           하락"
      ]
     },
     "execution_count": 113,
     "metadata": {},
     "output_type": "execute_result"
    }
   ],
   "source": [
    "df"
   ]
  },
  {
   "cell_type": "code",
   "execution_count": 51,
   "id": "96f39910",
   "metadata": {},
   "outputs": [],
   "source": [
    "url1 = 'http://crawlingstudy-dd3c9.web.app/03/'"
   ]
  },
  {
   "cell_type": "code",
   "execution_count": 54,
   "id": "8d8c98fa",
   "metadata": {},
   "outputs": [],
   "source": [
    "res1 = requests.get(url1)"
   ]
  },
  {
   "cell_type": "code",
   "execution_count": 55,
   "id": "07b07ce3",
   "metadata": {},
   "outputs": [],
   "source": [
    "soup1 = bs(res1.text, \"html.parser\")"
   ]
  },
  {
   "cell_type": "code",
   "execution_count": 74,
   "id": "3b0668cf",
   "metadata": {},
   "outputs": [],
   "source": [
    "stock = soup1.select(\"ul.lst_major > li\")"
   ]
  },
  {
   "cell_type": "code",
   "execution_count": 75,
   "id": "6a0730c3",
   "metadata": {},
   "outputs": [
    {
     "data": {
      "text/plain": [
       "<li class=\"up\"><a href=\"https://finance.naver.com/world/sise.nhn?symbol=DJI@DJI&amp;fdtc=0\">다우산업</a><span>28,647.43</span><img alt=\"상한\" height=\"11\" src=\"https://ssl.pstatic.net/static/nfinance/ico_up2.gif\" width=\"7\"/></li>"
      ]
     },
     "execution_count": 75,
     "metadata": {},
     "output_type": "execute_result"
    }
   ],
   "source": [
    "stock[0]"
   ]
  },
  {
   "cell_type": "code",
   "execution_count": 115,
   "id": "830d34e3",
   "metadata": {},
   "outputs": [
    {
     "name": "stdout",
     "output_type": "stream",
     "text": [
      "다우산업 28,647.43 https://finance.naver.com/world/sise.nhn?symbol=DJI@DJI&fdtc=0 상한\n",
      "나스닥 9,015.03 https://finance.naver.com/world/sise.nhn?symbol=NAS@IXIC&fdtc=0 상한\n",
      "홍콩H 11,320.56 https://finance.naver.com/world/sise.nhn?symbol=HSI@HSCE&fdtc=0 상한\n",
      "상해종합 3,085.20 https://finance.naver.com/world/sise.nhn?symbol=SHS@000001&fdtc=0 상한\n",
      "니케이225 23,656.62 https://finance.naver.com/world/sise.nhn?symbol=NII@NI225&fdtc=0 하락\n"
     ]
    }
   ],
   "source": [
    "total = []\n",
    "for q in stock:\n",
    "    name = q.select_one('a').text\n",
    "    price = q.select_one('span').text\n",
    "    link = q.select_one('a')['href']\n",
    "    updown = q.select_one('img')['alt']\n",
    "    print(name, price, link, updown)\n",
    "    total.append({\n",
    "        \"name\" : name,\n",
    "        \"price\" : price,\n",
    "        \"link\" : link,\n",
    "        \"updown\" : updown})"
   ]
  },
  {
   "cell_type": "code",
   "execution_count": 116,
   "id": "9965508d",
   "metadata": {},
   "outputs": [],
   "source": [
    "df1 = pd.DataFrame(data = total)"
   ]
  },
  {
   "cell_type": "code",
   "execution_count": 117,
   "id": "01fd6275",
   "metadata": {},
   "outputs": [
    {
     "data": {
      "text/html": [
       "<div>\n",
       "<style scoped>\n",
       "    .dataframe tbody tr th:only-of-type {\n",
       "        vertical-align: middle;\n",
       "    }\n",
       "\n",
       "    .dataframe tbody tr th {\n",
       "        vertical-align: top;\n",
       "    }\n",
       "\n",
       "    .dataframe thead th {\n",
       "        text-align: right;\n",
       "    }\n",
       "</style>\n",
       "<table border=\"1\" class=\"dataframe\">\n",
       "  <thead>\n",
       "    <tr style=\"text-align: right;\">\n",
       "      <th></th>\n",
       "      <th>name</th>\n",
       "      <th>price</th>\n",
       "      <th>link</th>\n",
       "      <th>updown</th>\n",
       "    </tr>\n",
       "  </thead>\n",
       "  <tbody>\n",
       "    <tr>\n",
       "      <th>0</th>\n",
       "      <td>다우산업</td>\n",
       "      <td>28,647.43</td>\n",
       "      <td>https://finance.naver.com/world/sise.nhn?symbo...</td>\n",
       "      <td>상한</td>\n",
       "    </tr>\n",
       "    <tr>\n",
       "      <th>1</th>\n",
       "      <td>나스닥</td>\n",
       "      <td>9,015.03</td>\n",
       "      <td>https://finance.naver.com/world/sise.nhn?symbo...</td>\n",
       "      <td>상한</td>\n",
       "    </tr>\n",
       "    <tr>\n",
       "      <th>2</th>\n",
       "      <td>홍콩H</td>\n",
       "      <td>11,320.56</td>\n",
       "      <td>https://finance.naver.com/world/sise.nhn?symbo...</td>\n",
       "      <td>상한</td>\n",
       "    </tr>\n",
       "    <tr>\n",
       "      <th>3</th>\n",
       "      <td>상해종합</td>\n",
       "      <td>3,085.20</td>\n",
       "      <td>https://finance.naver.com/world/sise.nhn?symbo...</td>\n",
       "      <td>상한</td>\n",
       "    </tr>\n",
       "    <tr>\n",
       "      <th>4</th>\n",
       "      <td>니케이225</td>\n",
       "      <td>23,656.62</td>\n",
       "      <td>https://finance.naver.com/world/sise.nhn?symbo...</td>\n",
       "      <td>하락</td>\n",
       "    </tr>\n",
       "  </tbody>\n",
       "</table>\n",
       "</div>"
      ],
      "text/plain": [
       "     name      price                                               link updown\n",
       "0    다우산업  28,647.43  https://finance.naver.com/world/sise.nhn?symbo...     상한\n",
       "1     나스닥   9,015.03  https://finance.naver.com/world/sise.nhn?symbo...     상한\n",
       "2     홍콩H  11,320.56  https://finance.naver.com/world/sise.nhn?symbo...     상한\n",
       "3    상해종합   3,085.20  https://finance.naver.com/world/sise.nhn?symbo...     상한\n",
       "4  니케이225  23,656.62  https://finance.naver.com/world/sise.nhn?symbo...     하락"
      ]
     },
     "execution_count": 117,
     "metadata": {},
     "output_type": "execute_result"
    }
   ],
   "source": [
    "df1"
   ]
  },
  {
   "cell_type": "code",
   "execution_count": null,
   "id": "bc7d1b04",
   "metadata": {},
   "outputs": [],
   "source": []
  },
  {
   "cell_type": "code",
   "execution_count": 301,
   "id": "afdedf00",
   "metadata": {},
   "outputs": [],
   "source": [
    "url2 = \"https://crawlingstudy-dd3c9.web.app/03/\""
   ]
  },
  {
   "cell_type": "code",
   "execution_count": 302,
   "id": "b98d0a03",
   "metadata": {},
   "outputs": [],
   "source": [
    "res2 = requests.get(url2)"
   ]
  },
  {
   "cell_type": "code",
   "execution_count": 303,
   "id": "298ccd59",
   "metadata": {},
   "outputs": [],
   "source": [
    "soup2 = bs(res2.text, \"html.parser\")"
   ]
  },
  {
   "cell_type": "code",
   "execution_count": 320,
   "id": "fe4899fa",
   "metadata": {},
   "outputs": [
    {
     "data": {
      "text/plain": [
       "<!DOCTYPE html>\n",
       "\n",
       "<html>\n",
       "<head>\n",
       "<meta charset=\"utf-8\"/>\n",
       "<link href=\"mystyle.css\" rel=\"stylesheet\" type=\"text/css\"/>\n",
       "<title>크롤링 연습사이트 03</title>\n",
       "</head>\n",
       "<body>\n",
       "<div class=\"title\">\n",
       "        인기검색종목\n",
       "    </div>\n",
       "<ul class=\"lst_pop\" id=\"popularItemList\">\n",
       "<li class=\"up\"><em>1.</em><a href=\"https://finance.naver.com/item/main.nhn?code=004770\">써니전자</a><span>5,000</span><img alt=\"상한\" height=\"11\" src=\"https://ssl.pstatic.net/static/nfinance/ico_up2.gif\" width=\"7\"/></li>\n",
       "<li class=\"dn\"><em>2.</em><a href=\"https://finance.naver.com/item/main.nhn?code=005930\">삼성전자</a><span>55,200</span><img alt=\"하락\" height=\"6\" src=\"https://ssl.pstatic.net/static/nfinance/ico_down.gif\" width=\"7\"/></li>\n",
       "<li class=\"up\"><em>3.</em><a href=\"https://finance.naver.com/item/main.nhn?code=053800\">안랩</a><span>81,000</span><img alt=\"상승\" height=\"6\" src=\"https://ssl.pstatic.net/static/nfinance/ico_up.gif\" width=\"7\"/></li>\n",
       "<li class=\"up\"><em>4.</em><a href=\"https://finance.naver.com/item/main.nhn?code=032500\">케이엠더블..</a><span>57,300</span><img alt=\"상승\" height=\"6\" src=\"https://ssl.pstatic.net/static/nfinance/ico_up.gif\" width=\"7\"/></li>\n",
       "<li class=\"up\"><em>5.</em><a href=\"https://finance.naver.com/item/main.nhn?code=062970\">피피아이</a><span>12,600</span><img alt=\"상한\" height=\"11\" src=\"https://ssl.pstatic.net/static/nfinance/ico_up2.gif\" width=\"7\"/></li>\n",
       "<li class=\"dn\"><em>6.</em><a href=\"https://finance.naver.com/item/main.nhn?code=033780\">KT&amp;G</a><span>92,500</span><img alt=\"하락\" height=\"6\" src=\"https://ssl.pstatic.net/static/nfinance/ico_down.gif\" width=\"7\"/></li>\n",
       "<li class=\"up\"><em>7.</em><a href=\"https://finance.naver.com/item/main.nhn?code=005935\">삼성전자우</a><span>45,600</span><img alt=\"상승\" height=\"6\" src=\"https://ssl.pstatic.net/static/nfinance/ico_up.gif\" width=\"7\"/></li>\n",
       "<li class=\"dn\"><em>8.</em><a href=\"https://finance.naver.com/item/main.nhn?code=009190\">대양금속</a><span>10,550</span><img alt=\"하한\" height=\"11\" src=\"https://ssl.pstatic.net/static/nfinance/ico_down2.gif\" width=\"7\"/></li>\n",
       "<li class=\"up\"><em>9.</em><a href=\"https://finance.naver.com/item/main.nhn?code=000660\">SK하이닉스</a><span>94,700</span><img alt=\"상승\" height=\"6\" src=\"https://ssl.pstatic.net/static/nfinance/ico_up.gif\" width=\"7\"/></li>\n",
       "<li class=\"dn\"><em>10.</em><a href=\"https://finance.naver.com/item/main.nhn?code=017670\">SK텔레콤</a><span>234,000</span><img alt=\"하락\" height=\"6\" src=\"https://ssl.pstatic.net/static/nfinance/ico_down.gif\" width=\"7\"/></li>\n",
       "</ul>\n",
       "<div class=\"title\">\n",
       "        주요해외지수\n",
       "    </div>\n",
       "<ul class=\"lst_major\">\n",
       "<li class=\"up\"><a href=\"https://finance.naver.com/world/sise.nhn?symbol=DJI@DJI&amp;fdtc=0\">다우산업</a><span>28,647.43</span><img alt=\"상한\" height=\"11\" src=\"https://ssl.pstatic.net/static/nfinance/ico_up2.gif\" width=\"7\"/></li>\n",
       "<li class=\"up\"><a href=\"https://finance.naver.com/world/sise.nhn?symbol=NAS@IXIC&amp;fdtc=0\">나스닥</a><span>9,015.03</span><img alt=\"상한\" height=\"11\" src=\"https://ssl.pstatic.net/static/nfinance/ico_up2.gif\" width=\"7\"/></li>\n",
       "<li class=\"up\"><a href=\"https://finance.naver.com/world/sise.nhn?symbol=HSI@HSCE&amp;fdtc=0\">홍콩H</a><span>11,320.56</span><img alt=\"상한\" height=\"11\" src=\"https://ssl.pstatic.net/static/nfinance/ico_up2.gif\" width=\"7\"/></li>\n",
       "<li class=\"up\"><a href=\"https://finance.naver.com/world/sise.nhn?symbol=SHS@000001&amp;fdtc=0\">상해종합</a><span>3,085.20</span><img alt=\"상한\" height=\"11\" src=\"https://ssl.pstatic.net/static/nfinance/ico_up2.gif\" width=\"7\"/></li>\n",
       "<li class=\"dn\"><a href=\"https://finance.naver.com/world/sise.nhn?symbol=NII@NI225&amp;fdtc=0\">니케이225</a><span>23,656.62</span><img alt=\"하락\" height=\"6\" src=\"https://ssl.pstatic.net/static/nfinance/ico_down.gif\" width=\"7\"/></li>\n",
       "</ul>\n",
       "<div class=\"title\">\n",
       "        분양중\n",
       "    </div>\n",
       "<ul class=\"sale_list _sale_list\">\n",
       "<li class=\"sale_item\">\n",
       "<div class=\"sale_box\">\n",
       "<div class=\"sale_tit\">\n",
       "<a href=\"#\" target=\"_blank\">H하우스장위</a>\n",
       "</div>\n",
       "<div class=\"sale_desc\">\n",
       "<img alt=\"\" class=\"thumb_img\" height=\"82\" src=\"https://search.pstatic.net/common/?src=https%3A%2F%2Flandthumb-phinf.pstatic.net%2F20200102_216%2Fisale_complex_1577947561833Uclja_JPEG%2Fuploadfile_202001025582218.jpg%3Ftype%3Dm232&amp;type=f82_82_q75\" width=\"82\"/>\n",
       "</div>\n",
       "<div class=\"sale_detail\">\n",
       "<dl class=\"detail_info\">\n",
       "<dt class=\"tit\">보증금</dt><dd class=\"txt\"><strong class=\"point\">16,000</strong> 만원</dd>\n",
       "<dt class=\"tit\">유형</dt><dd class=\"txt\">아파트<span class=\"bar\">|</span>일반민간임대</dd>\n",
       "<dt class=\"tit\">규모/면적</dt><dd class=\"txt\">분양 134세대<span class=\"bar\">|</span>45㎡~65㎡</dd>\n",
       "<dt class=\"tit\">위치</dt> <dd class=\"txt\">서울시 성북구 장위동</dd>\n",
       "</dl>\n",
       "</div>\n",
       "</div>\n",
       "</li>\n",
       "<li class=\"sale_item\">\n",
       "<div class=\"sale_box\">\n",
       "<div class=\"sale_tit\">\n",
       "<a href=\"#\" target=\"_blank\">고덕리엔파크2단지 장기전세</a>\n",
       "</div>\n",
       "<div class=\"sale_desc\">\n",
       "<img alt=\"\" class=\"thumb_img\" height=\"82\" src=\"https://search.pstatic.net/common/?src=https%3A%2F%2Flandthumb-phinf.pstatic.net%2F20110810_136%2Fisale_complex_1312968580369Yxsk9_JPEG%2Fuploadfile_201103075773845.jpg%3Ftype%3Dm232&amp;type=f82_82_q75\" width=\"82\"/>\n",
       "</div>\n",
       "<div class=\"sale_detail\">\n",
       "<dl class=\"detail_info\">\n",
       "<dt class=\"tit\">보증금</dt><dd class=\"txt\"><strong class=\"point\">38,400</strong> 만원</dd>\n",
       "<dt class=\"tit\">유형</dt><dd class=\"txt\">아파트<span class=\"bar\">|</span>장기전세주택</dd>\n",
       "<dt class=\"tit\">규모/면적</dt><dd class=\"txt\">분양 1세대<span class=\"bar\">|</span>149㎡</dd>\n",
       "<dt class=\"tit\">위치</dt> <dd class=\"txt\">서울시 강동구 강일동</dd>\n",
       "</dl>\n",
       "</div>\n",
       "</div>\n",
       "</li>\n",
       "<li class=\"sale_item\">\n",
       "<div class=\"sale_box\">\n",
       "<div class=\"sale_tit\">\n",
       "<a href=\"#\" target=\"_blank\">신정이펜하우스3단지 장기전세</a>\n",
       "</div>\n",
       "<div class=\"sale_desc\">\n",
       "<img alt=\"\" class=\"thumb_img\" height=\"82\" src=\"https://search.pstatic.net/common/?src=https%3A%2F%2Flandthumb-phinf.pstatic.net%2F20110810_260%2Fisale_complex_1312968335794i6pKe_JPEG%2Fuploadfile_201102243825127.jpg%3Ftype%3Dm232&amp;type=f82_82_q75\" width=\"82\"/>\n",
       "</div>\n",
       "<div class=\"sale_detail\">\n",
       "<dl class=\"detail_info\">\n",
       "<dt class=\"tit\">보증금</dt><dd class=\"txt\"><strong class=\"point\">39,040</strong> 만원</dd>\n",
       "<dt class=\"tit\">유형</dt><dd class=\"txt\">아파트<span class=\"bar\">|</span>장기전세주택</dd>\n",
       "<dt class=\"tit\">규모/면적</dt><dd class=\"txt\">분양 1세대<span class=\"bar\">|</span>148㎡</dd>\n",
       "<dt class=\"tit\">위치</dt> <dd class=\"txt\">서울시 양천구 신정동</dd>\n",
       "</dl>\n",
       "</div>\n",
       "</div>\n",
       "</li>\n",
       "<li class=\"sale_item\">\n",
       "<div class=\"sale_box\">\n",
       "<div class=\"sale_tit\">\n",
       "<a href=\"#\" target=\"_blank\">천왕이펜하우스2단지 장기전세</a>\n",
       "</div>\n",
       "<div class=\"sale_desc\">\n",
       "<img alt=\"\" class=\"thumb_img\" height=\"82\" src=\"https://search.pstatic.net/common/?src=https%3A%2F%2Flandthumb-phinf.pstatic.net%2F20110810_35%2Fisale_complex_1312968350479SO2pI_JPEG%2Fuploadfile_201102244996257.jpg%3Ftype%3Dm232&amp;type=f82_82_q75\" width=\"82\"/>\n",
       "</div>\n",
       "<div class=\"sale_detail\">\n",
       "<dl class=\"detail_info\">\n",
       "<dt class=\"tit\">보증금</dt><dd class=\"txt\"><strong class=\"point\">38,240</strong> 만원</dd>\n",
       "<dt class=\"tit\">유형</dt><dd class=\"txt\">아파트<span class=\"bar\">|</span>장기전세주택</dd>\n",
       "<dt class=\"tit\">규모/면적</dt><dd class=\"txt\">분양 1세대<span class=\"bar\">|</span>142㎡</dd>\n",
       "<dt class=\"tit\">위치</dt> <dd class=\"txt\">서울시 구로구 오류동</dd>\n",
       "</dl>\n",
       "</div>\n",
       "</div>\n",
       "</li>\n",
       "<li class=\"sale_item\">\n",
       "<div class=\"sale_box\">\n",
       "<div class=\"sale_tit\">\n",
       "<a href=\"#\" target=\"_blank\">송파파크데일2단지 장기전세</a>\n",
       "</div>\n",
       "<div class=\"sale_desc\">\n",
       "<img alt=\"\" class=\"thumb_img\" height=\"82\" src=\"https://search.pstatic.net/common/?src=https%3A%2F%2Flandthumb-phinf.pstatic.net%2F20110810_211%2Fisale_complex_1312968571650Iusoz_JPEG%2Fuploadfile_201103074989552.jpg%3Ftype%3Dm232&amp;type=f82_82_q75\" width=\"82\"/>\n",
       "</div>\n",
       "<div class=\"sale_detail\">\n",
       "<dl class=\"detail_info\">\n",
       "<dt class=\"tit\">보증금</dt><dd class=\"txt\"><strong class=\"point\">45,600</strong> 만원</dd>\n",
       "<dt class=\"tit\">유형</dt><dd class=\"txt\">아파트<span class=\"bar\">|</span>장기전세주택</dd>\n",
       "<dt class=\"tit\">규모/면적</dt><dd class=\"txt\">분양 1세대<span class=\"bar\">|</span>150㎡</dd>\n",
       "<dt class=\"tit\">위치</dt> <dd class=\"txt\">서울시 송파구 마천동</dd>\n",
       "</dl>\n",
       "</div>\n",
       "</div>\n",
       "</li>\n",
       "</ul></body>\n",
       "</html>"
      ]
     },
     "execution_count": 320,
     "metadata": {},
     "output_type": "execute_result"
    }
   ],
   "source": [
    "soup2"
   ]
  },
  {
   "cell_type": "code",
   "execution_count": 360,
   "id": "22676830",
   "metadata": {},
   "outputs": [],
   "source": [
    "result2 = soup2.select('div.sale_box >div')"
   ]
  },
  {
   "cell_type": "code",
   "execution_count": 387,
   "id": "c0a18eed",
   "metadata": {
    "scrolled": false
   },
   "outputs": [
    {
     "data": {
      "text/plain": [
       "[<div class=\"sale_tit\">\n",
       " <a href=\"#\" target=\"_blank\">H하우스장위</a>\n",
       " </div>,\n",
       " <div class=\"sale_desc\">\n",
       " <img alt=\"\" class=\"thumb_img\" height=\"82\" src=\"https://search.pstatic.net/common/?src=https%3A%2F%2Flandthumb-phinf.pstatic.net%2F20200102_216%2Fisale_complex_1577947561833Uclja_JPEG%2Fuploadfile_202001025582218.jpg%3Ftype%3Dm232&amp;type=f82_82_q75\" width=\"82\"/>\n",
       " </div>,\n",
       " <div class=\"sale_detail\">\n",
       " <dl class=\"detail_info\">\n",
       " <dt class=\"tit\">보증금</dt><dd class=\"txt\"><strong class=\"point\">16,000</strong> 만원</dd>\n",
       " <dt class=\"tit\">유형</dt><dd class=\"txt\">아파트<span class=\"bar\">|</span>일반민간임대</dd>\n",
       " <dt class=\"tit\">규모/면적</dt><dd class=\"txt\">분양 134세대<span class=\"bar\">|</span>45㎡~65㎡</dd>\n",
       " <dt class=\"tit\">위치</dt> <dd class=\"txt\">서울시 성북구 장위동</dd>\n",
       " </dl>\n",
       " </div>,\n",
       " <div class=\"sale_tit\">\n",
       " <a href=\"#\" target=\"_blank\">고덕리엔파크2단지 장기전세</a>\n",
       " </div>,\n",
       " <div class=\"sale_desc\">\n",
       " <img alt=\"\" class=\"thumb_img\" height=\"82\" src=\"https://search.pstatic.net/common/?src=https%3A%2F%2Flandthumb-phinf.pstatic.net%2F20110810_136%2Fisale_complex_1312968580369Yxsk9_JPEG%2Fuploadfile_201103075773845.jpg%3Ftype%3Dm232&amp;type=f82_82_q75\" width=\"82\"/>\n",
       " </div>,\n",
       " <div class=\"sale_detail\">\n",
       " <dl class=\"detail_info\">\n",
       " <dt class=\"tit\">보증금</dt><dd class=\"txt\"><strong class=\"point\">38,400</strong> 만원</dd>\n",
       " <dt class=\"tit\">유형</dt><dd class=\"txt\">아파트<span class=\"bar\">|</span>장기전세주택</dd>\n",
       " <dt class=\"tit\">규모/면적</dt><dd class=\"txt\">분양 1세대<span class=\"bar\">|</span>149㎡</dd>\n",
       " <dt class=\"tit\">위치</dt> <dd class=\"txt\">서울시 강동구 강일동</dd>\n",
       " </dl>\n",
       " </div>,\n",
       " <div class=\"sale_tit\">\n",
       " <a href=\"#\" target=\"_blank\">신정이펜하우스3단지 장기전세</a>\n",
       " </div>,\n",
       " <div class=\"sale_desc\">\n",
       " <img alt=\"\" class=\"thumb_img\" height=\"82\" src=\"https://search.pstatic.net/common/?src=https%3A%2F%2Flandthumb-phinf.pstatic.net%2F20110810_260%2Fisale_complex_1312968335794i6pKe_JPEG%2Fuploadfile_201102243825127.jpg%3Ftype%3Dm232&amp;type=f82_82_q75\" width=\"82\"/>\n",
       " </div>,\n",
       " <div class=\"sale_detail\">\n",
       " <dl class=\"detail_info\">\n",
       " <dt class=\"tit\">보증금</dt><dd class=\"txt\"><strong class=\"point\">39,040</strong> 만원</dd>\n",
       " <dt class=\"tit\">유형</dt><dd class=\"txt\">아파트<span class=\"bar\">|</span>장기전세주택</dd>\n",
       " <dt class=\"tit\">규모/면적</dt><dd class=\"txt\">분양 1세대<span class=\"bar\">|</span>148㎡</dd>\n",
       " <dt class=\"tit\">위치</dt> <dd class=\"txt\">서울시 양천구 신정동</dd>\n",
       " </dl>\n",
       " </div>,\n",
       " <div class=\"sale_tit\">\n",
       " <a href=\"#\" target=\"_blank\">천왕이펜하우스2단지 장기전세</a>\n",
       " </div>,\n",
       " <div class=\"sale_desc\">\n",
       " <img alt=\"\" class=\"thumb_img\" height=\"82\" src=\"https://search.pstatic.net/common/?src=https%3A%2F%2Flandthumb-phinf.pstatic.net%2F20110810_35%2Fisale_complex_1312968350479SO2pI_JPEG%2Fuploadfile_201102244996257.jpg%3Ftype%3Dm232&amp;type=f82_82_q75\" width=\"82\"/>\n",
       " </div>,\n",
       " <div class=\"sale_detail\">\n",
       " <dl class=\"detail_info\">\n",
       " <dt class=\"tit\">보증금</dt><dd class=\"txt\"><strong class=\"point\">38,240</strong> 만원</dd>\n",
       " <dt class=\"tit\">유형</dt><dd class=\"txt\">아파트<span class=\"bar\">|</span>장기전세주택</dd>\n",
       " <dt class=\"tit\">규모/면적</dt><dd class=\"txt\">분양 1세대<span class=\"bar\">|</span>142㎡</dd>\n",
       " <dt class=\"tit\">위치</dt> <dd class=\"txt\">서울시 구로구 오류동</dd>\n",
       " </dl>\n",
       " </div>,\n",
       " <div class=\"sale_tit\">\n",
       " <a href=\"#\" target=\"_blank\">송파파크데일2단지 장기전세</a>\n",
       " </div>,\n",
       " <div class=\"sale_desc\">\n",
       " <img alt=\"\" class=\"thumb_img\" height=\"82\" src=\"https://search.pstatic.net/common/?src=https%3A%2F%2Flandthumb-phinf.pstatic.net%2F20110810_211%2Fisale_complex_1312968571650Iusoz_JPEG%2Fuploadfile_201103074989552.jpg%3Ftype%3Dm232&amp;type=f82_82_q75\" width=\"82\"/>\n",
       " </div>,\n",
       " <div class=\"sale_detail\">\n",
       " <dl class=\"detail_info\">\n",
       " <dt class=\"tit\">보증금</dt><dd class=\"txt\"><strong class=\"point\">45,600</strong> 만원</dd>\n",
       " <dt class=\"tit\">유형</dt><dd class=\"txt\">아파트<span class=\"bar\">|</span>장기전세주택</dd>\n",
       " <dt class=\"tit\">규모/면적</dt><dd class=\"txt\">분양 1세대<span class=\"bar\">|</span>150㎡</dd>\n",
       " <dt class=\"tit\">위치</dt> <dd class=\"txt\">서울시 송파구 마천동</dd>\n",
       " </dl>\n",
       " </div>]"
      ]
     },
     "execution_count": 387,
     "metadata": {},
     "output_type": "execute_result"
    }
   ],
   "source": [
    "result2"
   ]
  },
  {
   "cell_type": "code",
   "execution_count": 311,
   "id": "e032f3e0",
   "metadata": {},
   "outputs": [
    {
     "ename": "TypeError",
     "evalue": "'NoneType' object is not subscriptable",
     "output_type": "error",
     "traceback": [
      "\u001b[1;31m---------------------------------------------------------------------------\u001b[0m",
      "\u001b[1;31mTypeError\u001b[0m                                 Traceback (most recent call last)",
      "\u001b[1;32m~\\AppData\\Local\\Temp\\ipykernel_17788\\479637721.py\u001b[0m in \u001b[0;36m<module>\u001b[1;34m\u001b[0m\n\u001b[0;32m      1\u001b[0m \u001b[1;32mfor\u001b[0m \u001b[0ma\u001b[0m \u001b[1;32min\u001b[0m \u001b[0mresult2\u001b[0m\u001b[1;33m:\u001b[0m\u001b[1;33m\u001b[0m\u001b[1;33m\u001b[0m\u001b[0m\n\u001b[0;32m      2\u001b[0m     \u001b[0mhead\u001b[0m \u001b[1;33m=\u001b[0m \u001b[0ma\u001b[0m\u001b[1;33m.\u001b[0m\u001b[0mselect_one\u001b[0m\u001b[1;33m(\u001b[0m\u001b[1;34m'.sale_tit a'\u001b[0m\u001b[1;33m)\u001b[0m\u001b[1;33m.\u001b[0m\u001b[0mtext\u001b[0m\u001b[1;33m\u001b[0m\u001b[1;33m\u001b[0m\u001b[0m\n\u001b[1;32m----> 3\u001b[1;33m     \u001b[0mprice\u001b[0m \u001b[1;33m=\u001b[0m \u001b[0ma\u001b[0m\u001b[1;33m.\u001b[0m\u001b[0mselect_one\u001b[0m\u001b[1;33m(\u001b[0m\u001b[1;34m'.detail_info tit'\u001b[0m\u001b[1;33m)\u001b[0m\u001b[1;33m[\u001b[0m\u001b[1;36m0\u001b[0m\u001b[1;33m]\u001b[0m\u001b[1;33m.\u001b[0m\u001b[0mtext\u001b[0m\u001b[1;33m\u001b[0m\u001b[1;33m\u001b[0m\u001b[0m\n\u001b[0m\u001b[0;32m      4\u001b[0m     \u001b[0msort\u001b[0m \u001b[1;33m=\u001b[0m \u001b[0ma\u001b[0m\u001b[1;33m.\u001b[0m\u001b[0mselect_one\u001b[0m\u001b[1;33m(\u001b[0m\u001b[1;34m'.detail_info tit'\u001b[0m\u001b[1;33m)\u001b[0m\u001b[1;33m[\u001b[0m\u001b[1;36m1\u001b[0m\u001b[1;33m]\u001b[0m\u001b[1;33m.\u001b[0m\u001b[0mtext\u001b[0m\u001b[1;33m\u001b[0m\u001b[1;33m\u001b[0m\u001b[0m\n\u001b[0;32m      5\u001b[0m     \u001b[0msize\u001b[0m \u001b[1;33m=\u001b[0m \u001b[0ma\u001b[0m\u001b[1;33m.\u001b[0m\u001b[0mselect_one\u001b[0m\u001b[1;33m(\u001b[0m\u001b[1;34m'.detail_info tit'\u001b[0m\u001b[1;33m)\u001b[0m\u001b[1;33m[\u001b[0m\u001b[1;36m2\u001b[0m\u001b[1;33m]\u001b[0m\u001b[1;33m.\u001b[0m\u001b[0mtext\u001b[0m\u001b[1;33m\u001b[0m\u001b[1;33m\u001b[0m\u001b[0m\n",
      "\u001b[1;31mTypeError\u001b[0m: 'NoneType' object is not subscriptable"
     ]
    }
   ],
   "source": [
    "for a in result2:\n",
    "    head = soup2.select('div.sale_tit')\n",
    "    price = a.select_one('.detail_info tit')[0].text\n",
    "    sort = a.select_one('.detail_info tit')[1].text\n",
    "    size = a.select_one('.detail_info tit')[2].text\n",
    "    position = a.select_one('.detail_info tit')[3].text\n",
    "    print(head, price, sort,size,position)"
   ]
  },
  {
   "cell_type": "code",
   "execution_count": null,
   "id": "f315253d",
   "metadata": {},
   "outputs": [],
   "source": []
  }
 ],
 "metadata": {
  "kernelspec": {
   "display_name": "Python 3 (ipykernel)",
   "language": "python",
   "name": "python3"
  },
  "language_info": {
   "codemirror_mode": {
    "name": "ipython",
    "version": 3
   },
   "file_extension": ".py",
   "mimetype": "text/x-python",
   "name": "python",
   "nbconvert_exporter": "python",
   "pygments_lexer": "ipython3",
   "version": "3.9.13"
  }
 },
 "nbformat": 4,
 "nbformat_minor": 5
}
