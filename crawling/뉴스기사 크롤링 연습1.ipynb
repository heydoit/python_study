{
 "cells": [
  {
   "cell_type": "code",
   "execution_count": 129,
   "id": "229c50de",
   "metadata": {},
   "outputs": [],
   "source": [
    "import requests\n",
    "from bs4  import BeautifulSoup as bs"
   ]
  },
  {
   "cell_type": "code",
   "execution_count": 130,
   "id": "4e9b78ed",
   "metadata": {},
   "outputs": [],
   "source": [
    "url = \"https://finance.naver.com/news/news_list.naver?mode=LSS2D&section_id=101&section_id2=258\""
   ]
  },
  {
   "cell_type": "code",
   "execution_count": 131,
   "id": "c9b3a442",
   "metadata": {},
   "outputs": [],
   "source": [
    "headers = {\n",
    "    \"user-agent\": \"Mozilla/5.0 (Windows NT 10.0; Win64; x64) AppleWebKit/537.36 (KHTML, like Gecko) Chrome/107.0.0.0 Safari/537.36\"\n",
    "    \n",
    "}"
   ]
  },
  {
   "cell_type": "code",
   "execution_count": 132,
   "id": "93dcceb8",
   "metadata": {},
   "outputs": [],
   "source": [
    "res = requests.get(url, headers = headers)"
   ]
  },
  {
   "cell_type": "code",
   "execution_count": 133,
   "id": "a31d44f6",
   "metadata": {},
   "outputs": [],
   "source": [
    "soup = bs(res.text, \"html.parser\")"
   ]
  },
  {
   "cell_type": "code",
   "execution_count": 144,
   "id": "1e556fe8",
   "metadata": {},
   "outputs": [],
   "source": [
    "tlt = soup.select(\"dd.articleSubject > a\")"
   ]
  },
  {
   "cell_type": "code",
   "execution_count": 156,
   "id": "b63008e9",
   "metadata": {
    "scrolled": false
   },
   "outputs": [
    {
     "data": {
      "text/plain": [
       "[<a href=\"/news/news_read.naver?article_id=0013598790&amp;office_id=001&amp;mode=LSS2D&amp;type=0§ion_id=101§ion_id2=258§ion_id3=&amp;date=20221124&amp;page=1\" title='[일문일답] 이창용 \"단기자금시장 불안…한은도 필요한 역할 할 것\"'>[일문일답] 이창용 \"단기자금시장 불안…한은도 필요한 역할 할 것\"</a>,\n",
       " <a href=\"/news/news_read.naver?article_id=0005374104&amp;office_id=018&amp;mode=LSS2D&amp;type=0§ion_id=101§ion_id2=258§ion_id3=&amp;date=20221124&amp;page=1\" title=\"(영상)테슬라 비관론자의 변심...“빠질만큼 빠졌다”\">(영상)테슬라 비관론자의 변심...“빠질만큼 빠졌다”</a>,\n",
       " <a href=\"/news/news_read.naver?article_id=0005182447&amp;office_id=277&amp;mode=LSS2D&amp;type=0§ion_id=101§ion_id2=258§ion_id3=&amp;date=20221124&amp;page=1\" title=\"삼성전자 아직 바닥 아니다?\">삼성전자 아직 바닥 아니다?</a>,\n",
       " <a href=\"/news/news_read.naver?article_id=0001067668&amp;office_id=215&amp;mode=LSS2D&amp;type=0§ion_id=101§ion_id2=258§ion_id3=&amp;date=20221124&amp;page=1\" title='\"소로스는 늘리고 버핏은 줄이고\"...월가 전설의 엇갈린 전기車 투자'>\"소로스는 늘리고 버핏은 줄이고\"...월가 전설의 엇갈린 전기車 투자</a>,\n",
       " <a href=\"/news/news_read.naver?article_id=0000709327&amp;office_id=469&amp;mode=LSS2D&amp;type=0§ion_id=101§ion_id2=258§ion_id3=&amp;date=20221124&amp;page=1\" title=\"보험 들면 스마트워치 받는다… 선물 한도 3만→20만 원\">보험 들면 스마트워치 받는다… 선물 한도 3만→20만 원</a>,\n",
       " <a href=\"/news/news_read.naver?article_id=0005374099&amp;office_id=018&amp;mode=LSS2D&amp;type=0§ion_id=101§ion_id2=258§ion_id3=&amp;date=20221124&amp;page=1\" title=\"코스피 장 중 2340 터치…외인·기관 동반 '사자'\">코스피 장 중 2340 터치…외인·기관 동반 '사자'</a>,\n",
       " <a href=\"/news/news_read.naver?article_id=0002661019&amp;office_id=119&amp;mode=LSS2D&amp;type=0§ion_id=101§ion_id2=258§ion_id3=&amp;date=20221124&amp;page=1\" title=\"KB證, 업라이즈투자자문과 로보어드바이저 서비스 시작\">KB證, 업라이즈투자자문과 로보어드바이저 서비스 시작</a>,\n",
       " <a href=\"/news/news_read.naver?article_id=0005050134&amp;office_id=009&amp;mode=LSS2D&amp;type=0§ion_id=101§ion_id2=258§ion_id3=&amp;date=20221124&amp;page=1\" title=\"한은, 경기둔화 언급하며 ‘베이비스텝’…美연준서도 속도조절론 [이종화의 세돌아이]\">한은, 경기둔화 언급하며 ‘베이비스텝’…美연준서도 속도조절론 [이종화의 세돌아이]</a>,\n",
       " <a href=\"/news/news_read.naver?article_id=0005050133&amp;office_id=009&amp;mode=LSS2D&amp;type=0§ion_id=101§ion_id2=258§ion_id3=&amp;date=20221124&amp;page=1\" title=\"삼정KPMG, 29일 ‘제7회 IPO 성공전략 세미나‘ 개최\">삼정KPMG, 29일 ‘제7회 IPO 성공전략 세미나‘ 개최</a>,\n",
       " <a href=\"/news/news_read.naver?article_id=0003061529&amp;office_id=030&amp;mode=LSS2D&amp;type=0§ion_id=101§ion_id2=258§ion_id3=&amp;date=20221124&amp;page=1\" title=\"한은, 기준금리 0.25%p 인상...성장률 1.7%로 하향\">한은, 기준금리 0.25%p 인상...성장률 1.7%로 하향</a>,\n",
       " <a href=\"/news/news_read.naver?article_id=0004821844&amp;office_id=008&amp;mode=LSS2D&amp;type=0§ion_id=101§ion_id2=258§ion_id3=&amp;date=20221124&amp;page=1\" title=\"산돌, 주주친화적 배당 발표… '당기순이익 15% 이상 현금배당'\">산돌, 주주친화적 배당 발표… '당기순이익 15% 이상 현금배당'</a>,\n",
       " <a href=\"/news/news_read.naver?article_id=0002661011&amp;office_id=119&amp;mode=LSS2D&amp;type=0§ion_id=101§ion_id2=258§ion_id3=&amp;date=20221124&amp;page=1\" title=\"NH투자증권, 2023년 전망 'NH 인베스트먼트 포럼' 성료\">NH투자증권, 2023년 전망 'NH 인베스트먼트 포럼' 성료</a>,\n",
       " <a href=\"/news/news_read.naver?article_id=0004126059&amp;office_id=011&amp;mode=LSS2D&amp;type=0§ion_id=101§ion_id2=258§ion_id3=&amp;date=20221124&amp;page=1\" title=\"한국에자이, 한국노인종합복지관협회와 업무협약 체결\">한국에자이, 한국노인종합복지관협회와 업무협약 체결</a>,\n",
       " <a href=\"/news/news_read.naver?article_id=0004126058&amp;office_id=011&amp;mode=LSS2D&amp;type=0§ion_id=101§ion_id2=258§ion_id3=&amp;date=20221124&amp;page=1\" title=\"최대 14년 전세… 군산 신역세권 ‘영무파라드 라이브시티’ 11월 30일 오픈 예정\">최대 14년 전세… 군산 신역세권 ‘영무파라드 라이브시티’ 11월 30일 오픈 예정</a>,\n",
       " <a href=\"/news/news_read.naver?article_id=0004126057&amp;office_id=011&amp;mode=LSS2D&amp;type=0§ion_id=101§ion_id2=258§ion_id3=&amp;date=20221124&amp;page=1\" title=\"사전예약 마감 행진…유아동 교육 ‘슈퍼브이’ 론칭 앞둬\">사전예약 마감 행진…유아동 교육 ‘슈퍼브이’ 론칭 앞둬</a>,\n",
       " <a href=\"/news/news_read.naver?article_id=0003061526&amp;office_id=030&amp;mode=LSS2D&amp;type=0§ion_id=101§ion_id2=258§ion_id3=&amp;date=20221124&amp;page=1\" title=\"프로비트, 가상자산 상장심사 강화…상장위원회에 외부인원 포함\">프로비트, 가상자산 상장심사 강화…상장위원회에 외부인원 포함</a>,\n",
       " <a href=\"/news/news_read.naver?article_id=0000011947&amp;office_id=648&amp;mode=LSS2D&amp;type=0§ion_id=101§ion_id2=258§ion_id3=&amp;date=20221124&amp;page=1\" title=\"삼성전자, 직접 키운 스타트업과의 동행 늘린다\">삼성전자, 직접 키운 스타트업과의 동행 늘린다</a>]"
      ]
     },
     "execution_count": 156,
     "metadata": {},
     "output_type": "execute_result"
    }
   ],
   "source": [
    "tlt"
   ]
  },
  {
   "cell_type": "code",
   "execution_count": 158,
   "id": "8238c7f0",
   "metadata": {
    "scrolled": true
   },
   "outputs": [
    {
     "data": {
      "text/plain": [
       "'[일문일답] 이창용 \"단기자금시장 불안…한은도 필요한 역할 할 것\"'"
      ]
     },
     "execution_count": 158,
     "metadata": {},
     "output_type": "execute_result"
    }
   ],
   "source": [
    "tlt[0].text.strip()"
   ]
  },
  {
   "cell_type": "code",
   "execution_count": 159,
   "id": "f1a29ce9",
   "metadata": {
    "scrolled": false
   },
   "outputs": [
    {
     "data": {
      "text/plain": [
       "'http://naver.com/news/news_read.naver?article_id=0013598790&office_id=001&mode=LSS2D&type=0§ion_id=101§ion_id2=258§ion_id3=&date=20221124&page=1'"
      ]
     },
     "execution_count": 159,
     "metadata": {},
     "output_type": "execute_result"
    }
   ],
   "source": [
    "\"http://naver.com\" + tlt[0][\"href\"]"
   ]
  },
  {
   "cell_type": "code",
   "execution_count": 170,
   "id": "9927f6af",
   "metadata": {},
   "outputs": [
    {
     "name": "stdout",
     "output_type": "stream",
     "text": [
      "헤드라인 : [일문일답] 이창용 \"단기자금시장 불안…한은도 필요한 역할 할 것\"\n",
      "링크 : http://naver.com/news/news_read.naver?article_id=0013598790&office_id=001&mode=LSS2D&type=0§ion_id=101§ion_id2=258§ion_id3=&date=20221124&page=1\n",
      "----------------------------------------------------------------------------------------------------\n",
      "헤드라인 : (영상)테슬라 비관론자의 변심...“빠질만큼 빠졌다”\n",
      "링크 : http://naver.com/news/news_read.naver?article_id=0005374104&office_id=018&mode=LSS2D&type=0§ion_id=101§ion_id2=258§ion_id3=&date=20221124&page=1\n",
      "----------------------------------------------------------------------------------------------------\n",
      "헤드라인 : 삼성전자 아직 바닥 아니다?\n",
      "링크 : http://naver.com/news/news_read.naver?article_id=0005182447&office_id=277&mode=LSS2D&type=0§ion_id=101§ion_id2=258§ion_id3=&date=20221124&page=1\n",
      "----------------------------------------------------------------------------------------------------\n",
      "헤드라인 : \"소로스는 늘리고 버핏은 줄이고\"...월가 전설의 엇갈린 전기車 투자\n",
      "링크 : http://naver.com/news/news_read.naver?article_id=0001067668&office_id=215&mode=LSS2D&type=0§ion_id=101§ion_id2=258§ion_id3=&date=20221124&page=1\n",
      "----------------------------------------------------------------------------------------------------\n",
      "헤드라인 : 보험 들면 스마트워치 받는다… 선물 한도 3만→20만 원\n",
      "링크 : http://naver.com/news/news_read.naver?article_id=0000709327&office_id=469&mode=LSS2D&type=0§ion_id=101§ion_id2=258§ion_id3=&date=20221124&page=1\n",
      "----------------------------------------------------------------------------------------------------\n",
      "헤드라인 : 코스피 장 중 2340 터치…외인·기관 동반 '사자'\n",
      "링크 : http://naver.com/news/news_read.naver?article_id=0005374099&office_id=018&mode=LSS2D&type=0§ion_id=101§ion_id2=258§ion_id3=&date=20221124&page=1\n",
      "----------------------------------------------------------------------------------------------------\n",
      "헤드라인 : KB證, 업라이즈투자자문과 로보어드바이저 서비스 시작\n",
      "링크 : http://naver.com/news/news_read.naver?article_id=0002661019&office_id=119&mode=LSS2D&type=0§ion_id=101§ion_id2=258§ion_id3=&date=20221124&page=1\n",
      "----------------------------------------------------------------------------------------------------\n",
      "헤드라인 : 한은, 경기둔화 언급하며 ‘베이비스텝’…美연준서도 속도조절론 [이종화의 세돌아이]\n",
      "링크 : http://naver.com/news/news_read.naver?article_id=0005050134&office_id=009&mode=LSS2D&type=0§ion_id=101§ion_id2=258§ion_id3=&date=20221124&page=1\n",
      "----------------------------------------------------------------------------------------------------\n",
      "헤드라인 : 삼정KPMG, 29일 ‘제7회 IPO 성공전략 세미나‘ 개최\n",
      "링크 : http://naver.com/news/news_read.naver?article_id=0005050133&office_id=009&mode=LSS2D&type=0§ion_id=101§ion_id2=258§ion_id3=&date=20221124&page=1\n",
      "----------------------------------------------------------------------------------------------------\n",
      "헤드라인 : 한은, 기준금리 0.25%p 인상...성장률 1.7%로 하향\n",
      "링크 : http://naver.com/news/news_read.naver?article_id=0003061529&office_id=030&mode=LSS2D&type=0§ion_id=101§ion_id2=258§ion_id3=&date=20221124&page=1\n",
      "----------------------------------------------------------------------------------------------------\n",
      "헤드라인 : 산돌, 주주친화적 배당 발표… '당기순이익 15% 이상 현금배당'\n",
      "링크 : http://naver.com/news/news_read.naver?article_id=0004821844&office_id=008&mode=LSS2D&type=0§ion_id=101§ion_id2=258§ion_id3=&date=20221124&page=1\n",
      "----------------------------------------------------------------------------------------------------\n",
      "헤드라인 : NH투자증권, 2023년 전망 'NH 인베스트먼트 포럼' 성료\n",
      "링크 : http://naver.com/news/news_read.naver?article_id=0002661011&office_id=119&mode=LSS2D&type=0§ion_id=101§ion_id2=258§ion_id3=&date=20221124&page=1\n",
      "----------------------------------------------------------------------------------------------------\n",
      "헤드라인 : 한국에자이, 한국노인종합복지관협회와 업무협약 체결\n",
      "링크 : http://naver.com/news/news_read.naver?article_id=0004126059&office_id=011&mode=LSS2D&type=0§ion_id=101§ion_id2=258§ion_id3=&date=20221124&page=1\n",
      "----------------------------------------------------------------------------------------------------\n",
      "헤드라인 : 최대 14년 전세… 군산 신역세권 ‘영무파라드 라이브시티’ 11월 30일 오픈 예정\n",
      "링크 : http://naver.com/news/news_read.naver?article_id=0004126058&office_id=011&mode=LSS2D&type=0§ion_id=101§ion_id2=258§ion_id3=&date=20221124&page=1\n",
      "----------------------------------------------------------------------------------------------------\n",
      "헤드라인 : 사전예약 마감 행진…유아동 교육 ‘슈퍼브이’ 론칭 앞둬\n",
      "링크 : http://naver.com/news/news_read.naver?article_id=0004126057&office_id=011&mode=LSS2D&type=0§ion_id=101§ion_id2=258§ion_id3=&date=20221124&page=1\n",
      "----------------------------------------------------------------------------------------------------\n",
      "헤드라인 : 프로비트, 가상자산 상장심사 강화…상장위원회에 외부인원 포함\n",
      "링크 : http://naver.com/news/news_read.naver?article_id=0003061526&office_id=030&mode=LSS2D&type=0§ion_id=101§ion_id2=258§ion_id3=&date=20221124&page=1\n",
      "----------------------------------------------------------------------------------------------------\n",
      "헤드라인 : 삼성전자, 직접 키운 스타트업과의 동행 늘린다\n",
      "링크 : http://naver.com/news/news_read.naver?article_id=0000011947&office_id=648&mode=LSS2D&type=0§ion_id=101§ion_id2=258§ion_id3=&date=20221124&page=1\n",
      "----------------------------------------------------------------------------------------------------\n"
     ]
    }
   ],
   "source": [
    "for i in tlt:\n",
    "    title = i.text\n",
    "    link = \"http://naver.com\" + i['href'] \n",
    "    print('헤드라인 :',  title)\n",
    "    print('링크 :', link)\n",
    "    print('-'*100)"
   ]
  },
  {
   "cell_type": "code",
   "execution_count": null,
   "id": "381674ae",
   "metadata": {},
   "outputs": [],
   "source": []
  }
 ],
 "metadata": {
  "kernelspec": {
   "display_name": "Python 3 (ipykernel)",
   "language": "python",
   "name": "python3"
  },
  "language_info": {
   "codemirror_mode": {
    "name": "ipython",
    "version": 3
   },
   "file_extension": ".py",
   "mimetype": "text/x-python",
   "name": "python",
   "nbconvert_exporter": "python",
   "pygments_lexer": "ipython3",
   "version": "3.9.13"
  }
 },
 "nbformat": 4,
 "nbformat_minor": 5
}
