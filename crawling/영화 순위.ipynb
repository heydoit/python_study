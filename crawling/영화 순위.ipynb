{
 "cells": [
  {
   "cell_type": "code",
   "execution_count": 235,
   "id": "e2935bc0",
   "metadata": {},
   "outputs": [],
   "source": [
    "import requests\n",
    "from bs4 import BeautifulSoup as bs\n",
    "import pandas as pd"
   ]
  },
  {
   "cell_type": "code",
   "execution_count": 236,
   "id": "dc17e7d8",
   "metadata": {},
   "outputs": [],
   "source": [
    "url = 'https://movie.naver.com/movie/sdb/rank/rmovie.naver'"
   ]
  },
  {
   "cell_type": "code",
   "execution_count": 237,
   "id": "bfc7ce89",
   "metadata": {},
   "outputs": [],
   "source": [
    "headers = ({\n",
    "    \"user-agent\": \"Mozilla/5.0 (Windows NT 10.0; Win64; x64) AppleWebKit/537.36 (KHTML, like Gecko) Chrome/107.0.0.0 Safari/537.36\"\n",
    "    \n",
    "})"
   ]
  },
  {
   "cell_type": "code",
   "execution_count": 238,
   "id": "b452ee9f",
   "metadata": {},
   "outputs": [],
   "source": [
    "res = requests.get(url, headers = headers)"
   ]
  },
  {
   "cell_type": "code",
   "execution_count": 239,
   "id": "a0a39a8d",
   "metadata": {},
   "outputs": [
    {
     "data": {
      "text/plain": [
       "<Response [200]>"
      ]
     },
     "execution_count": 239,
     "metadata": {},
     "output_type": "execute_result"
    }
   ],
   "source": [
    "res"
   ]
  },
  {
   "cell_type": "code",
   "execution_count": 240,
   "id": "6636ab09",
   "metadata": {},
   "outputs": [],
   "source": [
    "soup = bs(res.text, \"html.parser\")"
   ]
  },
  {
   "cell_type": "code",
   "execution_count": 249,
   "id": "fb351a28",
   "metadata": {},
   "outputs": [],
   "source": [
    "movies = soup.select('tr > td > div >a')"
   ]
  },
  {
   "cell_type": "code",
   "execution_count": 250,
   "id": "f5f98350",
   "metadata": {},
   "outputs": [
    {
     "data": {
      "text/plain": [
       "[<a href=\"/movie/bi/mi/basic.naver?code=184516\" title=\"블랙 팬서: 와칸다 포에버\">블랙 팬서: 와칸다 포에버</a>,\n",
       " <a href=\"/movie/bi/mi/basic.naver?code=205027\" title=\"데시벨\">데시벨</a>,\n",
       " <a href=\"/movie/bi/mi/basic.naver?code=222301\" title=\"올빼미\">올빼미</a>,\n",
       " <a href=\"/movie/bi/mi/basic.naver?code=215970\" title=\"동감\">동감</a>,\n",
       " <a href=\"/movie/bi/mi/basic.naver?code=220613\" title=\"폴: 600미터\">폴: 600미터</a>,\n",
       " <a href=\"/movie/bi/mi/basic.naver?code=191430\" title=\"자백\">자백</a>,\n",
       " <a href=\"/movie/bi/mi/basic.naver?code=219402\" title=\"에브리씽 에브리웨어 올 앳 원스\">에브리씽 에브리웨어 올 앳 원스</a>,\n",
       " <a href=\"/movie/bi/mi/basic.naver?code=190694\" title=\"블랙 아담\">블랙 아담</a>,\n",
       " <a href=\"/movie/bi/mi/basic.naver?code=223816\" title=\"한산 리덕스\">한산 리덕스</a>,\n",
       " <a href=\"/movie/bi/mi/basic.naver?code=191657\" title=\"리멤버\">리멤버</a>,\n",
       " <a href=\"/movie/bi/mi/basic.naver?code=187821\" title=\"인생은 아름다워\">인생은 아름다워</a>,\n",
       " <a href=\"/movie/bi/mi/basic.naver?code=218049\" title=\"고속도로 가족\">고속도로 가족</a>,\n",
       " <a href=\"/movie/bi/mi/basic.naver?code=222541\" title=\"유포자들\">유포자들</a>,\n",
       " <a href=\"/movie/bi/mi/basic.naver?code=209280\" title=\"탄생\">탄생</a>,\n",
       " <a href=\"/movie/bi/mi/basic.naver?code=195973\" title=\"압꾸정\">압꾸정</a>,\n",
       " <a href=\"/movie/bi/mi/basic.naver?code=204443\" title=\"파이어버드\">파이어버드</a>,\n",
       " <a href=\"/movie/bi/mi/basic.naver?code=218468\" title=\"옆집사람\">옆집사람</a>,\n",
       " <a href=\"/movie/bi/mi/basic.naver?code=74977\" title=\"아바타: 물의 길\">아바타: 물의 길</a>,\n",
       " <a href=\"/movie/bi/mi/basic.naver?code=221022\" title=\"심야카페: 미씽 허니\">심야카페: 미씽 허니</a>,\n",
       " <a href=\"/movie/bi/mi/basic.naver?code=204890\" title=\"놈이 우리 안에 있다\">놈이 우리 안에 있다</a>,\n",
       " <a href=\"/movie/bi/mi/basic.naver?code=223798\" title=\"양자경의 더 모든 날 모든 순간\">양자경의 더 모든 날 모든 순간</a>,\n",
       " <a href=\"/movie/bi/mi/basic.naver?code=217514\" title=\"아마겟돈 타임\">아마겟돈 타임</a>,\n",
       " <a href=\"/movie/bi/mi/basic.naver?code=219812\" title=\"극장판 짱구는 못말려: 수수께끼! 꽃피는 천하떡잎학교\">극장판 짱구는 못말려: 수수께끼! 꽃피는 천하떡잎학교</a>,\n",
       " <a href=\"/movie/bi/mi/basic.naver?code=184509\" title=\"영웅\">영웅</a>,\n",
       " <a href=\"/movie/bi/mi/basic.naver?code=217078\" title=\"스트레인지 월드\">스트레인지 월드</a>,\n",
       " <a href=\"/movie/bi/mi/basic.naver?code=213419\" title=\"주연\">주연</a>,\n",
       " <a href=\"/movie/bi/mi/basic.naver?code=81888\" title=\"탑건: 매버릭\">탑건: 매버릭</a>,\n",
       " <a href=\"/movie/bi/mi/basic.naver?code=220733\" title=\"오늘 밤, 세계에서 이 사랑이 사라진다 해도\">오늘 밤, 세계에서 이 사랑이 사라진다 해도</a>,\n",
       " <a href=\"/movie/bi/mi/basic.naver?code=219764\" title=\"원피스 필름 레드\">원피스 필름 레드</a>,\n",
       " <a href=\"/movie/bi/mi/basic.naver?code=201641\" title=\"공조2: 인터내셔날\">공조2: 인터내셔날</a>,\n",
       " <a href=\"/movie/bi/mi/basic.naver?code=194196\" title=\"한산: 용의 출현\">한산: 용의 출현</a>,\n",
       " <a href=\"/movie/bi/mi/basic.naver?code=213384\" title=\"블로우백\">블로우백</a>,\n",
       " <a href=\"/movie/bi/mi/basic.naver?code=210035\" title=\"세이레\">세이레</a>,\n",
       " <a href=\"/movie/bi/mi/basic.naver?code=184519\" title=\"비상선언\">비상선언</a>,\n",
       " <a href=\"/movie/bi/mi/basic.naver?code=198413\" title=\"헤어질 결심\">헤어질 결심</a>,\n",
       " <a href=\"/movie/bi/mi/basic.naver?code=220464\" title=\"본즈 앤 올\">본즈 앤 올</a>,\n",
       " <a href=\"/movie/bi/mi/basic.naver?code=192608\" title=\"범죄도시2\">범죄도시2</a>,\n",
       " <a href=\"/movie/bi/mi/basic.naver?code=204171\" title=\"창밖은 겨울\">창밖은 겨울</a>,\n",
       " <a href=\"/movie/bi/mi/basic.naver?code=211161\" title=\"늑대사냥\">늑대사냥</a>,\n",
       " <a href=\"/movie/bi/mi/basic.naver?code=196548\" title=\"노웨어 스페셜\">노웨어 스페셜</a>,\n",
       " <a href=\"/movie/bi/mi/basic.naver?code=206219\" title=\"트랜스\">트랜스</a>,\n",
       " <a href=\"/movie/bi/mi/basic.naver?code=220732\" title=\"킹덤2: 아득한 대지로\">킹덤2: 아득한 대지로</a>,\n",
       " <a href=\"/movie/bi/mi/basic.naver?code=207037\" title=\"아인보: 아마존의 전설\">아인보: 아마존의 전설</a>,\n",
       " <a href=\"/movie/bi/mi/basic.naver?code=218749\" title=\"스마일\">스마일</a>,\n",
       " <a href=\"/movie/bi/mi/basic.naver?code=209739\" title=\"낮과 달\">낮과 달</a>,\n",
       " <a href=\"/movie/bi/mi/basic.naver?code=209030\" title=\"오마이키스\">오마이키스</a>,\n",
       " <a href=\"/movie/bi/mi/basic.naver?code=210039\" title=\"같은 속옷을 입는 두 여자\">같은 속옷을 입는 두 여자</a>,\n",
       " <a href=\"/movie/bi/mi/basic.naver?code=213318\" title=\"맨 온 엣지\">맨 온 엣지</a>,\n",
       " <a href=\"/movie/bi/mi/basic.naver?code=219270\" title=\"가재가 노래하는 곳\">가재가 노래하는 곳</a>,\n",
       " <a href=\"/movie/bi/mi/basic.naver?code=214600\" title=\"크리스마스 캐럴\">크리스마스 캐럴</a>]"
      ]
     },
     "execution_count": 250,
     "metadata": {},
     "output_type": "execute_result"
    }
   ],
   "source": [
    "movies"
   ]
  },
  {
   "cell_type": "code",
   "execution_count": 251,
   "id": "17de2fe5",
   "metadata": {},
   "outputs": [],
   "source": [
    "urls = \"http://naver.com\" + movies[0]['href']"
   ]
  },
  {
   "cell_type": "code",
   "execution_count": 252,
   "id": "fee0173b",
   "metadata": {
    "scrolled": false
   },
   "outputs": [
    {
     "name": "stdout",
     "output_type": "stream",
     "text": [
      "1 블랙 팬서: 와칸다 포에버\n",
      "2 데시벨\n",
      "3 올빼미\n",
      "4 동감\n",
      "5 폴: 600미터\n",
      "6 자백\n",
      "7 에브리씽 에브리웨어 올 앳 원스\n",
      "8 블랙 아담\n",
      "9 한산 리덕스\n",
      "10 리멤버\n",
      "11 인생은 아름다워\n",
      "12 고속도로 가족\n",
      "13 유포자들\n",
      "14 탄생\n",
      "15 압꾸정\n",
      "16 파이어버드\n",
      "17 옆집사람\n",
      "18 아바타: 물의 길\n",
      "19 심야카페: 미씽 허니\n",
      "20 놈이 우리 안에 있다\n",
      "21 양자경의 더 모든 날 모든 순간\n",
      "22 아마겟돈 타임\n",
      "23 극장판 짱구는 못말려: 수수께끼! 꽃피는 천하떡잎학교\n",
      "24 영웅\n",
      "25 스트레인지 월드\n",
      "26 주연\n",
      "27 탑건: 매버릭\n",
      "28 오늘 밤, 세계에서 이 사랑이 사라진다 해도\n",
      "29 원피스 필름 레드\n",
      "30 공조2: 인터내셔날\n",
      "31 한산: 용의 출현\n",
      "32 블로우백\n",
      "33 세이레\n",
      "34 비상선언\n",
      "35 헤어질 결심\n",
      "36 본즈 앤 올\n",
      "37 범죄도시2\n",
      "38 창밖은 겨울\n",
      "39 늑대사냥\n",
      "40 노웨어 스페셜\n",
      "41 트랜스\n",
      "42 킹덤2: 아득한 대지로\n",
      "43 아인보: 아마존의 전설\n",
      "44 스마일\n",
      "45 낮과 달\n",
      "46 오마이키스\n",
      "47 같은 속옷을 입는 두 여자\n",
      "48 맨 온 엣지\n",
      "49 가재가 노래하는 곳\n",
      "50 크리스마스 캐럴\n"
     ]
    }
   ],
   "source": [
    "total = []\n",
    "for rank, movie in enumerate(movies):\n",
    "    movie_rank = rank + 1\n",
    "    movie_name = movie.text\n",
    "    print(movie_rank, movie_name)\n",
    "    total.append([movie_rank, movie_name])"
   ]
  },
  {
   "cell_type": "code",
   "execution_count": 253,
   "id": "18a8514b",
   "metadata": {},
   "outputs": [],
   "source": [
    "df = pd.DataFrame(total, columns = ['랭킹','영화제목'])"
   ]
  },
  {
   "cell_type": "code",
   "execution_count": 295,
   "id": "5780d463",
   "metadata": {},
   "outputs": [],
   "source": [
    "url1 = \"https://movie.naver.com/movie/bi/mi/basic.naver?code=184516\""
   ]
  },
  {
   "cell_type": "code",
   "execution_count": 296,
   "id": "cc0d0ec5",
   "metadata": {},
   "outputs": [],
   "source": [
    "res_1 = requests.get(url1)\n",
    "soup_1 = bs(res_1.text, \"html.parser\")"
   ]
  },
  {
   "cell_type": "code",
   "execution_count": 320,
   "id": "be67cf24",
   "metadata": {},
   "outputs": [
    {
     "data": {
      "text/plain": [
       "'관람객 평점 7.09점'"
      ]
     },
     "execution_count": 320,
     "metadata": {},
     "output_type": "execute_result"
    }
   ],
   "source": [
    "soup_1.select_one('.st_on').text"
   ]
  },
  {
   "cell_type": "code",
   "execution_count": 322,
   "id": "ab48cc29",
   "metadata": {},
   "outputs": [
    {
     "ename": "AttributeError",
     "evalue": "'NoneType' object has no attribute 'text'",
     "output_type": "error",
     "traceback": [
      "\u001b[1;31m---------------------------------------------------------------------------\u001b[0m",
      "\u001b[1;31mAttributeError\u001b[0m                            Traceback (most recent call last)",
      "\u001b[1;32m~\\AppData\\Local\\Temp\\ipykernel_19536\\2032732397.py\u001b[0m in \u001b[0;36m<module>\u001b[1;34m\u001b[0m\n\u001b[0;32m      3\u001b[0m     \u001b[0mres_1\u001b[0m \u001b[1;33m=\u001b[0m \u001b[0mrequests\u001b[0m\u001b[1;33m.\u001b[0m\u001b[0mget\u001b[0m\u001b[1;33m(\u001b[0m\u001b[0murl1\u001b[0m\u001b[1;33m)\u001b[0m\u001b[1;33m\u001b[0m\u001b[1;33m\u001b[0m\u001b[0m\n\u001b[0;32m      4\u001b[0m     \u001b[0msoup_1\u001b[0m \u001b[1;33m=\u001b[0m \u001b[0mbs\u001b[0m\u001b[1;33m(\u001b[0m\u001b[0mres_1\u001b[0m\u001b[1;33m.\u001b[0m\u001b[0mtext\u001b[0m\u001b[1;33m,\u001b[0m \u001b[1;34m\"html.parser\"\u001b[0m\u001b[1;33m)\u001b[0m\u001b[1;33m\u001b[0m\u001b[1;33m\u001b[0m\u001b[0m\n\u001b[1;32m----> 5\u001b[1;33m     \u001b[0mtitle\u001b[0m \u001b[1;33m=\u001b[0m \u001b[0msoup_1\u001b[0m\u001b[1;33m.\u001b[0m\u001b[0mselect_one\u001b[0m\u001b[1;33m(\u001b[0m\u001b[1;34m'.h_movie a'\u001b[0m\u001b[1;33m)\u001b[0m\u001b[1;33m.\u001b[0m\u001b[0mtext\u001b[0m\u001b[1;33m\u001b[0m\u001b[1;33m\u001b[0m\u001b[0m\n\u001b[0m\u001b[0;32m      6\u001b[0m     \u001b[0mpoint\u001b[0m \u001b[1;33m=\u001b[0m \u001b[0msoup_1\u001b[0m\u001b[1;33m.\u001b[0m\u001b[0mselect_one\u001b[0m\u001b[1;33m(\u001b[0m\u001b[1;34m'.st_on'\u001b[0m\u001b[1;33m)\u001b[0m\u001b[1;33m.\u001b[0m\u001b[0mtext\u001b[0m\u001b[1;33m\u001b[0m\u001b[1;33m\u001b[0m\u001b[0m\n\u001b[0;32m      7\u001b[0m     \u001b[0mprint\u001b[0m\u001b[1;33m(\u001b[0m\u001b[0mtitle\u001b[0m\u001b[1;33m,\u001b[0m\u001b[0mpoint\u001b[0m\u001b[1;33m)\u001b[0m\u001b[1;33m\u001b[0m\u001b[1;33m\u001b[0m\u001b[0m\n",
      "\u001b[1;31mAttributeError\u001b[0m: 'NoneType' object has no attribute 'text'"
     ]
    }
   ],
   "source": [
    "for rank in movies:\n",
    "    url1 = \"http://naver.com\" + rank['href']\n",
    "    res_1 = requests.get(url1)\n",
    "    soup_1 = bs(res_1.text, \"html.parser\")\n",
    "    title = soup_1.select_one('.h_movie a').text\n",
    "    point = soup_1.select_one('.st_on').text\n",
    "    print(title,point)"
   ]
  },
  {
   "cell_type": "code",
   "execution_count": null,
   "id": "3fc4860f",
   "metadata": {},
   "outputs": [],
   "source": [
    "total = []\n",
    "for link in cluster:\n",
    "    url1 = link[\"href\"]\n",
    "    res1 = requests.get(url1, headers=headers)\n",
    "    soup1 = BeautifulSoup(res1.text, \"html.parser\")\n",
    "    head = soup1.find('h2', class_ = \"media_end_head_headline\").text.strip()\n",
    "    contents = soup1.find(\"div\", class_ =  \"go_trans _article_content\").text.strip()\n",
    "    print(head, contents)\n",
    "    total.append({\n",
    "        \"Head\" : head,\n",
    "        \"Content\" : contents,\n",
    "        \"Link\" : url1\n",
    "    })"
   ]
  }
 ],
 "metadata": {
  "kernelspec": {
   "display_name": "Python 3 (ipykernel)",
   "language": "python",
   "name": "python3"
  },
  "language_info": {
   "codemirror_mode": {
    "name": "ipython",
    "version": 3
   },
   "file_extension": ".py",
   "mimetype": "text/x-python",
   "name": "python",
   "nbconvert_exporter": "python",
   "pygments_lexer": "ipython3",
   "version": "3.9.13"
  }
 },
 "nbformat": 4,
 "nbformat_minor": 5
}
