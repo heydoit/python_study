{
 "cells": [
  {
   "cell_type": "code",
   "execution_count": null,
   "id": "67f0042d",
   "metadata": {},
   "outputs": [],
   "source": [
    "import requests\n",
    "from bs4 import BeautifulSoup as bs\n",
    "import pandas as pd\n",
    "\n",
    "mypage = '20221128'\n",
    "mypage = 1\n",
    "headers = ({\n",
    "    \"user-agent\": \"Mozilla/5.0 (Windows NT 10.0; Win64; x64) AppleWebKit/537.36 (KHTML, like Gecko) Chrome/107.0.0.0 Safari/537.36\"\n",
    "})\n",
    "\n",
    "while True:\n",
    "    url = f\"https://news.naver.com/main/list.naver?mode=LS2D&sid2=262&sid1=101&mid=shm&date={mydate}&page={mypage}\"\n",
    "    res = requests.get(url, headers = headers)\n",
    "    soup = bs(res.text, 'html.parser')\n",
    "    result = soup.select('.list_body newsflash_body > li')\n",
    "    \n",
    "    if str(mypage) != soup.select_one('.paging > strong').text.strip():\n",
    "        print('{} 페이지 크롤링 완료'.format(soup.select_one('.paging > strong').text.strip()))\n",
    "        break\n",
    "        \n",
    "    for count, i in result:\n",
    "        \n",
    "        \n"
   ]
  }
 ],
 "metadata": {
  "kernelspec": {
   "display_name": "Python 3 (ipykernel)",
   "language": "python",
   "name": "python3"
  },
  "language_info": {
   "codemirror_mode": {
    "name": "ipython",
    "version": 3
   },
   "file_extension": ".py",
   "mimetype": "text/x-python",
   "name": "python",
   "nbconvert_exporter": "python",
   "pygments_lexer": "ipython3",
   "version": "3.9.13"
  }
 },
 "nbformat": 4,
 "nbformat_minor": 5
}
