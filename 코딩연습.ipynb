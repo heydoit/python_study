{
  "nbformat": 4,
  "nbformat_minor": 0,
  "metadata": {
    "colab": {
      "provenance": [],
      "authorship_tag": "ABX9TyPC5tnwbd8VrZ06cNPTULBm",
      "include_colab_link": true
    },
    "kernelspec": {
      "name": "python3",
      "display_name": "Python 3"
    },
    "language_info": {
      "name": "python"
    }
  },
  "cells": [
    {
      "cell_type": "markdown",
      "metadata": {
        "id": "view-in-github",
        "colab_type": "text"
      },
      "source": [
        "<a href=\"https://colab.research.google.com/github/heydoit/python_study/blob/main/%EC%BD%94%EB%94%A9%EC%97%B0%EC%8A%B5.ipynb\" target=\"_parent\"><img src=\"https://colab.research.google.com/assets/colab-badge.svg\" alt=\"Open In Colab\"/></a>"
      ]
    },
    {
      "cell_type": "code",
      "execution_count": null,
      "metadata": {
        "colab": {
          "base_uri": "https://localhost:8080/"
        },
        "id": "WUz6N5go0XEe",
        "outputId": "af53b5a2-72a8-4105-9415-90a833b4a72d"
      },
      "outputs": [
        {
          "output_type": "stream",
          "name": "stdout",
          "text": [
            "1 20\n",
            "1 2 4 5 6 7 8 9 10 11 12 14 15 16 17 18 19 20 "
          ]
        }
      ],
      "source": [
        "start, stop = map(int, input().split())\n",
        "i = start\n",
        "\n",
        "while True:\n",
        "    if i % 10 == 3:\n",
        "        i += 1\n",
        "        continue\n",
        "    if i > stop:\n",
        "        break\n",
        "    print(i, end = ' ')\n",
        "    i+=1 \n",
        "    "
      ]
    },
    {
      "cell_type": "code",
      "source": [
        "for i in range(5):\n",
        "    for j in range(5):\n",
        "        if j < i:\n",
        "            print(' ', end='')\n",
        "        else:\n",
        "            print('*',end='')\n",
        "        \n",
        "    print()\n",
        "    "
      ],
      "metadata": {
        "colab": {
          "base_uri": "https://localhost:8080/"
        },
        "id": "v7wFw7j80cfr",
        "outputId": "c353c910-6133-4580-fd54-df181621e3f6"
      },
      "execution_count": null,
      "outputs": [
        {
          "output_type": "stream",
          "name": "stdout",
          "text": [
            "*****\n",
            " ****\n",
            "  ***\n",
            "   **\n",
            "    *\n"
          ]
        }
      ]
    },
    {
      "cell_type": "code",
      "source": [
        "num = int(input())\n",
        "\n",
        "for i in range(num):\n",
        "    for j in reversed(range(num)):\n",
        "        if j > i:\n",
        "            print(' ', end = '')\n",
        "        else:\n",
        "            print('*', end='')\n",
        "    for j in range(num):\n",
        "        if j < i:\n",
        "            print('*', end = '')\n",
        "    print()"
      ],
      "metadata": {
        "colab": {
          "base_uri": "https://localhost:8080/"
        },
        "id": "vwyojg3b0dcN",
        "outputId": "64b8afa8-214c-447b-905a-e2b4c8cc1d2a"
      },
      "execution_count": null,
      "outputs": [
        {
          "output_type": "stream",
          "name": "stdout",
          "text": [
            "5\n",
            "    *\n",
            "   ***\n",
            "  *****\n",
            " *******\n",
            "*********\n"
          ]
        }
      ]
    },
    {
      "cell_type": "code",
      "source": [
        "num = int(input())\n",
        "\n",
        "for i in range(num):\n",
        "    for j in reversed(range(num)):\n",
        "        if j > i:\n",
        "            print(' ', end = '')\n",
        "        else:\n",
        "            print('*', end='')\n",
        "    print()"
      ],
      "metadata": {
        "colab": {
          "base_uri": "https://localhost:8080/"
        },
        "id": "yki6RoAh0edN",
        "outputId": "73499f3b-ff98-4c92-9d7c-532d5aeb970f"
      },
      "execution_count": null,
      "outputs": [
        {
          "output_type": "stream",
          "name": "stdout",
          "text": [
            "5\n",
            "    *\n",
            "   **\n",
            "  ***\n",
            " ****\n",
            "*****\n"
          ]
        }
      ]
    },
    {
      "cell_type": "code",
      "source": [
        "for i in range(1,101):\n",
        "    if i % 3 ==0 and i % 5 ==0:\n",
        "        print('FizzBuzz')\n",
        "    elif i % 3 == 0:\n",
        "        print('Fizz')\n",
        "    elif i % 5 == 0:\n",
        "        print('Buzz')\n",
        "    else:\n",
        "        print(i)"
      ],
      "metadata": {
        "id": "cCt0X9KX0fnG"
      },
      "execution_count": null,
      "outputs": []
    },
    {
      "cell_type": "code",
      "source": [
        "for i in range(1,101):\n",
        "    if i % 2 == 0 and i % 11 == 0:\n",
        "        print('FizzBuzz')\n",
        "    elif i % 2 == 0:\n",
        "        print('Fizz')\n",
        "    \n",
        "    elif i % 11 == 0:\n",
        "        print('Buzz')\n",
        "    else:\n",
        "        print(i)"
      ],
      "metadata": {
        "id": "QWLI73bU0hGw"
      },
      "execution_count": null,
      "outputs": []
    },
    {
      "cell_type": "code",
      "source": [
        "num_1, num_2 = map(int, input().split())\n",
        "i = num_2\n",
        "for i in range(num_1, num_2 +1 ):\n",
        "    if i > num_2:\n",
        "        break\n",
        "    if i % 5 == 0 and i % 7 == 0:\n",
        "        print('FizzBuzz')\n",
        "    elif i % 5 == 0:\n",
        "        print('Fizz')\n",
        "    elif i % 7 == 0:\n",
        "        print('Buzz')\n",
        "    else:\n",
        "        print(i)"
      ],
      "metadata": {
        "colab": {
          "base_uri": "https://localhost:8080/"
        },
        "id": "-fwKD3mI0owf",
        "outputId": "b6153ee5-2879-4ed4-f4fc-cde50de57037"
      },
      "execution_count": null,
      "outputs": [
        {
          "output_type": "stream",
          "name": "stdout",
          "text": [
            "35 40\n",
            "FizzBuzz\n",
            "36\n",
            "37\n",
            "38\n",
            "39\n",
            "Fizz\n"
          ]
        }
      ]
    },
    {
      "cell_type": "code",
      "source": [
        "import turtle as t\n",
        "t.shape('turtle')\n",
        "t.color('purple')\n",
        "n = 6\n",
        "t.begin_fill()\n",
        "for i in range(n):\n",
        "    t.forward(100)\n",
        "    t.right(360/n)\n",
        "t.end_fill()\n",
        "t.mainloop()   "
      ],
      "metadata": {
        "id": "fhkiqxuO0qcW"
      },
      "execution_count": null,
      "outputs": []
    },
    {
      "cell_type": "code",
      "source": [
        "import turtle as t\n",
        "\n",
        "n, line = map(int, input().split())\n",
        "\n",
        "t.shape('turtle')\n",
        "t.speed('fastest')\n",
        "if 5<= n<=10 and 50<=line<=150:\n",
        "    for i in range(n):\n",
        "        t.forward(line)\n",
        "        t.right((360/n) * 2)\n",
        "        t.forward(line)\n",
        "        t.left((360/n))\n",
        "    \n",
        "t.mainloop()"
      ],
      "metadata": {
        "id": "SJM6JDqM0sNQ"
      },
      "execution_count": null,
      "outputs": []
    },
    {
      "cell_type": "code",
      "source": [
        "num_1, num_2 = map(int, input().split())\n",
        "a = [2 ** i for i in range(num_1, num_2+1)]\n",
        "del a[1]\n",
        "del a[-2]\n",
        "print(a)\n"
      ],
      "metadata": {
        "colab": {
          "base_uri": "https://localhost:8080/"
        },
        "id": "aNuYhgm4YGVf",
        "outputId": "ba145c1a-8505-4ae1-bca8-3f5daab8ea24"
      },
      "execution_count": null,
      "outputs": [
        {
          "output_type": "stream",
          "name": "stdout",
          "text": [
            "1 10\n",
            "[2, 8, 16, 32, 64, 128, 256, 1024]\n"
          ]
        }
      ]
    },
    {
      "cell_type": "code",
      "source": [
        "a = [[10, 20], [30, 40], [50, 60]]\n",
        "\n",
        "for i in range(len(a)):\n",
        "    for j in range(len(a[i])):\n",
        "        print(a[i][j], end = ' ')\n",
        "    print()"
      ],
      "metadata": {
        "colab": {
          "base_uri": "https://localhost:8080/"
        },
        "id": "SpQLDKhDYM0A",
        "outputId": "c73f80ff-fe5c-4b31-eea2-a89c24033431"
      },
      "execution_count": null,
      "outputs": [
        {
          "output_type": "stream",
          "name": "stdout",
          "text": [
            "10 20 \n",
            "30 40 \n",
            "50 60 \n"
          ]
        }
      ]
    },
    {
      "cell_type": "code",
      "source": [
        "a = []\n",
        "for i in range(3):\n",
        "    line = []\n",
        "    for j in range(2):\n",
        "        line.append(0)\n",
        "    a.append(line)\n",
        "print(a)"
      ],
      "metadata": {
        "colab": {
          "base_uri": "https://localhost:8080/"
        },
        "id": "EAGl3sfXYPV0",
        "outputId": "434cc28e-9a81-40ac-e231-e296c048f17c"
      },
      "execution_count": null,
      "outputs": [
        {
          "output_type": "stream",
          "name": "stdout",
          "text": [
            "[[0, 0], [0, 0], [0, 0]]\n"
          ]
        }
      ]
    },
    {
      "cell_type": "code",
      "source": [
        "a = [[10, 20], [30, 40], [50, 60]]\n",
        "\n",
        "i = 0\n",
        "while i < len(a):\n",
        "    j = 0\n",
        "    while j < len(a[i]):\n",
        "        print(a[i][j], end = ' ')\n",
        "        j += 1\n",
        "    print()\n",
        "    i+=1"
      ],
      "metadata": {
        "id": "XhasY38HYP1v",
        "colab": {
          "base_uri": "https://localhost:8080/"
        },
        "outputId": "4176f86b-fd83-4e68-bff1-e9d21c3122bc"
      },
      "execution_count": 1,
      "outputs": [
        {
          "output_type": "stream",
          "name": "stdout",
          "text": [
            "10 20 \n",
            "30 40 \n",
            "50 60 \n"
          ]
        }
      ]
    },
    {
      "cell_type": "code",
      "source": [
        "print([[0 for j in range(3)]for i in range(3)])"
      ],
      "metadata": {
        "colab": {
          "base_uri": "https://localhost:8080/"
        },
        "id": "9E2VOyTilXIP",
        "outputId": "345e1f07-3a23-48cc-e0d0-69c8354c86f3"
      },
      "execution_count": 2,
      "outputs": [
        {
          "output_type": "stream",
          "name": "stdout",
          "text": [
            "[[0, 0, 0], [0, 0, 0], [0, 0, 0]]\n"
          ]
        }
      ]
    },
    {
      "cell_type": "code",
      "source": [
        "print([0 for i in range(3)])"
      ],
      "metadata": {
        "colab": {
          "base_uri": "https://localhost:8080/"
        },
        "id": "cgPNu15FlYOL",
        "outputId": "1c49c982-1a22-4804-b233-41fead5d7355"
      },
      "execution_count": 3,
      "outputs": [
        {
          "output_type": "stream",
          "name": "stdout",
          "text": [
            "[0, 0, 0]\n"
          ]
        }
      ]
    },
    {
      "cell_type": "code",
      "source": [
        "print([[0,0,0] for i in range(3)])"
      ],
      "metadata": {
        "colab": {
          "base_uri": "https://localhost:8080/"
        },
        "id": "6CgTZMXwlY9h",
        "outputId": "65163a4b-1259-40f1-e70a-cc80b2547a40"
      },
      "execution_count": 4,
      "outputs": [
        {
          "output_type": "stream",
          "name": "stdout",
          "text": [
            "[[0, 0, 0], [0, 0, 0], [0, 0, 0]]\n"
          ]
        }
      ]
    },
    {
      "cell_type": "code",
      "source": [
        "[[0,0,0] *3]"
      ],
      "metadata": {
        "colab": {
          "base_uri": "https://localhost:8080/"
        },
        "id": "yQdHyUe9lad5",
        "outputId": "a44d9dee-ff67-4080-9d64-988e35153a6b"
      },
      "execution_count": 5,
      "outputs": [
        {
          "output_type": "execute_result",
          "data": {
            "text/plain": [
              "[[0, 0, 0, 0, 0, 0, 0, 0, 0]]"
            ]
          },
          "metadata": {},
          "execution_count": 5
        }
      ]
    },
    {
      "cell_type": "code",
      "source": [
        "[[[0]for j in range(3)] for i in range(3)]"
      ],
      "metadata": {
        "colab": {
          "base_uri": "https://localhost:8080/"
        },
        "id": "3OKrUCx_lbOf",
        "outputId": "5f3334bb-8458-4152-adc9-5d482fb51836"
      },
      "execution_count": 6,
      "outputs": [
        {
          "output_type": "execute_result",
          "data": {
            "text/plain": [
              "[[[0], [0], [0]], [[0], [0], [0]], [[0], [0], [0]]]"
            ]
          },
          "metadata": {},
          "execution_count": 6
        }
      ]
    },
    {
      "cell_type": "code",
      "source": [
        "a = [[[0 for j in range(3)] for i in range(4)] for z in range(2)]\n",
        "print(a)"
      ],
      "metadata": {
        "colab": {
          "base_uri": "https://localhost:8080/"
        },
        "id": "J764C8Cglcfo",
        "outputId": "604cb384-a99e-4563-d4ce-664400de5438"
      },
      "execution_count": 7,
      "outputs": [
        {
          "output_type": "stream",
          "name": "stdout",
          "text": [
            "[[[0, 0, 0], [0, 0, 0], [0, 0, 0], [0, 0, 0]], [[0, 0, 0], [0, 0, 0], [0, 0, 0], [0, 0, 0]]]\n"
          ]
        }
      ]
    },
    {
      "cell_type": "code",
      "source": [],
      "metadata": {
        "id": "T0DMQ705ldZN"
      },
      "execution_count": null,
      "outputs": []
    }
  ]
}