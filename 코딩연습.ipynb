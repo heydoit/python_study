{
  "nbformat": 4,
  "nbformat_minor": 0,
  "metadata": {
    "colab": {
      "provenance": [],
      "authorship_tag": "ABX9TyOVD6aoPuH+Z8vTXRuWiQue",
      "include_colab_link": true
    },
    "kernelspec": {
      "name": "python3",
      "display_name": "Python 3"
    },
    "language_info": {
      "name": "python"
    }
  },
  "cells": [
    {
      "cell_type": "markdown",
      "metadata": {
        "id": "view-in-github",
        "colab_type": "text"
      },
      "source": [
        "<a href=\"https://colab.research.google.com/github/heydoit/python_study/blob/main/%EC%BD%94%EB%94%A9%EC%97%B0%EC%8A%B5.ipynb\" target=\"_parent\"><img src=\"https://colab.research.google.com/assets/colab-badge.svg\" alt=\"Open In Colab\"/></a>"
      ]
    },
    {
      "cell_type": "code",
      "execution_count": 1,
      "metadata": {
        "colab": {
          "base_uri": "https://localhost:8080/"
        },
        "id": "WUz6N5go0XEe",
        "outputId": "af53b5a2-72a8-4105-9415-90a833b4a72d"
      },
      "outputs": [
        {
          "output_type": "stream",
          "name": "stdout",
          "text": [
            "1 20\n",
            "1 2 4 5 6 7 8 9 10 11 12 14 15 16 17 18 19 20 "
          ]
        }
      ],
      "source": [
        "start, stop = map(int, input().split())\n",
        "i = start\n",
        "\n",
        "while True:\n",
        "    if i % 10 == 3:\n",
        "        i += 1\n",
        "        continue\n",
        "    if i > stop:\n",
        "        break\n",
        "    print(i, end = ' ')\n",
        "    i+=1 \n",
        "    "
      ]
    },
    {
      "cell_type": "code",
      "source": [
        "for i in range(5):\n",
        "    for j in range(5):\n",
        "        if j < i:\n",
        "            print(' ', end='')\n",
        "        else:\n",
        "            print('*',end='')\n",
        "        \n",
        "    print()\n",
        "    "
      ],
      "metadata": {
        "colab": {
          "base_uri": "https://localhost:8080/"
        },
        "id": "v7wFw7j80cfr",
        "outputId": "c353c910-6133-4580-fd54-df181621e3f6"
      },
      "execution_count": 2,
      "outputs": [
        {
          "output_type": "stream",
          "name": "stdout",
          "text": [
            "*****\n",
            " ****\n",
            "  ***\n",
            "   **\n",
            "    *\n"
          ]
        }
      ]
    },
    {
      "cell_type": "code",
      "source": [
        "num = int(input())\n",
        "\n",
        "for i in range(num):\n",
        "    for j in reversed(range(num)):\n",
        "        if j > i:\n",
        "            print(' ', end = '')\n",
        "        else:\n",
        "            print('*', end='')\n",
        "    for j in range(num):\n",
        "        if j < i:\n",
        "            print('*', end = '')\n",
        "    print()"
      ],
      "metadata": {
        "colab": {
          "base_uri": "https://localhost:8080/"
        },
        "id": "vwyojg3b0dcN",
        "outputId": "64b8afa8-214c-447b-905a-e2b4c8cc1d2a"
      },
      "execution_count": 4,
      "outputs": [
        {
          "output_type": "stream",
          "name": "stdout",
          "text": [
            "5\n",
            "    *\n",
            "   ***\n",
            "  *****\n",
            " *******\n",
            "*********\n"
          ]
        }
      ]
    },
    {
      "cell_type": "code",
      "source": [
        "num = int(input())\n",
        "\n",
        "for i in range(num):\n",
        "    for j in reversed(range(num)):\n",
        "        if j > i:\n",
        "            print(' ', end = '')\n",
        "        else:\n",
        "            print('*', end='')\n",
        "    print()"
      ],
      "metadata": {
        "colab": {
          "base_uri": "https://localhost:8080/"
        },
        "id": "yki6RoAh0edN",
        "outputId": "73499f3b-ff98-4c92-9d7c-532d5aeb970f"
      },
      "execution_count": 5,
      "outputs": [
        {
          "output_type": "stream",
          "name": "stdout",
          "text": [
            "5\n",
            "    *\n",
            "   **\n",
            "  ***\n",
            " ****\n",
            "*****\n"
          ]
        }
      ]
    },
    {
      "cell_type": "code",
      "source": [
        "for i in range(1,101):\n",
        "    if i % 3 ==0 and i % 5 ==0:\n",
        "        print('FizzBuzz')\n",
        "    elif i % 3 == 0:\n",
        "        print('Fizz')\n",
        "    elif i % 5 == 0:\n",
        "        print('Buzz')\n",
        "    else:\n",
        "        print(i)"
      ],
      "metadata": {
        "colab": {
          "base_uri": "https://localhost:8080/"
        },
        "id": "cCt0X9KX0fnG",
        "outputId": "9d4ad6d0-b771-49db-a46a-71e3b60dc615"
      },
      "execution_count": 6,
      "outputs": [
        {
          "output_type": "stream",
          "name": "stdout",
          "text": [
            "1\n",
            "2\n",
            "Fizz\n",
            "4\n",
            "Buzz\n",
            "Fizz\n",
            "7\n",
            "8\n",
            "Fizz\n",
            "Buzz\n",
            "11\n",
            "Fizz\n",
            "13\n",
            "14\n",
            "FizzBuzz\n",
            "16\n",
            "17\n",
            "Fizz\n",
            "19\n",
            "Buzz\n",
            "Fizz\n",
            "22\n",
            "23\n",
            "Fizz\n",
            "Buzz\n",
            "26\n",
            "Fizz\n",
            "28\n",
            "29\n",
            "FizzBuzz\n",
            "31\n",
            "32\n",
            "Fizz\n",
            "34\n",
            "Buzz\n",
            "Fizz\n",
            "37\n",
            "38\n",
            "Fizz\n",
            "Buzz\n",
            "41\n",
            "Fizz\n",
            "43\n",
            "44\n",
            "FizzBuzz\n",
            "46\n",
            "47\n",
            "Fizz\n",
            "49\n",
            "Buzz\n",
            "Fizz\n",
            "52\n",
            "53\n",
            "Fizz\n",
            "Buzz\n",
            "56\n",
            "Fizz\n",
            "58\n",
            "59\n",
            "FizzBuzz\n",
            "61\n",
            "62\n",
            "Fizz\n",
            "64\n",
            "Buzz\n",
            "Fizz\n",
            "67\n",
            "68\n",
            "Fizz\n",
            "Buzz\n",
            "71\n",
            "Fizz\n",
            "73\n",
            "74\n",
            "FizzBuzz\n",
            "76\n",
            "77\n",
            "Fizz\n",
            "79\n",
            "Buzz\n",
            "Fizz\n",
            "82\n",
            "83\n",
            "Fizz\n",
            "Buzz\n",
            "86\n",
            "Fizz\n",
            "88\n",
            "89\n",
            "FizzBuzz\n",
            "91\n",
            "92\n",
            "Fizz\n",
            "94\n",
            "Buzz\n",
            "Fizz\n",
            "97\n",
            "98\n",
            "Fizz\n",
            "Buzz\n"
          ]
        }
      ]
    },
    {
      "cell_type": "code",
      "source": [
        "for i in range(1,101):\n",
        "    if i % 2 == 0 and i % 11 == 0:\n",
        "        print('FizzBuzz')\n",
        "    elif i % 2 == 0:\n",
        "        print('Fizz')\n",
        "    \n",
        "    elif i % 11 == 0:\n",
        "        print('Buzz')\n",
        "    else:\n",
        "        print(i)"
      ],
      "metadata": {
        "colab": {
          "base_uri": "https://localhost:8080/"
        },
        "id": "QWLI73bU0hGw",
        "outputId": "100995de-e861-4440-9de0-ca753c98bba3"
      },
      "execution_count": 7,
      "outputs": [
        {
          "output_type": "stream",
          "name": "stdout",
          "text": [
            "1\n",
            "Fizz\n",
            "3\n",
            "Fizz\n",
            "5\n",
            "Fizz\n",
            "7\n",
            "Fizz\n",
            "9\n",
            "Fizz\n",
            "Buzz\n",
            "Fizz\n",
            "13\n",
            "Fizz\n",
            "15\n",
            "Fizz\n",
            "17\n",
            "Fizz\n",
            "19\n",
            "Fizz\n",
            "21\n",
            "FizzBuzz\n",
            "23\n",
            "Fizz\n",
            "25\n",
            "Fizz\n",
            "27\n",
            "Fizz\n",
            "29\n",
            "Fizz\n",
            "31\n",
            "Fizz\n",
            "Buzz\n",
            "Fizz\n",
            "35\n",
            "Fizz\n",
            "37\n",
            "Fizz\n",
            "39\n",
            "Fizz\n",
            "41\n",
            "Fizz\n",
            "43\n",
            "FizzBuzz\n",
            "45\n",
            "Fizz\n",
            "47\n",
            "Fizz\n",
            "49\n",
            "Fizz\n",
            "51\n",
            "Fizz\n",
            "53\n",
            "Fizz\n",
            "Buzz\n",
            "Fizz\n",
            "57\n",
            "Fizz\n",
            "59\n",
            "Fizz\n",
            "61\n",
            "Fizz\n",
            "63\n",
            "Fizz\n",
            "65\n",
            "FizzBuzz\n",
            "67\n",
            "Fizz\n",
            "69\n",
            "Fizz\n",
            "71\n",
            "Fizz\n",
            "73\n",
            "Fizz\n",
            "75\n",
            "Fizz\n",
            "Buzz\n",
            "Fizz\n",
            "79\n",
            "Fizz\n",
            "81\n",
            "Fizz\n",
            "83\n",
            "Fizz\n",
            "85\n",
            "Fizz\n",
            "87\n",
            "FizzBuzz\n",
            "89\n",
            "Fizz\n",
            "91\n",
            "Fizz\n",
            "93\n",
            "Fizz\n",
            "95\n",
            "Fizz\n",
            "97\n",
            "Fizz\n",
            "Buzz\n",
            "Fizz\n"
          ]
        }
      ]
    },
    {
      "cell_type": "code",
      "source": [
        "num_1, num_2 = map(int, input().split())\n",
        "i = num_2\n",
        "for i in range(num_1, num_2 +1 ):\n",
        "    if i > num_2:\n",
        "        break\n",
        "    if i % 5 == 0 and i % 7 == 0:\n",
        "        print('FizzBuzz')\n",
        "    elif i % 5 == 0:\n",
        "        print('Fizz')\n",
        "    elif i % 7 == 0:\n",
        "        print('Buzz')\n",
        "    else:\n",
        "        print(i)"
      ],
      "metadata": {
        "colab": {
          "base_uri": "https://localhost:8080/"
        },
        "id": "-fwKD3mI0owf",
        "outputId": "b6153ee5-2879-4ed4-f4fc-cde50de57037"
      },
      "execution_count": 8,
      "outputs": [
        {
          "output_type": "stream",
          "name": "stdout",
          "text": [
            "35 40\n",
            "FizzBuzz\n",
            "36\n",
            "37\n",
            "38\n",
            "39\n",
            "Fizz\n"
          ]
        }
      ]
    },
    {
      "cell_type": "code",
      "source": [
        "import turtle as t\n",
        "t.shape('turtle')\n",
        "t.color('purple')\n",
        "n = 6\n",
        "t.begin_fill()\n",
        "for i in range(n):\n",
        "    t.forward(100)\n",
        "    t.right(360/n)\n",
        "t.end_fill()\n",
        "t.mainloop()   "
      ],
      "metadata": {
        "id": "fhkiqxuO0qcW"
      },
      "execution_count": null,
      "outputs": []
    },
    {
      "cell_type": "code",
      "source": [
        "import turtle as t\n",
        "\n",
        "n, line = map(int, input().split())\n",
        "\n",
        "t.shape('turtle')\n",
        "t.speed('fastest')\n",
        "if 5<= n<=10 and 50<=line<=150:\n",
        "    for i in range(n):\n",
        "        t.forward(line)\n",
        "        t.right((360/n) * 2)\n",
        "        t.forward(line)\n",
        "        t.left((360/n))\n",
        "    \n",
        "t.mainloop()"
      ],
      "metadata": {
        "id": "SJM6JDqM0sNQ"
      },
      "execution_count": null,
      "outputs": []
    },
    {
      "cell_type": "code",
      "source": [
        "num_1, num_2 = map(int, input().split())\n",
        "a = [2 ** i for i in range(num_1, num_2+1)]\n",
        "del a[1]\n",
        "del a[-2]\n",
        "print(a)\n"
      ],
      "metadata": {
        "colab": {
          "base_uri": "https://localhost:8080/"
        },
        "id": "aNuYhgm4YGVf",
        "outputId": "ba145c1a-8505-4ae1-bca8-3f5daab8ea24"
      },
      "execution_count": 3,
      "outputs": [
        {
          "output_type": "stream",
          "name": "stdout",
          "text": [
            "1 10\n",
            "[2, 8, 16, 32, 64, 128, 256, 1024]\n"
          ]
        }
      ]
    },
    {
      "cell_type": "code",
      "source": [
        "a = [[10, 20], [30, 40], [50, 60]]\n",
        "\n",
        "for i in range(len(a)):\n",
        "    for j in range(len(a[i])):\n",
        "        print(a[i][j], end = ' ')\n",
        "    print()"
      ],
      "metadata": {
        "colab": {
          "base_uri": "https://localhost:8080/"
        },
        "id": "SpQLDKhDYM0A",
        "outputId": "c73f80ff-fe5c-4b31-eea2-a89c24033431"
      },
      "execution_count": 6,
      "outputs": [
        {
          "output_type": "stream",
          "name": "stdout",
          "text": [
            "10 20 \n",
            "30 40 \n",
            "50 60 \n"
          ]
        }
      ]
    },
    {
      "cell_type": "code",
      "source": [
        "a = []\n",
        "for i in range(3):\n",
        "    line = []\n",
        "    for j in range(2):\n",
        "        line.append(0)\n",
        "    a.append(line)\n",
        "print(a)"
      ],
      "metadata": {
        "colab": {
          "base_uri": "https://localhost:8080/"
        },
        "id": "EAGl3sfXYPV0",
        "outputId": "434cc28e-9a81-40ac-e231-e296c048f17c"
      },
      "execution_count": 5,
      "outputs": [
        {
          "output_type": "stream",
          "name": "stdout",
          "text": [
            "[[0, 0], [0, 0], [0, 0]]\n"
          ]
        }
      ]
    },
    {
      "cell_type": "code",
      "source": [],
      "metadata": {
        "id": "XhasY38HYP1v"
      },
      "execution_count": null,
      "outputs": []
    }
  ]
}