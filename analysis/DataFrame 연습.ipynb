{
 "cells": [
  {
   "cell_type": "code",
   "execution_count": 132,
   "id": "ee645bba",
   "metadata": {},
   "outputs": [],
   "source": [
    "import pandas as pd"
   ]
  },
  {
   "cell_type": "code",
   "execution_count": 133,
   "id": "6cb7f8a2",
   "metadata": {},
   "outputs": [],
   "source": [
    "name = ['김유진','김정민','홍길동','박보람']\n",
    "age = [25,31,36,13]\n",
    "gender = [1,0,None,1]\n",
    "grade = ['A','B','C','D']\n",
    "result = [True,False,False,True]\n",
    "survey = [3,4,1,3]\n"
   ]
  },
  {
   "cell_type": "code",
   "execution_count": 134,
   "id": "f32515f3",
   "metadata": {},
   "outputs": [],
   "source": [
    "data = pd.DataFrame({'name':name,'age':age,'gender':gender,'grade':grade,'result':result,'survey':survey})"
   ]
  },
  {
   "cell_type": "code",
   "execution_count": 135,
   "id": "7516d791",
   "metadata": {},
   "outputs": [
    {
     "name": "stdout",
     "output_type": "stream",
     "text": [
      "  name  age  gender grade  result  survey\n",
      "0  김유진   25     1.0     A    True       3\n",
      "1  김정민   31     0.0     B   False       4\n",
      "2  홍길동   36     NaN     C   False       1\n",
      "3  박보람   13     1.0     D    True       3\n"
     ]
    }
   ],
   "source": [
    "print(data)"
   ]
  },
  {
   "cell_type": "code",
   "execution_count": 136,
   "id": "1222af70",
   "metadata": {},
   "outputs": [
    {
     "data": {
      "text/html": [
       "<div>\n",
       "<style scoped>\n",
       "    .dataframe tbody tr th:only-of-type {\n",
       "        vertical-align: middle;\n",
       "    }\n",
       "\n",
       "    .dataframe tbody tr th {\n",
       "        vertical-align: top;\n",
       "    }\n",
       "\n",
       "    .dataframe thead th {\n",
       "        text-align: right;\n",
       "    }\n",
       "</style>\n",
       "<table border=\"1\" class=\"dataframe\">\n",
       "  <thead>\n",
       "    <tr style=\"text-align: right;\">\n",
       "      <th></th>\n",
       "      <th>name</th>\n",
       "      <th>age</th>\n",
       "      <th>gender</th>\n",
       "      <th>grade</th>\n",
       "      <th>result</th>\n",
       "      <th>survey</th>\n",
       "    </tr>\n",
       "  </thead>\n",
       "  <tbody>\n",
       "    <tr>\n",
       "      <th>0</th>\n",
       "      <td>김유진</td>\n",
       "      <td>25</td>\n",
       "      <td>1.0</td>\n",
       "      <td>A</td>\n",
       "      <td>True</td>\n",
       "      <td>3</td>\n",
       "    </tr>\n",
       "    <tr>\n",
       "      <th>1</th>\n",
       "      <td>김정민</td>\n",
       "      <td>31</td>\n",
       "      <td>0.0</td>\n",
       "      <td>B</td>\n",
       "      <td>False</td>\n",
       "      <td>4</td>\n",
       "    </tr>\n",
       "    <tr>\n",
       "      <th>2</th>\n",
       "      <td>홍길동</td>\n",
       "      <td>36</td>\n",
       "      <td>NaN</td>\n",
       "      <td>C</td>\n",
       "      <td>False</td>\n",
       "      <td>1</td>\n",
       "    </tr>\n",
       "    <tr>\n",
       "      <th>3</th>\n",
       "      <td>박보람</td>\n",
       "      <td>13</td>\n",
       "      <td>1.0</td>\n",
       "      <td>D</td>\n",
       "      <td>True</td>\n",
       "      <td>3</td>\n",
       "    </tr>\n",
       "  </tbody>\n",
       "</table>\n",
       "</div>"
      ],
      "text/plain": [
       "  name  age  gender grade  result  survey\n",
       "0  김유진   25     1.0     A    True       3\n",
       "1  김정민   31     0.0     B   False       4\n",
       "2  홍길동   36     NaN     C   False       1\n",
       "3  박보람   13     1.0     D    True       3"
      ]
     },
     "execution_count": 136,
     "metadata": {},
     "output_type": "execute_result"
    }
   ],
   "source": [
    "data"
   ]
  },
  {
   "cell_type": "code",
   "execution_count": 137,
   "id": "9a2260c5",
   "metadata": {},
   "outputs": [
    {
     "data": {
      "text/html": [
       "<div>\n",
       "<style scoped>\n",
       "    .dataframe tbody tr th:only-of-type {\n",
       "        vertical-align: middle;\n",
       "    }\n",
       "\n",
       "    .dataframe tbody tr th {\n",
       "        vertical-align: top;\n",
       "    }\n",
       "\n",
       "    .dataframe thead th {\n",
       "        text-align: right;\n",
       "    }\n",
       "</style>\n",
       "<table border=\"1\" class=\"dataframe\">\n",
       "  <thead>\n",
       "    <tr style=\"text-align: right;\">\n",
       "      <th></th>\n",
       "      <th>0</th>\n",
       "      <th>1</th>\n",
       "      <th>2</th>\n",
       "      <th>3</th>\n",
       "    </tr>\n",
       "  </thead>\n",
       "  <tbody>\n",
       "    <tr>\n",
       "      <th>name</th>\n",
       "      <td>김유진</td>\n",
       "      <td>김정민</td>\n",
       "      <td>홍길동</td>\n",
       "      <td>박보람</td>\n",
       "    </tr>\n",
       "    <tr>\n",
       "      <th>age</th>\n",
       "      <td>25</td>\n",
       "      <td>31</td>\n",
       "      <td>36</td>\n",
       "      <td>13</td>\n",
       "    </tr>\n",
       "    <tr>\n",
       "      <th>gender</th>\n",
       "      <td>1.0</td>\n",
       "      <td>0.0</td>\n",
       "      <td>NaN</td>\n",
       "      <td>1.0</td>\n",
       "    </tr>\n",
       "    <tr>\n",
       "      <th>grade</th>\n",
       "      <td>A</td>\n",
       "      <td>B</td>\n",
       "      <td>C</td>\n",
       "      <td>D</td>\n",
       "    </tr>\n",
       "    <tr>\n",
       "      <th>result</th>\n",
       "      <td>True</td>\n",
       "      <td>False</td>\n",
       "      <td>False</td>\n",
       "      <td>True</td>\n",
       "    </tr>\n",
       "    <tr>\n",
       "      <th>survey</th>\n",
       "      <td>3</td>\n",
       "      <td>4</td>\n",
       "      <td>1</td>\n",
       "      <td>3</td>\n",
       "    </tr>\n",
       "  </tbody>\n",
       "</table>\n",
       "</div>"
      ],
      "text/plain": [
       "           0      1      2     3\n",
       "name     김유진    김정민    홍길동   박보람\n",
       "age       25     31     36    13\n",
       "gender   1.0    0.0    NaN   1.0\n",
       "grade      A      B      C     D\n",
       "result  True  False  False  True\n",
       "survey     3      4      1     3"
      ]
     },
     "execution_count": 137,
     "metadata": {},
     "output_type": "execute_result"
    }
   ],
   "source": [
    "data.transpose()"
   ]
  },
  {
   "cell_type": "code",
   "execution_count": 138,
   "id": "24f784f9",
   "metadata": {},
   "outputs": [
    {
     "data": {
      "text/html": [
       "<div>\n",
       "<style scoped>\n",
       "    .dataframe tbody tr th:only-of-type {\n",
       "        vertical-align: middle;\n",
       "    }\n",
       "\n",
       "    .dataframe tbody tr th {\n",
       "        vertical-align: top;\n",
       "    }\n",
       "\n",
       "    .dataframe thead th {\n",
       "        text-align: right;\n",
       "    }\n",
       "</style>\n",
       "<table border=\"1\" class=\"dataframe\">\n",
       "  <thead>\n",
       "    <tr style=\"text-align: right;\">\n",
       "      <th></th>\n",
       "      <th>0</th>\n",
       "      <th>1</th>\n",
       "      <th>2</th>\n",
       "      <th>3</th>\n",
       "    </tr>\n",
       "  </thead>\n",
       "  <tbody>\n",
       "    <tr>\n",
       "      <th>name</th>\n",
       "      <td>김유진</td>\n",
       "      <td>김정민</td>\n",
       "      <td>홍길동</td>\n",
       "      <td>박보람</td>\n",
       "    </tr>\n",
       "    <tr>\n",
       "      <th>age</th>\n",
       "      <td>25</td>\n",
       "      <td>31</td>\n",
       "      <td>36</td>\n",
       "      <td>13</td>\n",
       "    </tr>\n",
       "    <tr>\n",
       "      <th>gender</th>\n",
       "      <td>1.0</td>\n",
       "      <td>0.0</td>\n",
       "      <td>NaN</td>\n",
       "      <td>1.0</td>\n",
       "    </tr>\n",
       "    <tr>\n",
       "      <th>grade</th>\n",
       "      <td>A</td>\n",
       "      <td>B</td>\n",
       "      <td>C</td>\n",
       "      <td>D</td>\n",
       "    </tr>\n",
       "    <tr>\n",
       "      <th>result</th>\n",
       "      <td>True</td>\n",
       "      <td>False</td>\n",
       "      <td>False</td>\n",
       "      <td>True</td>\n",
       "    </tr>\n",
       "    <tr>\n",
       "      <th>survey</th>\n",
       "      <td>3</td>\n",
       "      <td>4</td>\n",
       "      <td>1</td>\n",
       "      <td>3</td>\n",
       "    </tr>\n",
       "  </tbody>\n",
       "</table>\n",
       "</div>"
      ],
      "text/plain": [
       "           0      1      2     3\n",
       "name     김유진    김정민    홍길동   박보람\n",
       "age       25     31     36    13\n",
       "gender   1.0    0.0    NaN   1.0\n",
       "grade      A      B      C     D\n",
       "result  True  False  False  True\n",
       "survey     3      4      1     3"
      ]
     },
     "execution_count": 138,
     "metadata": {},
     "output_type": "execute_result"
    }
   ],
   "source": [
    "data.T"
   ]
  },
  {
   "cell_type": "code",
   "execution_count": 139,
   "id": "0a1be42d",
   "metadata": {},
   "outputs": [],
   "source": [
    "data_1 = pd.DataFrame(data = [name,age,gender,grade,result,survey],\n",
    "                     columns = ['Customer1','Customer2','Customer3','Customer4'],\n",
    "                    index = ['Name','Age','Gender(M:0,W:1)','Grade','Survey','Result'])"
   ]
  },
  {
   "cell_type": "code",
   "execution_count": 140,
   "id": "ae998730",
   "metadata": {},
   "outputs": [
    {
     "data": {
      "text/html": [
       "<div>\n",
       "<style scoped>\n",
       "    .dataframe tbody tr th:only-of-type {\n",
       "        vertical-align: middle;\n",
       "    }\n",
       "\n",
       "    .dataframe tbody tr th {\n",
       "        vertical-align: top;\n",
       "    }\n",
       "\n",
       "    .dataframe thead th {\n",
       "        text-align: right;\n",
       "    }\n",
       "</style>\n",
       "<table border=\"1\" class=\"dataframe\">\n",
       "  <thead>\n",
       "    <tr style=\"text-align: right;\">\n",
       "      <th></th>\n",
       "      <th>name</th>\n",
       "      <th>age</th>\n",
       "      <th>gender</th>\n",
       "      <th>grade</th>\n",
       "      <th>result</th>\n",
       "      <th>survey</th>\n",
       "    </tr>\n",
       "  </thead>\n",
       "  <tbody>\n",
       "    <tr>\n",
       "      <th>0</th>\n",
       "      <td>김유진</td>\n",
       "      <td>25</td>\n",
       "      <td>1.0</td>\n",
       "      <td>A</td>\n",
       "      <td>True</td>\n",
       "      <td>3</td>\n",
       "    </tr>\n",
       "    <tr>\n",
       "      <th>1</th>\n",
       "      <td>김정민</td>\n",
       "      <td>31</td>\n",
       "      <td>0.0</td>\n",
       "      <td>B</td>\n",
       "      <td>False</td>\n",
       "      <td>4</td>\n",
       "    </tr>\n",
       "    <tr>\n",
       "      <th>2</th>\n",
       "      <td>홍길동</td>\n",
       "      <td>36</td>\n",
       "      <td>NaN</td>\n",
       "      <td>C</td>\n",
       "      <td>False</td>\n",
       "      <td>1</td>\n",
       "    </tr>\n",
       "    <tr>\n",
       "      <th>3</th>\n",
       "      <td>박보람</td>\n",
       "      <td>13</td>\n",
       "      <td>1.0</td>\n",
       "      <td>D</td>\n",
       "      <td>True</td>\n",
       "      <td>3</td>\n",
       "    </tr>\n",
       "  </tbody>\n",
       "</table>\n",
       "</div>"
      ],
      "text/plain": [
       "  name  age  gender grade  result  survey\n",
       "0  김유진   25     1.0     A    True       3\n",
       "1  김정민   31     0.0     B   False       4\n",
       "2  홍길동   36     NaN     C   False       1\n",
       "3  박보람   13     1.0     D    True       3"
      ]
     },
     "execution_count": 140,
     "metadata": {},
     "output_type": "execute_result"
    }
   ],
   "source": [
    "data"
   ]
  },
  {
   "cell_type": "code",
   "execution_count": 141,
   "id": "f3612f56",
   "metadata": {},
   "outputs": [
    {
     "data": {
      "text/html": [
       "<div>\n",
       "<style scoped>\n",
       "    .dataframe tbody tr th:only-of-type {\n",
       "        vertical-align: middle;\n",
       "    }\n",
       "\n",
       "    .dataframe tbody tr th {\n",
       "        vertical-align: top;\n",
       "    }\n",
       "\n",
       "    .dataframe thead th {\n",
       "        text-align: right;\n",
       "    }\n",
       "</style>\n",
       "<table border=\"1\" class=\"dataframe\">\n",
       "  <thead>\n",
       "    <tr style=\"text-align: right;\">\n",
       "      <th></th>\n",
       "      <th>Name</th>\n",
       "      <th>Age</th>\n",
       "      <th>Gender(M:0,W:1)</th>\n",
       "      <th>Grade</th>\n",
       "      <th>Survey</th>\n",
       "      <th>Result</th>\n",
       "    </tr>\n",
       "  </thead>\n",
       "  <tbody>\n",
       "    <tr>\n",
       "      <th>Customer1</th>\n",
       "      <td>김유진</td>\n",
       "      <td>25</td>\n",
       "      <td>1</td>\n",
       "      <td>A</td>\n",
       "      <td>True</td>\n",
       "      <td>3</td>\n",
       "    </tr>\n",
       "    <tr>\n",
       "      <th>Customer2</th>\n",
       "      <td>김정민</td>\n",
       "      <td>31</td>\n",
       "      <td>0</td>\n",
       "      <td>B</td>\n",
       "      <td>False</td>\n",
       "      <td>4</td>\n",
       "    </tr>\n",
       "    <tr>\n",
       "      <th>Customer3</th>\n",
       "      <td>홍길동</td>\n",
       "      <td>36</td>\n",
       "      <td>None</td>\n",
       "      <td>C</td>\n",
       "      <td>False</td>\n",
       "      <td>1</td>\n",
       "    </tr>\n",
       "    <tr>\n",
       "      <th>Customer4</th>\n",
       "      <td>박보람</td>\n",
       "      <td>13</td>\n",
       "      <td>1</td>\n",
       "      <td>D</td>\n",
       "      <td>True</td>\n",
       "      <td>3</td>\n",
       "    </tr>\n",
       "  </tbody>\n",
       "</table>\n",
       "</div>"
      ],
      "text/plain": [
       "          Name Age Gender(M:0,W:1) Grade Survey Result\n",
       "Customer1  김유진  25               1     A   True      3\n",
       "Customer2  김정민  31               0     B  False      4\n",
       "Customer3  홍길동  36            None     C  False      1\n",
       "Customer4  박보람  13               1     D   True      3"
      ]
     },
     "execution_count": 141,
     "metadata": {},
     "output_type": "execute_result"
    }
   ],
   "source": [
    "data_T = data_1.T\n",
    "data_T"
   ]
  },
  {
   "cell_type": "code",
   "execution_count": 142,
   "id": "da97ff01",
   "metadata": {},
   "outputs": [
    {
     "data": {
      "text/plain": [
       "array([['김유진', 25, 1, 'A', True, 3],\n",
       "       ['김정민', 31, 0, 'B', False, 4],\n",
       "       ['홍길동', 36, None, 'C', False, 1],\n",
       "       ['박보람', 13, 1, 'D', True, 3]], dtype=object)"
      ]
     },
     "execution_count": 142,
     "metadata": {},
     "output_type": "execute_result"
    }
   ],
   "source": [
    "data_T.values"
   ]
  },
  {
   "cell_type": "code",
   "execution_count": 143,
   "id": "a864bc13",
   "metadata": {},
   "outputs": [
    {
     "data": {
      "text/html": [
       "<div>\n",
       "<style scoped>\n",
       "    .dataframe tbody tr th:only-of-type {\n",
       "        vertical-align: middle;\n",
       "    }\n",
       "\n",
       "    .dataframe tbody tr th {\n",
       "        vertical-align: top;\n",
       "    }\n",
       "\n",
       "    .dataframe thead th {\n",
       "        text-align: right;\n",
       "    }\n",
       "</style>\n",
       "<table border=\"1\" class=\"dataframe\">\n",
       "  <thead>\n",
       "    <tr style=\"text-align: right;\">\n",
       "      <th></th>\n",
       "      <th>Name</th>\n",
       "      <th>Age</th>\n",
       "      <th>Gender(M:0,W:1)</th>\n",
       "      <th>Grade</th>\n",
       "      <th>Survey</th>\n",
       "      <th>Result</th>\n",
       "    </tr>\n",
       "  </thead>\n",
       "  <tbody>\n",
       "    <tr>\n",
       "      <th>Customer1</th>\n",
       "      <td>김유진</td>\n",
       "      <td>25</td>\n",
       "      <td>1</td>\n",
       "      <td>A</td>\n",
       "      <td>True</td>\n",
       "      <td>3</td>\n",
       "    </tr>\n",
       "    <tr>\n",
       "      <th>Customer2</th>\n",
       "      <td>김정민</td>\n",
       "      <td>31</td>\n",
       "      <td>0</td>\n",
       "      <td>B</td>\n",
       "      <td>False</td>\n",
       "      <td>4</td>\n",
       "    </tr>\n",
       "    <tr>\n",
       "      <th>Customer3</th>\n",
       "      <td>홍길동</td>\n",
       "      <td>36</td>\n",
       "      <td>None</td>\n",
       "      <td>C</td>\n",
       "      <td>False</td>\n",
       "      <td>1</td>\n",
       "    </tr>\n",
       "    <tr>\n",
       "      <th>Customer4</th>\n",
       "      <td>박보람</td>\n",
       "      <td>13</td>\n",
       "      <td>1</td>\n",
       "      <td>D</td>\n",
       "      <td>True</td>\n",
       "      <td>3</td>\n",
       "    </tr>\n",
       "  </tbody>\n",
       "</table>\n",
       "</div>"
      ],
      "text/plain": [
       "          Name Age Gender(M:0,W:1) Grade Survey Result\n",
       "Customer1  김유진  25               1     A   True      3\n",
       "Customer2  김정민  31               0     B  False      4\n",
       "Customer3  홍길동  36            None     C  False      1\n",
       "Customer4  박보람  13               1     D   True      3"
      ]
     },
     "execution_count": 143,
     "metadata": {},
     "output_type": "execute_result"
    }
   ],
   "source": [
    "data_T.tail()"
   ]
  },
  {
   "cell_type": "code",
   "execution_count": 144,
   "id": "e8f1f435",
   "metadata": {},
   "outputs": [
    {
     "data": {
      "text/plain": [
       "(4, 6)"
      ]
     },
     "execution_count": 144,
     "metadata": {},
     "output_type": "execute_result"
    }
   ],
   "source": [
    "data_T.shape"
   ]
  },
  {
   "cell_type": "code",
   "execution_count": 145,
   "id": "66c7393b",
   "metadata": {},
   "outputs": [
    {
     "data": {
      "text/plain": [
       "24"
      ]
     },
     "execution_count": 145,
     "metadata": {},
     "output_type": "execute_result"
    }
   ],
   "source": [
    "data_T.size"
   ]
  },
  {
   "cell_type": "code",
   "execution_count": 146,
   "id": "30bd1b15",
   "metadata": {},
   "outputs": [
    {
     "data": {
      "text/plain": [
       "Name               object\n",
       "Age                object\n",
       "Gender(M:0,W:1)    object\n",
       "Grade              object\n",
       "Survey             object\n",
       "Result             object\n",
       "dtype: object"
      ]
     },
     "execution_count": 146,
     "metadata": {},
     "output_type": "execute_result"
    }
   ],
   "source": [
    "data_T.dtypes"
   ]
  },
  {
   "cell_type": "code",
   "execution_count": 147,
   "id": "896096fb",
   "metadata": {},
   "outputs": [
    {
     "data": {
      "text/html": [
       "<div>\n",
       "<style scoped>\n",
       "    .dataframe tbody tr th:only-of-type {\n",
       "        vertical-align: middle;\n",
       "    }\n",
       "\n",
       "    .dataframe tbody tr th {\n",
       "        vertical-align: top;\n",
       "    }\n",
       "\n",
       "    .dataframe thead th {\n",
       "        text-align: right;\n",
       "    }\n",
       "</style>\n",
       "<table border=\"1\" class=\"dataframe\">\n",
       "  <thead>\n",
       "    <tr style=\"text-align: right;\">\n",
       "      <th></th>\n",
       "      <th>Customer1</th>\n",
       "      <th>Customer2</th>\n",
       "      <th>Customer3</th>\n",
       "      <th>Customer4</th>\n",
       "    </tr>\n",
       "  </thead>\n",
       "  <tbody>\n",
       "    <tr>\n",
       "      <th>Name</th>\n",
       "      <td>김유진</td>\n",
       "      <td>김정민</td>\n",
       "      <td>홍길동</td>\n",
       "      <td>박보람</td>\n",
       "    </tr>\n",
       "    <tr>\n",
       "      <th>Age</th>\n",
       "      <td>25</td>\n",
       "      <td>31</td>\n",
       "      <td>36</td>\n",
       "      <td>13</td>\n",
       "    </tr>\n",
       "    <tr>\n",
       "      <th>Gender(M:0,W:1)</th>\n",
       "      <td>1</td>\n",
       "      <td>0</td>\n",
       "      <td>None</td>\n",
       "      <td>1</td>\n",
       "    </tr>\n",
       "    <tr>\n",
       "      <th>Grade</th>\n",
       "      <td>A</td>\n",
       "      <td>B</td>\n",
       "      <td>C</td>\n",
       "      <td>D</td>\n",
       "    </tr>\n",
       "    <tr>\n",
       "      <th>Survey</th>\n",
       "      <td>True</td>\n",
       "      <td>False</td>\n",
       "      <td>False</td>\n",
       "      <td>True</td>\n",
       "    </tr>\n",
       "    <tr>\n",
       "      <th>Result</th>\n",
       "      <td>3</td>\n",
       "      <td>4</td>\n",
       "      <td>1</td>\n",
       "      <td>3</td>\n",
       "    </tr>\n",
       "  </tbody>\n",
       "</table>\n",
       "</div>"
      ],
      "text/plain": [
       "                Customer1 Customer2 Customer3 Customer4\n",
       "Name                  김유진       김정민       홍길동       박보람\n",
       "Age                    25        31        36        13\n",
       "Gender(M:0,W:1)         1         0      None         1\n",
       "Grade                   A         B         C         D\n",
       "Survey               True     False     False      True\n",
       "Result                  3         4         1         3"
      ]
     },
     "execution_count": 147,
     "metadata": {},
     "output_type": "execute_result"
    }
   ],
   "source": [
    "data_1"
   ]
  },
  {
   "cell_type": "code",
   "execution_count": 148,
   "id": "b59d79e2",
   "metadata": {},
   "outputs": [
    {
     "data": {
      "text/plain": [
       "Customer1    object\n",
       "Customer2    object\n",
       "Customer3    object\n",
       "Customer4    object\n",
       "dtype: object"
      ]
     },
     "execution_count": 148,
     "metadata": {},
     "output_type": "execute_result"
    }
   ],
   "source": [
    "data_1.dtypes"
   ]
  },
  {
   "cell_type": "code",
   "execution_count": 149,
   "id": "46623a73",
   "metadata": {},
   "outputs": [
    {
     "name": "stdout",
     "output_type": "stream",
     "text": [
      "<class 'pandas.core.frame.DataFrame'>\n",
      "Index: 6 entries, Name to Result\n",
      "Data columns (total 4 columns):\n",
      " #   Column     Non-Null Count  Dtype \n",
      "---  ------     --------------  ----- \n",
      " 0   Customer1  6 non-null      object\n",
      " 1   Customer2  6 non-null      object\n",
      " 2   Customer3  5 non-null      object\n",
      " 3   Customer4  6 non-null      object\n",
      "dtypes: object(4)\n",
      "memory usage: 412.0+ bytes\n"
     ]
    }
   ],
   "source": [
    "data_1.info()"
   ]
  },
  {
   "cell_type": "code",
   "execution_count": 150,
   "id": "bd2200b7",
   "metadata": {},
   "outputs": [
    {
     "name": "stdout",
     "output_type": "stream",
     "text": [
      "<class 'pandas.core.frame.DataFrame'>\n",
      "Index: 4 entries, Customer1 to Customer4\n",
      "Data columns (total 6 columns):\n",
      " #   Column           Non-Null Count  Dtype \n",
      "---  ------           --------------  ----- \n",
      " 0   Name             4 non-null      object\n",
      " 1   Age              4 non-null      object\n",
      " 2   Gender(M:0,W:1)  3 non-null      object\n",
      " 3   Grade            4 non-null      object\n",
      " 4   Survey           4 non-null      object\n",
      " 5   Result           4 non-null      object\n",
      "dtypes: object(6)\n",
      "memory usage: 396.0+ bytes\n"
     ]
    }
   ],
   "source": [
    "data_T.info()"
   ]
  },
  {
   "cell_type": "code",
   "execution_count": 151,
   "id": "a7d53a47",
   "metadata": {},
   "outputs": [],
   "source": [
    "dd = pd.DataFrame(data = {'name':['홍길동', 'Jessica', '장그래', '제인', None, '최강타'],\n",
    "                          'gender':[1, 2, None, 2, 1, 1],\n",
    "                          'job':['학생', None, '직장인', '주부', '직장인', '직장인'],\n",
    "                          'age':[19, 55, 23, 35, None, None],\n",
    "                          'grade':['A', 'C', 'B', None, None, 'A'],\n",
    "                          'total':[None, 18.5, 23.7, 47.2, 13.5, 27.0],\n",
    "                          'survey':[3, 4, 2, 5, 5, 3],\n",
    "                          'result':[True, True, False, True, None, False]})"
   ]
  },
  {
   "cell_type": "code",
   "execution_count": 152,
   "id": "4793ed0a",
   "metadata": {},
   "outputs": [
    {
     "name": "stdout",
     "output_type": "stream",
     "text": [
      "<class 'pandas.core.frame.DataFrame'>\n",
      "RangeIndex: 6 entries, 0 to 5\n",
      "Data columns (total 8 columns):\n",
      " #   Column  Non-Null Count  Dtype  \n",
      "---  ------  --------------  -----  \n",
      " 0   name    5 non-null      object \n",
      " 1   gender  5 non-null      float64\n",
      " 2   job     5 non-null      object \n",
      " 3   age     4 non-null      float64\n",
      " 4   grade   4 non-null      object \n",
      " 5   total   5 non-null      float64\n",
      " 6   survey  6 non-null      int64  \n",
      " 7   result  5 non-null      object \n",
      "dtypes: float64(3), int64(1), object(4)\n",
      "memory usage: 512.0+ bytes\n"
     ]
    }
   ],
   "source": [
    "dd.info()"
   ]
  },
  {
   "cell_type": "code",
   "execution_count": 153,
   "id": "85b2924c",
   "metadata": {},
   "outputs": [
    {
     "data": {
      "text/html": [
       "<div>\n",
       "<style scoped>\n",
       "    .dataframe tbody tr th:only-of-type {\n",
       "        vertical-align: middle;\n",
       "    }\n",
       "\n",
       "    .dataframe tbody tr th {\n",
       "        vertical-align: top;\n",
       "    }\n",
       "\n",
       "    .dataframe thead th {\n",
       "        text-align: right;\n",
       "    }\n",
       "</style>\n",
       "<table border=\"1\" class=\"dataframe\">\n",
       "  <thead>\n",
       "    <tr style=\"text-align: right;\">\n",
       "      <th></th>\n",
       "      <th>name</th>\n",
       "      <th>gender</th>\n",
       "      <th>job</th>\n",
       "      <th>age</th>\n",
       "      <th>grade</th>\n",
       "      <th>total</th>\n",
       "      <th>survey</th>\n",
       "      <th>result</th>\n",
       "    </tr>\n",
       "  </thead>\n",
       "  <tbody>\n",
       "    <tr>\n",
       "      <th>0</th>\n",
       "      <td>홍길동</td>\n",
       "      <td>1.0</td>\n",
       "      <td>학생</td>\n",
       "      <td>19.0</td>\n",
       "      <td>A</td>\n",
       "      <td>NaN</td>\n",
       "      <td>3</td>\n",
       "      <td>True</td>\n",
       "    </tr>\n",
       "    <tr>\n",
       "      <th>1</th>\n",
       "      <td>Jessica</td>\n",
       "      <td>2.0</td>\n",
       "      <td>None</td>\n",
       "      <td>55.0</td>\n",
       "      <td>C</td>\n",
       "      <td>18.5</td>\n",
       "      <td>4</td>\n",
       "      <td>True</td>\n",
       "    </tr>\n",
       "    <tr>\n",
       "      <th>2</th>\n",
       "      <td>장그래</td>\n",
       "      <td>NaN</td>\n",
       "      <td>직장인</td>\n",
       "      <td>23.0</td>\n",
       "      <td>B</td>\n",
       "      <td>23.7</td>\n",
       "      <td>2</td>\n",
       "      <td>False</td>\n",
       "    </tr>\n",
       "    <tr>\n",
       "      <th>3</th>\n",
       "      <td>제인</td>\n",
       "      <td>2.0</td>\n",
       "      <td>주부</td>\n",
       "      <td>35.0</td>\n",
       "      <td>None</td>\n",
       "      <td>47.2</td>\n",
       "      <td>5</td>\n",
       "      <td>True</td>\n",
       "    </tr>\n",
       "    <tr>\n",
       "      <th>4</th>\n",
       "      <td>None</td>\n",
       "      <td>1.0</td>\n",
       "      <td>직장인</td>\n",
       "      <td>NaN</td>\n",
       "      <td>None</td>\n",
       "      <td>13.5</td>\n",
       "      <td>5</td>\n",
       "      <td>None</td>\n",
       "    </tr>\n",
       "    <tr>\n",
       "      <th>5</th>\n",
       "      <td>최강타</td>\n",
       "      <td>1.0</td>\n",
       "      <td>직장인</td>\n",
       "      <td>NaN</td>\n",
       "      <td>A</td>\n",
       "      <td>27.0</td>\n",
       "      <td>3</td>\n",
       "      <td>False</td>\n",
       "    </tr>\n",
       "  </tbody>\n",
       "</table>\n",
       "</div>"
      ],
      "text/plain": [
       "      name  gender   job   age grade  total  survey result\n",
       "0      홍길동     1.0    학생  19.0     A    NaN       3   True\n",
       "1  Jessica     2.0  None  55.0     C   18.5       4   True\n",
       "2      장그래     NaN   직장인  23.0     B   23.7       2  False\n",
       "3       제인     2.0    주부  35.0  None   47.2       5   True\n",
       "4     None     1.0   직장인   NaN  None   13.5       5   None\n",
       "5      최강타     1.0   직장인   NaN     A   27.0       3  False"
      ]
     },
     "execution_count": 153,
     "metadata": {},
     "output_type": "execute_result"
    }
   ],
   "source": [
    "dd"
   ]
  },
  {
   "cell_type": "code",
   "execution_count": 154,
   "id": "9fd1bb90",
   "metadata": {},
   "outputs": [
    {
     "data": {
      "text/plain": [
       "name        제인\n",
       "gender     2.0\n",
       "job         주부\n",
       "age       35.0\n",
       "grade     None\n",
       "total     47.2\n",
       "survey       5\n",
       "result    True\n",
       "Name: 3, dtype: object"
      ]
     },
     "execution_count": 154,
     "metadata": {},
     "output_type": "execute_result"
    }
   ],
   "source": [
    "dd.loc[3]"
   ]
  },
  {
   "cell_type": "code",
   "execution_count": 155,
   "id": "7b9214d7",
   "metadata": {},
   "outputs": [],
   "source": [
    "c1 = ['홍길동', 1, '학생', 19, 'A', None, 3, True]\n",
    "c2 = ['Jessica', 2, None, 55, 'C', 18.5, 4, True]\n",
    "c3 = ['장그래', None, '직장인', 23, 'B', 23.7, 2, False]\n",
    "c4 = ['제인', 2, '주부', 35, None, 47.2, 5, True]\n",
    "c5 = [None, 1, '직장인',  None, None, 13.5, 5, None]\n",
    "c6 = ['최강타', 1, '직장인', None, 'A', 27.0, 3, False]\n",
    "\n",
    "cs = pd.DataFrame(data = [c1, c2, c3, c4, c5, c6],\n",
    "                  index = ['고객1', '고객2', '고객3', '고객4', '고객5', '고객6'],\n",
    "                  columns = ['name', 'gender', 'job', 'age', 'grade', 'total', 'survey', 'result'])\n"
   ]
  },
  {
   "cell_type": "code",
   "execution_count": 156,
   "id": "3a88dd1b",
   "metadata": {},
   "outputs": [
    {
     "data": {
      "text/html": [
       "<div>\n",
       "<style scoped>\n",
       "    .dataframe tbody tr th:only-of-type {\n",
       "        vertical-align: middle;\n",
       "    }\n",
       "\n",
       "    .dataframe tbody tr th {\n",
       "        vertical-align: top;\n",
       "    }\n",
       "\n",
       "    .dataframe thead th {\n",
       "        text-align: right;\n",
       "    }\n",
       "</style>\n",
       "<table border=\"1\" class=\"dataframe\">\n",
       "  <thead>\n",
       "    <tr style=\"text-align: right;\">\n",
       "      <th></th>\n",
       "      <th>name</th>\n",
       "      <th>gender</th>\n",
       "      <th>job</th>\n",
       "      <th>age</th>\n",
       "      <th>grade</th>\n",
       "      <th>total</th>\n",
       "      <th>survey</th>\n",
       "      <th>result</th>\n",
       "    </tr>\n",
       "  </thead>\n",
       "  <tbody>\n",
       "    <tr>\n",
       "      <th>고객1</th>\n",
       "      <td>홍길동</td>\n",
       "      <td>1.0</td>\n",
       "      <td>학생</td>\n",
       "      <td>19.0</td>\n",
       "      <td>A</td>\n",
       "      <td>NaN</td>\n",
       "      <td>3</td>\n",
       "      <td>True</td>\n",
       "    </tr>\n",
       "    <tr>\n",
       "      <th>고객2</th>\n",
       "      <td>Jessica</td>\n",
       "      <td>2.0</td>\n",
       "      <td>None</td>\n",
       "      <td>55.0</td>\n",
       "      <td>C</td>\n",
       "      <td>18.5</td>\n",
       "      <td>4</td>\n",
       "      <td>True</td>\n",
       "    </tr>\n",
       "    <tr>\n",
       "      <th>고객3</th>\n",
       "      <td>장그래</td>\n",
       "      <td>NaN</td>\n",
       "      <td>직장인</td>\n",
       "      <td>23.0</td>\n",
       "      <td>B</td>\n",
       "      <td>23.7</td>\n",
       "      <td>2</td>\n",
       "      <td>False</td>\n",
       "    </tr>\n",
       "    <tr>\n",
       "      <th>고객4</th>\n",
       "      <td>제인</td>\n",
       "      <td>2.0</td>\n",
       "      <td>주부</td>\n",
       "      <td>35.0</td>\n",
       "      <td>None</td>\n",
       "      <td>47.2</td>\n",
       "      <td>5</td>\n",
       "      <td>True</td>\n",
       "    </tr>\n",
       "    <tr>\n",
       "      <th>고객5</th>\n",
       "      <td>None</td>\n",
       "      <td>1.0</td>\n",
       "      <td>직장인</td>\n",
       "      <td>NaN</td>\n",
       "      <td>None</td>\n",
       "      <td>13.5</td>\n",
       "      <td>5</td>\n",
       "      <td>None</td>\n",
       "    </tr>\n",
       "    <tr>\n",
       "      <th>고객6</th>\n",
       "      <td>최강타</td>\n",
       "      <td>1.0</td>\n",
       "      <td>직장인</td>\n",
       "      <td>NaN</td>\n",
       "      <td>A</td>\n",
       "      <td>27.0</td>\n",
       "      <td>3</td>\n",
       "      <td>False</td>\n",
       "    </tr>\n",
       "  </tbody>\n",
       "</table>\n",
       "</div>"
      ],
      "text/plain": [
       "        name  gender   job   age grade  total  survey result\n",
       "고객1      홍길동     1.0    학생  19.0     A    NaN       3   True\n",
       "고객2  Jessica     2.0  None  55.0     C   18.5       4   True\n",
       "고객3      장그래     NaN   직장인  23.0     B   23.7       2  False\n",
       "고객4       제인     2.0    주부  35.0  None   47.2       5   True\n",
       "고객5     None     1.0   직장인   NaN  None   13.5       5   None\n",
       "고객6      최강타     1.0   직장인   NaN     A   27.0       3  False"
      ]
     },
     "execution_count": 156,
     "metadata": {},
     "output_type": "execute_result"
    }
   ],
   "source": [
    "cs"
   ]
  },
  {
   "cell_type": "code",
   "execution_count": 157,
   "id": "1b4708c5",
   "metadata": {},
   "outputs": [
    {
     "data": {
      "text/plain": [
       "name      Jessica\n",
       "gender        2.0\n",
       "job          None\n",
       "age          55.0\n",
       "grade           C\n",
       "total        18.5\n",
       "survey          4\n",
       "result       True\n",
       "Name: 고객2, dtype: object"
      ]
     },
     "execution_count": 157,
     "metadata": {},
     "output_type": "execute_result"
    }
   ],
   "source": [
    "cs.loc['고객2']"
   ]
  },
  {
   "cell_type": "code",
   "execution_count": 158,
   "id": "02794d45",
   "metadata": {},
   "outputs": [
    {
     "data": {
      "text/plain": [
       "name      None\n",
       "gender     1.0\n",
       "job        직장인\n",
       "age        NaN\n",
       "grade     None\n",
       "total     13.5\n",
       "survey       5\n",
       "result    None\n",
       "Name: 고객5, dtype: object"
      ]
     },
     "execution_count": 158,
     "metadata": {},
     "output_type": "execute_result"
    }
   ],
   "source": [
    "cs.loc['고객5']"
   ]
  },
  {
   "cell_type": "code",
   "execution_count": 159,
   "id": "33de6b8c",
   "metadata": {},
   "outputs": [
    {
     "data": {
      "text/html": [
       "<div>\n",
       "<style scoped>\n",
       "    .dataframe tbody tr th:only-of-type {\n",
       "        vertical-align: middle;\n",
       "    }\n",
       "\n",
       "    .dataframe tbody tr th {\n",
       "        vertical-align: top;\n",
       "    }\n",
       "\n",
       "    .dataframe thead th {\n",
       "        text-align: right;\n",
       "    }\n",
       "</style>\n",
       "<table border=\"1\" class=\"dataframe\">\n",
       "  <thead>\n",
       "    <tr style=\"text-align: right;\">\n",
       "      <th></th>\n",
       "      <th>name</th>\n",
       "      <th>gender</th>\n",
       "      <th>job</th>\n",
       "      <th>age</th>\n",
       "      <th>grade</th>\n",
       "      <th>total</th>\n",
       "      <th>survey</th>\n",
       "      <th>result</th>\n",
       "    </tr>\n",
       "  </thead>\n",
       "  <tbody>\n",
       "    <tr>\n",
       "      <th>고객1</th>\n",
       "      <td>홍길동</td>\n",
       "      <td>1.0</td>\n",
       "      <td>학생</td>\n",
       "      <td>19.0</td>\n",
       "      <td>A</td>\n",
       "      <td>NaN</td>\n",
       "      <td>3</td>\n",
       "      <td>True</td>\n",
       "    </tr>\n",
       "  </tbody>\n",
       "</table>\n",
       "</div>"
      ],
      "text/plain": [
       "    name  gender job   age grade  total  survey result\n",
       "고객1  홍길동     1.0  학생  19.0     A    NaN       3   True"
      ]
     },
     "execution_count": 159,
     "metadata": {},
     "output_type": "execute_result"
    }
   ],
   "source": [
    "cs.loc[['고객1']]"
   ]
  },
  {
   "cell_type": "code",
   "execution_count": 160,
   "id": "bc5bc545",
   "metadata": {},
   "outputs": [
    {
     "data": {
      "text/html": [
       "<div>\n",
       "<style scoped>\n",
       "    .dataframe tbody tr th:only-of-type {\n",
       "        vertical-align: middle;\n",
       "    }\n",
       "\n",
       "    .dataframe tbody tr th {\n",
       "        vertical-align: top;\n",
       "    }\n",
       "\n",
       "    .dataframe thead th {\n",
       "        text-align: right;\n",
       "    }\n",
       "</style>\n",
       "<table border=\"1\" class=\"dataframe\">\n",
       "  <thead>\n",
       "    <tr style=\"text-align: right;\">\n",
       "      <th></th>\n",
       "      <th>name</th>\n",
       "      <th>gender</th>\n",
       "      <th>job</th>\n",
       "      <th>age</th>\n",
       "      <th>grade</th>\n",
       "      <th>total</th>\n",
       "      <th>survey</th>\n",
       "      <th>result</th>\n",
       "    </tr>\n",
       "  </thead>\n",
       "  <tbody>\n",
       "    <tr>\n",
       "      <th>고객1</th>\n",
       "      <td>홍길동</td>\n",
       "      <td>1.0</td>\n",
       "      <td>학생</td>\n",
       "      <td>19.0</td>\n",
       "      <td>A</td>\n",
       "      <td>NaN</td>\n",
       "      <td>3</td>\n",
       "      <td>True</td>\n",
       "    </tr>\n",
       "  </tbody>\n",
       "</table>\n",
       "</div>"
      ],
      "text/plain": [
       "    name  gender job   age grade  total  survey result\n",
       "고객1  홍길동     1.0  학생  19.0     A    NaN       3   True"
      ]
     },
     "execution_count": 160,
     "metadata": {},
     "output_type": "execute_result"
    }
   ],
   "source": [
    "cs.iloc[[0]]"
   ]
  },
  {
   "cell_type": "code",
   "execution_count": 161,
   "id": "75d1cd2f",
   "metadata": {},
   "outputs": [
    {
     "data": {
      "text/html": [
       "<div>\n",
       "<style scoped>\n",
       "    .dataframe tbody tr th:only-of-type {\n",
       "        vertical-align: middle;\n",
       "    }\n",
       "\n",
       "    .dataframe tbody tr th {\n",
       "        vertical-align: top;\n",
       "    }\n",
       "\n",
       "    .dataframe thead th {\n",
       "        text-align: right;\n",
       "    }\n",
       "</style>\n",
       "<table border=\"1\" class=\"dataframe\">\n",
       "  <thead>\n",
       "    <tr style=\"text-align: right;\">\n",
       "      <th></th>\n",
       "      <th>name</th>\n",
       "      <th>gender</th>\n",
       "      <th>job</th>\n",
       "      <th>age</th>\n",
       "      <th>grade</th>\n",
       "      <th>total</th>\n",
       "      <th>survey</th>\n",
       "      <th>result</th>\n",
       "    </tr>\n",
       "  </thead>\n",
       "  <tbody>\n",
       "    <tr>\n",
       "      <th>고객2</th>\n",
       "      <td>Jessica</td>\n",
       "      <td>2.0</td>\n",
       "      <td>None</td>\n",
       "      <td>55.0</td>\n",
       "      <td>C</td>\n",
       "      <td>18.5</td>\n",
       "      <td>4</td>\n",
       "      <td>True</td>\n",
       "    </tr>\n",
       "    <tr>\n",
       "      <th>고객3</th>\n",
       "      <td>장그래</td>\n",
       "      <td>NaN</td>\n",
       "      <td>직장인</td>\n",
       "      <td>23.0</td>\n",
       "      <td>B</td>\n",
       "      <td>23.7</td>\n",
       "      <td>2</td>\n",
       "      <td>False</td>\n",
       "    </tr>\n",
       "  </tbody>\n",
       "</table>\n",
       "</div>"
      ],
      "text/plain": [
       "        name  gender   job   age grade  total  survey result\n",
       "고객2  Jessica     2.0  None  55.0     C   18.5       4   True\n",
       "고객3      장그래     NaN   직장인  23.0     B   23.7       2  False"
      ]
     },
     "execution_count": 161,
     "metadata": {},
     "output_type": "execute_result"
    }
   ],
   "source": [
    "cs.iloc[1:3]"
   ]
  },
  {
   "cell_type": "code",
   "execution_count": 162,
   "id": "dc0ac2fd",
   "metadata": {},
   "outputs": [
    {
     "data": {
      "text/html": [
       "<div>\n",
       "<style scoped>\n",
       "    .dataframe tbody tr th:only-of-type {\n",
       "        vertical-align: middle;\n",
       "    }\n",
       "\n",
       "    .dataframe tbody tr th {\n",
       "        vertical-align: top;\n",
       "    }\n",
       "\n",
       "    .dataframe thead th {\n",
       "        text-align: right;\n",
       "    }\n",
       "</style>\n",
       "<table border=\"1\" class=\"dataframe\">\n",
       "  <thead>\n",
       "    <tr style=\"text-align: right;\">\n",
       "      <th></th>\n",
       "      <th>name</th>\n",
       "      <th>gender</th>\n",
       "      <th>job</th>\n",
       "      <th>age</th>\n",
       "      <th>grade</th>\n",
       "      <th>total</th>\n",
       "      <th>survey</th>\n",
       "      <th>result</th>\n",
       "    </tr>\n",
       "  </thead>\n",
       "  <tbody>\n",
       "  </tbody>\n",
       "</table>\n",
       "</div>"
      ],
      "text/plain": [
       "Empty DataFrame\n",
       "Columns: [name, gender, job, age, grade, total, survey, result]\n",
       "Index: []"
      ]
     },
     "execution_count": 162,
     "metadata": {},
     "output_type": "execute_result"
    }
   ],
   "source": [
    "cs.iloc[1:1]"
   ]
  },
  {
   "cell_type": "code",
   "execution_count": 163,
   "id": "8107c974",
   "metadata": {},
   "outputs": [
    {
     "data": {
      "text/html": [
       "<div>\n",
       "<style scoped>\n",
       "    .dataframe tbody tr th:only-of-type {\n",
       "        vertical-align: middle;\n",
       "    }\n",
       "\n",
       "    .dataframe tbody tr th {\n",
       "        vertical-align: top;\n",
       "    }\n",
       "\n",
       "    .dataframe thead th {\n",
       "        text-align: right;\n",
       "    }\n",
       "</style>\n",
       "<table border=\"1\" class=\"dataframe\">\n",
       "  <thead>\n",
       "    <tr style=\"text-align: right;\">\n",
       "      <th></th>\n",
       "      <th>name</th>\n",
       "      <th>gender</th>\n",
       "      <th>job</th>\n",
       "      <th>age</th>\n",
       "      <th>grade</th>\n",
       "      <th>total</th>\n",
       "      <th>survey</th>\n",
       "      <th>result</th>\n",
       "    </tr>\n",
       "  </thead>\n",
       "  <tbody>\n",
       "    <tr>\n",
       "      <th>고객3</th>\n",
       "      <td>장그래</td>\n",
       "      <td>NaN</td>\n",
       "      <td>직장인</td>\n",
       "      <td>23.0</td>\n",
       "      <td>B</td>\n",
       "      <td>23.7</td>\n",
       "      <td>2</td>\n",
       "      <td>False</td>\n",
       "    </tr>\n",
       "  </tbody>\n",
       "</table>\n",
       "</div>"
      ],
      "text/plain": [
       "    name  gender  job   age grade  total  survey result\n",
       "고객3  장그래     NaN  직장인  23.0     B   23.7       2  False"
      ]
     },
     "execution_count": 163,
     "metadata": {},
     "output_type": "execute_result"
    }
   ],
   "source": [
    "cs['고객3':'고객3']"
   ]
  },
  {
   "cell_type": "code",
   "execution_count": 164,
   "id": "168c21e0",
   "metadata": {},
   "outputs": [
    {
     "data": {
      "text/html": [
       "<div>\n",
       "<style scoped>\n",
       "    .dataframe tbody tr th:only-of-type {\n",
       "        vertical-align: middle;\n",
       "    }\n",
       "\n",
       "    .dataframe tbody tr th {\n",
       "        vertical-align: top;\n",
       "    }\n",
       "\n",
       "    .dataframe thead th {\n",
       "        text-align: right;\n",
       "    }\n",
       "</style>\n",
       "<table border=\"1\" class=\"dataframe\">\n",
       "  <thead>\n",
       "    <tr style=\"text-align: right;\">\n",
       "      <th></th>\n",
       "      <th>name</th>\n",
       "      <th>gender</th>\n",
       "      <th>job</th>\n",
       "      <th>age</th>\n",
       "      <th>grade</th>\n",
       "      <th>total</th>\n",
       "      <th>survey</th>\n",
       "      <th>result</th>\n",
       "    </tr>\n",
       "  </thead>\n",
       "  <tbody>\n",
       "    <tr>\n",
       "      <th>고객1</th>\n",
       "      <td>홍길동</td>\n",
       "      <td>1.0</td>\n",
       "      <td>학생</td>\n",
       "      <td>19.0</td>\n",
       "      <td>A</td>\n",
       "      <td>NaN</td>\n",
       "      <td>3</td>\n",
       "      <td>True</td>\n",
       "    </tr>\n",
       "    <tr>\n",
       "      <th>고객2</th>\n",
       "      <td>Jessica</td>\n",
       "      <td>2.0</td>\n",
       "      <td>None</td>\n",
       "      <td>55.0</td>\n",
       "      <td>C</td>\n",
       "      <td>18.5</td>\n",
       "      <td>4</td>\n",
       "      <td>True</td>\n",
       "    </tr>\n",
       "    <tr>\n",
       "      <th>고객3</th>\n",
       "      <td>장그래</td>\n",
       "      <td>NaN</td>\n",
       "      <td>직장인</td>\n",
       "      <td>23.0</td>\n",
       "      <td>B</td>\n",
       "      <td>23.7</td>\n",
       "      <td>2</td>\n",
       "      <td>False</td>\n",
       "    </tr>\n",
       "    <tr>\n",
       "      <th>고객4</th>\n",
       "      <td>제인</td>\n",
       "      <td>2.0</td>\n",
       "      <td>주부</td>\n",
       "      <td>35.0</td>\n",
       "      <td>None</td>\n",
       "      <td>47.2</td>\n",
       "      <td>5</td>\n",
       "      <td>True</td>\n",
       "    </tr>\n",
       "  </tbody>\n",
       "</table>\n",
       "</div>"
      ],
      "text/plain": [
       "        name  gender   job   age grade  total  survey result\n",
       "고객1      홍길동     1.0    학생  19.0     A    NaN       3   True\n",
       "고객2  Jessica     2.0  None  55.0     C   18.5       4   True\n",
       "고객3      장그래     NaN   직장인  23.0     B   23.7       2  False\n",
       "고객4       제인     2.0    주부  35.0  None   47.2       5   True"
      ]
     },
     "execution_count": 164,
     "metadata": {},
     "output_type": "execute_result"
    }
   ],
   "source": [
    "cs.loc['고객1':'고객4']"
   ]
  },
  {
   "cell_type": "code",
   "execution_count": 165,
   "id": "e2d45943",
   "metadata": {},
   "outputs": [
    {
     "data": {
      "text/plain": [
       "name       홍길동\n",
       "gender     1.0\n",
       "job         학생\n",
       "age       19.0\n",
       "grade        A\n",
       "total      NaN\n",
       "survey       3\n",
       "result    True\n",
       "Name: 고객1, dtype: object"
      ]
     },
     "execution_count": 165,
     "metadata": {},
     "output_type": "execute_result"
    }
   ],
   "source": [
    "cs.loc['고객1']"
   ]
  },
  {
   "cell_type": "code",
   "execution_count": 166,
   "id": "3838b255",
   "metadata": {},
   "outputs": [
    {
     "data": {
      "text/html": [
       "<div>\n",
       "<style scoped>\n",
       "    .dataframe tbody tr th:only-of-type {\n",
       "        vertical-align: middle;\n",
       "    }\n",
       "\n",
       "    .dataframe tbody tr th {\n",
       "        vertical-align: top;\n",
       "    }\n",
       "\n",
       "    .dataframe thead th {\n",
       "        text-align: right;\n",
       "    }\n",
       "</style>\n",
       "<table border=\"1\" class=\"dataframe\">\n",
       "  <thead>\n",
       "    <tr style=\"text-align: right;\">\n",
       "      <th></th>\n",
       "      <th>name</th>\n",
       "      <th>gender</th>\n",
       "      <th>job</th>\n",
       "      <th>age</th>\n",
       "      <th>grade</th>\n",
       "      <th>total</th>\n",
       "      <th>survey</th>\n",
       "      <th>result</th>\n",
       "    </tr>\n",
       "  </thead>\n",
       "  <tbody>\n",
       "    <tr>\n",
       "      <th>고객1</th>\n",
       "      <td>홍길동</td>\n",
       "      <td>1.0</td>\n",
       "      <td>학생</td>\n",
       "      <td>19.0</td>\n",
       "      <td>A</td>\n",
       "      <td>NaN</td>\n",
       "      <td>3</td>\n",
       "      <td>True</td>\n",
       "    </tr>\n",
       "    <tr>\n",
       "      <th>고객3</th>\n",
       "      <td>장그래</td>\n",
       "      <td>NaN</td>\n",
       "      <td>직장인</td>\n",
       "      <td>23.0</td>\n",
       "      <td>B</td>\n",
       "      <td>23.7</td>\n",
       "      <td>2</td>\n",
       "      <td>False</td>\n",
       "    </tr>\n",
       "    <tr>\n",
       "      <th>고객5</th>\n",
       "      <td>None</td>\n",
       "      <td>1.0</td>\n",
       "      <td>직장인</td>\n",
       "      <td>NaN</td>\n",
       "      <td>None</td>\n",
       "      <td>13.5</td>\n",
       "      <td>5</td>\n",
       "      <td>None</td>\n",
       "    </tr>\n",
       "  </tbody>\n",
       "</table>\n",
       "</div>"
      ],
      "text/plain": [
       "     name  gender  job   age grade  total  survey result\n",
       "고객1   홍길동     1.0   학생  19.0     A    NaN       3   True\n",
       "고객3   장그래     NaN  직장인  23.0     B   23.7       2  False\n",
       "고객5  None     1.0  직장인   NaN  None   13.5       5   None"
      ]
     },
     "execution_count": 166,
     "metadata": {},
     "output_type": "execute_result"
    }
   ],
   "source": [
    "cs.loc[['고객1','고객3','고객5']]"
   ]
  },
  {
   "cell_type": "code",
   "execution_count": 167,
   "id": "03561c8f",
   "metadata": {},
   "outputs": [
    {
     "data": {
      "text/plain": [
       "19.0"
      ]
     },
     "execution_count": 167,
     "metadata": {},
     "output_type": "execute_result"
    }
   ],
   "source": [
    "cs.iloc[0,3]"
   ]
  },
  {
   "cell_type": "code",
   "execution_count": 176,
   "id": "5b99e1f1",
   "metadata": {},
   "outputs": [
    {
     "data": {
      "text/html": [
       "<div>\n",
       "<style scoped>\n",
       "    .dataframe tbody tr th:only-of-type {\n",
       "        vertical-align: middle;\n",
       "    }\n",
       "\n",
       "    .dataframe tbody tr th {\n",
       "        vertical-align: top;\n",
       "    }\n",
       "\n",
       "    .dataframe thead th {\n",
       "        text-align: right;\n",
       "    }\n",
       "</style>\n",
       "<table border=\"1\" class=\"dataframe\">\n",
       "  <thead>\n",
       "    <tr style=\"text-align: right;\">\n",
       "      <th></th>\n",
       "      <th>name</th>\n",
       "      <th>gender</th>\n",
       "      <th>job</th>\n",
       "      <th>age</th>\n",
       "      <th>grade</th>\n",
       "      <th>total</th>\n",
       "      <th>survey</th>\n",
       "      <th>result</th>\n",
       "    </tr>\n",
       "  </thead>\n",
       "  <tbody>\n",
       "    <tr>\n",
       "      <th>고객1</th>\n",
       "      <td>홍길동</td>\n",
       "      <td>1.0</td>\n",
       "      <td>학생</td>\n",
       "      <td>19.0</td>\n",
       "      <td>A</td>\n",
       "      <td>NaN</td>\n",
       "      <td>3</td>\n",
       "      <td>True</td>\n",
       "    </tr>\n",
       "    <tr>\n",
       "      <th>고객5</th>\n",
       "      <td>None</td>\n",
       "      <td>1.0</td>\n",
       "      <td>직장인</td>\n",
       "      <td>NaN</td>\n",
       "      <td>None</td>\n",
       "      <td>13.5</td>\n",
       "      <td>5</td>\n",
       "      <td>None</td>\n",
       "    </tr>\n",
       "    <tr>\n",
       "      <th>고객3</th>\n",
       "      <td>장그래</td>\n",
       "      <td>NaN</td>\n",
       "      <td>직장인</td>\n",
       "      <td>23.0</td>\n",
       "      <td>B</td>\n",
       "      <td>23.7</td>\n",
       "      <td>2</td>\n",
       "      <td>False</td>\n",
       "    </tr>\n",
       "  </tbody>\n",
       "</table>\n",
       "</div>"
      ],
      "text/plain": [
       "     name  gender  job   age grade  total  survey result\n",
       "고객1   홍길동     1.0   학생  19.0     A    NaN       3   True\n",
       "고객5  None     1.0  직장인   NaN  None   13.5       5   None\n",
       "고객3   장그래     NaN  직장인  23.0     B   23.7       2  False"
      ]
     },
     "execution_count": 176,
     "metadata": {},
     "output_type": "execute_result"
    }
   ],
   "source": [
    "cs.iloc[[0,4,2]]"
   ]
  },
  {
   "cell_type": "code",
   "execution_count": 188,
   "id": "5effcc3c",
   "metadata": {},
   "outputs": [],
   "source": [
    "cs_sort = cs.iloc[[0,4,2]]"
   ]
  },
  {
   "cell_type": "code",
   "execution_count": 190,
   "id": "af7ede9b",
   "metadata": {},
   "outputs": [
    {
     "data": {
      "text/html": [
       "<div>\n",
       "<style scoped>\n",
       "    .dataframe tbody tr th:only-of-type {\n",
       "        vertical-align: middle;\n",
       "    }\n",
       "\n",
       "    .dataframe tbody tr th {\n",
       "        vertical-align: top;\n",
       "    }\n",
       "\n",
       "    .dataframe thead th {\n",
       "        text-align: right;\n",
       "    }\n",
       "</style>\n",
       "<table border=\"1\" class=\"dataframe\">\n",
       "  <thead>\n",
       "    <tr style=\"text-align: right;\">\n",
       "      <th></th>\n",
       "      <th>name</th>\n",
       "      <th>gender</th>\n",
       "      <th>job</th>\n",
       "      <th>age</th>\n",
       "      <th>grade</th>\n",
       "      <th>total</th>\n",
       "      <th>survey</th>\n",
       "      <th>result</th>\n",
       "    </tr>\n",
       "  </thead>\n",
       "  <tbody>\n",
       "    <tr>\n",
       "      <th>고객3</th>\n",
       "      <td>장그래</td>\n",
       "      <td>NaN</td>\n",
       "      <td>직장인</td>\n",
       "      <td>23.0</td>\n",
       "      <td>B</td>\n",
       "      <td>23.7</td>\n",
       "      <td>2</td>\n",
       "      <td>False</td>\n",
       "    </tr>\n",
       "    <tr>\n",
       "      <th>고객1</th>\n",
       "      <td>홍길동</td>\n",
       "      <td>1.0</td>\n",
       "      <td>학생</td>\n",
       "      <td>19.0</td>\n",
       "      <td>A</td>\n",
       "      <td>NaN</td>\n",
       "      <td>3</td>\n",
       "      <td>True</td>\n",
       "    </tr>\n",
       "    <tr>\n",
       "      <th>고객5</th>\n",
       "      <td>None</td>\n",
       "      <td>1.0</td>\n",
       "      <td>직장인</td>\n",
       "      <td>NaN</td>\n",
       "      <td>None</td>\n",
       "      <td>13.5</td>\n",
       "      <td>5</td>\n",
       "      <td>None</td>\n",
       "    </tr>\n",
       "  </tbody>\n",
       "</table>\n",
       "</div>"
      ],
      "text/plain": [
       "     name  gender  job   age grade  total  survey result\n",
       "고객3   장그래     NaN  직장인  23.0     B   23.7       2  False\n",
       "고객1   홍길동     1.0   학생  19.0     A    NaN       3   True\n",
       "고객5  None     1.0  직장인   NaN  None   13.5       5   None"
      ]
     },
     "execution_count": 190,
     "metadata": {},
     "output_type": "execute_result"
    }
   ],
   "source": [
    "cs_sort.sort_values(by=['survey'], ascending = True)"
   ]
  },
  {
   "cell_type": "code",
   "execution_count": 192,
   "id": "5f99fd04",
   "metadata": {},
   "outputs": [
    {
     "data": {
      "text/html": [
       "<div>\n",
       "<style scoped>\n",
       "    .dataframe tbody tr th:only-of-type {\n",
       "        vertical-align: middle;\n",
       "    }\n",
       "\n",
       "    .dataframe tbody tr th {\n",
       "        vertical-align: top;\n",
       "    }\n",
       "\n",
       "    .dataframe thead th {\n",
       "        text-align: right;\n",
       "    }\n",
       "</style>\n",
       "<table border=\"1\" class=\"dataframe\">\n",
       "  <thead>\n",
       "    <tr style=\"text-align: right;\">\n",
       "      <th></th>\n",
       "      <th>name</th>\n",
       "      <th>gender</th>\n",
       "      <th>job</th>\n",
       "      <th>age</th>\n",
       "      <th>grade</th>\n",
       "      <th>total</th>\n",
       "      <th>survey</th>\n",
       "      <th>result</th>\n",
       "    </tr>\n",
       "  </thead>\n",
       "  <tbody>\n",
       "    <tr>\n",
       "      <th>고객1</th>\n",
       "      <td>홍길동</td>\n",
       "      <td>1.0</td>\n",
       "      <td>학생</td>\n",
       "      <td>19.0</td>\n",
       "      <td>A</td>\n",
       "      <td>NaN</td>\n",
       "      <td>3</td>\n",
       "      <td>True</td>\n",
       "    </tr>\n",
       "    <tr>\n",
       "      <th>고객3</th>\n",
       "      <td>장그래</td>\n",
       "      <td>NaN</td>\n",
       "      <td>직장인</td>\n",
       "      <td>23.0</td>\n",
       "      <td>B</td>\n",
       "      <td>23.7</td>\n",
       "      <td>2</td>\n",
       "      <td>False</td>\n",
       "    </tr>\n",
       "    <tr>\n",
       "      <th>고객5</th>\n",
       "      <td>None</td>\n",
       "      <td>1.0</td>\n",
       "      <td>직장인</td>\n",
       "      <td>NaN</td>\n",
       "      <td>None</td>\n",
       "      <td>13.5</td>\n",
       "      <td>5</td>\n",
       "      <td>None</td>\n",
       "    </tr>\n",
       "  </tbody>\n",
       "</table>\n",
       "</div>"
      ],
      "text/plain": [
       "     name  gender  job   age grade  total  survey result\n",
       "고객1   홍길동     1.0   학생  19.0     A    NaN       3   True\n",
       "고객3   장그래     NaN  직장인  23.0     B   23.7       2  False\n",
       "고객5  None     1.0  직장인   NaN  None   13.5       5   None"
      ]
     },
     "execution_count": 192,
     "metadata": {},
     "output_type": "execute_result"
    }
   ],
   "source": [
    "cs_sort.sort_index()\n"
   ]
  },
  {
   "cell_type": "code",
   "execution_count": 193,
   "id": "73196c50",
   "metadata": {},
   "outputs": [
    {
     "data": {
      "text/plain": [
       "고객1       A\n",
       "고객2       C\n",
       "고객3       B\n",
       "고객4    None\n",
       "고객5    None\n",
       "고객6       A\n",
       "Name: grade, dtype: object"
      ]
     },
     "execution_count": 193,
     "metadata": {},
     "output_type": "execute_result"
    }
   ],
   "source": [
    "cs.grade"
   ]
  },
  {
   "cell_type": "code",
   "execution_count": 205,
   "id": "71c3d557",
   "metadata": {},
   "outputs": [
    {
     "data": {
      "text/html": [
       "<div>\n",
       "<style scoped>\n",
       "    .dataframe tbody tr th:only-of-type {\n",
       "        vertical-align: middle;\n",
       "    }\n",
       "\n",
       "    .dataframe tbody tr th {\n",
       "        vertical-align: top;\n",
       "    }\n",
       "\n",
       "    .dataframe thead th {\n",
       "        text-align: right;\n",
       "    }\n",
       "</style>\n",
       "<table border=\"1\" class=\"dataframe\">\n",
       "  <thead>\n",
       "    <tr style=\"text-align: right;\">\n",
       "      <th></th>\n",
       "      <th>job</th>\n",
       "    </tr>\n",
       "  </thead>\n",
       "  <tbody>\n",
       "    <tr>\n",
       "      <th>0</th>\n",
       "      <td>학생</td>\n",
       "    </tr>\n",
       "    <tr>\n",
       "      <th>1</th>\n",
       "      <td>None</td>\n",
       "    </tr>\n",
       "    <tr>\n",
       "      <th>2</th>\n",
       "      <td>직장인</td>\n",
       "    </tr>\n",
       "    <tr>\n",
       "      <th>3</th>\n",
       "      <td>주부</td>\n",
       "    </tr>\n",
       "    <tr>\n",
       "      <th>4</th>\n",
       "      <td>직장인</td>\n",
       "    </tr>\n",
       "    <tr>\n",
       "      <th>5</th>\n",
       "      <td>직장인</td>\n",
       "    </tr>\n",
       "  </tbody>\n",
       "</table>\n",
       "</div>"
      ],
      "text/plain": [
       "    job\n",
       "0    학생\n",
       "1  None\n",
       "2   직장인\n",
       "3    주부\n",
       "4   직장인\n",
       "5   직장인"
      ]
     },
     "execution_count": 205,
     "metadata": {},
     "output_type": "execute_result"
    }
   ],
   "source": [
    "dd.loc[:,['job']]"
   ]
  },
  {
   "cell_type": "code",
   "execution_count": 214,
   "id": "4c769fea",
   "metadata": {},
   "outputs": [
    {
     "data": {
      "text/html": [
       "<div>\n",
       "<style scoped>\n",
       "    .dataframe tbody tr th:only-of-type {\n",
       "        vertical-align: middle;\n",
       "    }\n",
       "\n",
       "    .dataframe tbody tr th {\n",
       "        vertical-align: top;\n",
       "    }\n",
       "\n",
       "    .dataframe thead th {\n",
       "        text-align: right;\n",
       "    }\n",
       "</style>\n",
       "<table border=\"1\" class=\"dataframe\">\n",
       "  <thead>\n",
       "    <tr style=\"text-align: right;\">\n",
       "      <th></th>\n",
       "      <th>age</th>\n",
       "      <th>grade</th>\n",
       "      <th>total</th>\n",
       "      <th>survey</th>\n",
       "      <th>result</th>\n",
       "    </tr>\n",
       "  </thead>\n",
       "  <tbody>\n",
       "    <tr>\n",
       "      <th>고객1</th>\n",
       "      <td>19.0</td>\n",
       "      <td>A</td>\n",
       "      <td>NaN</td>\n",
       "      <td>3</td>\n",
       "      <td>True</td>\n",
       "    </tr>\n",
       "    <tr>\n",
       "      <th>고객2</th>\n",
       "      <td>55.0</td>\n",
       "      <td>C</td>\n",
       "      <td>18.5</td>\n",
       "      <td>4</td>\n",
       "      <td>True</td>\n",
       "    </tr>\n",
       "    <tr>\n",
       "      <th>고객3</th>\n",
       "      <td>23.0</td>\n",
       "      <td>B</td>\n",
       "      <td>23.7</td>\n",
       "      <td>2</td>\n",
       "      <td>False</td>\n",
       "    </tr>\n",
       "  </tbody>\n",
       "</table>\n",
       "</div>"
      ],
      "text/plain": [
       "      age grade  total  survey result\n",
       "고객1  19.0     A    NaN       3   True\n",
       "고객2  55.0     C   18.5       4   True\n",
       "고객3  23.0     B   23.7       2  False"
      ]
     },
     "execution_count": 214,
     "metadata": {},
     "output_type": "execute_result"
    }
   ],
   "source": [
    "cs.loc['고객1':'고객3','age':'result'] #특정 범위 행, 열 추출"
   ]
  },
  {
   "cell_type": "code",
   "execution_count": 217,
   "id": "bab9a0f5",
   "metadata": {},
   "outputs": [
    {
     "data": {
      "text/html": [
       "<div>\n",
       "<style scoped>\n",
       "    .dataframe tbody tr th:only-of-type {\n",
       "        vertical-align: middle;\n",
       "    }\n",
       "\n",
       "    .dataframe tbody tr th {\n",
       "        vertical-align: top;\n",
       "    }\n",
       "\n",
       "    .dataframe thead th {\n",
       "        text-align: right;\n",
       "    }\n",
       "</style>\n",
       "<table border=\"1\" class=\"dataframe\">\n",
       "  <thead>\n",
       "    <tr style=\"text-align: right;\">\n",
       "      <th></th>\n",
       "      <th>name</th>\n",
       "      <th>age</th>\n",
       "    </tr>\n",
       "  </thead>\n",
       "  <tbody>\n",
       "    <tr>\n",
       "      <th>0</th>\n",
       "      <td>홍길동</td>\n",
       "      <td>19.0</td>\n",
       "    </tr>\n",
       "    <tr>\n",
       "      <th>1</th>\n",
       "      <td>Jessica</td>\n",
       "      <td>55.0</td>\n",
       "    </tr>\n",
       "    <tr>\n",
       "      <th>2</th>\n",
       "      <td>장그래</td>\n",
       "      <td>23.0</td>\n",
       "    </tr>\n",
       "    <tr>\n",
       "      <th>3</th>\n",
       "      <td>제인</td>\n",
       "      <td>35.0</td>\n",
       "    </tr>\n",
       "    <tr>\n",
       "      <th>4</th>\n",
       "      <td>None</td>\n",
       "      <td>NaN</td>\n",
       "    </tr>\n",
       "  </tbody>\n",
       "</table>\n",
       "</div>"
      ],
      "text/plain": [
       "      name   age\n",
       "0      홍길동  19.0\n",
       "1  Jessica  55.0\n",
       "2      장그래  23.0\n",
       "3       제인  35.0\n",
       "4     None   NaN"
      ]
     },
     "execution_count": 217,
     "metadata": {},
     "output_type": "execute_result"
    }
   ],
   "source": [
    "dd.loc[0:4,['name','age']] #특정 값의 행, 열 추출"
   ]
  }
 ],
 "metadata": {
  "kernelspec": {
   "display_name": "Python 3 (ipykernel)",
   "language": "python",
   "name": "python3"
  },
  "language_info": {
   "codemirror_mode": {
    "name": "ipython",
    "version": 3
   },
   "file_extension": ".py",
   "mimetype": "text/x-python",
   "name": "python",
   "nbconvert_exporter": "python",
   "pygments_lexer": "ipython3",
   "version": "3.9.13"
  }
 },
 "nbformat": 4,
 "nbformat_minor": 5
}
