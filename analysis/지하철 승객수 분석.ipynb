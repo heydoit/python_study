{
 "cells": [
  {
   "cell_type": "code",
   "execution_count": 3,
   "id": "316c42b6",
   "metadata": {},
   "outputs": [],
   "source": [
    "import pandas as pd"
   ]
  },
  {
   "cell_type": "code",
   "execution_count": 4,
   "id": "a35d69e3",
   "metadata": {},
   "outputs": [],
   "source": [
    "data = pd.read_csv('C:/csv_file/서울교통공사_권종별 승차인원_20220831.csv',encoding = 'cp949')"
   ]
  },
  {
   "cell_type": "code",
   "execution_count": 5,
   "id": "a187ffb4",
   "metadata": {},
   "outputs": [
    {
     "data": {
      "text/html": [
       "<div>\n",
       "<style scoped>\n",
       "    .dataframe tbody tr th:only-of-type {\n",
       "        vertical-align: middle;\n",
       "    }\n",
       "\n",
       "    .dataframe tbody tr th {\n",
       "        vertical-align: top;\n",
       "    }\n",
       "\n",
       "    .dataframe thead th {\n",
       "        text-align: right;\n",
       "    }\n",
       "</style>\n",
       "<table border=\"1\" class=\"dataframe\">\n",
       "  <thead>\n",
       "    <tr style=\"text-align: right;\">\n",
       "      <th></th>\n",
       "      <th>연번</th>\n",
       "      <th>호선</th>\n",
       "      <th>고유역번호(외부역코드)</th>\n",
       "      <th>역명</th>\n",
       "      <th>수송연월</th>\n",
       "      <th>권종</th>\n",
       "      <th>승차인원수</th>\n",
       "    </tr>\n",
       "  </thead>\n",
       "  <tbody>\n",
       "    <tr>\n",
       "      <th>0</th>\n",
       "      <td>1</td>\n",
       "      <td>1</td>\n",
       "      <td>150</td>\n",
       "      <td>서울역(1)</td>\n",
       "      <td>2022-01</td>\n",
       "      <td>선불</td>\n",
       "      <td>228131</td>\n",
       "    </tr>\n",
       "    <tr>\n",
       "      <th>1</th>\n",
       "      <td>2</td>\n",
       "      <td>1</td>\n",
       "      <td>151</td>\n",
       "      <td>시청(1)</td>\n",
       "      <td>2022-01</td>\n",
       "      <td>선불</td>\n",
       "      <td>103592</td>\n",
       "    </tr>\n",
       "    <tr>\n",
       "      <th>2</th>\n",
       "      <td>3</td>\n",
       "      <td>1</td>\n",
       "      <td>152</td>\n",
       "      <td>종각</td>\n",
       "      <td>2022-01</td>\n",
       "      <td>선불</td>\n",
       "      <td>177559</td>\n",
       "    </tr>\n",
       "    <tr>\n",
       "      <th>3</th>\n",
       "      <td>4</td>\n",
       "      <td>1</td>\n",
       "      <td>153</td>\n",
       "      <td>종로3가(1)</td>\n",
       "      <td>2022-01</td>\n",
       "      <td>선불</td>\n",
       "      <td>94034</td>\n",
       "    </tr>\n",
       "    <tr>\n",
       "      <th>4</th>\n",
       "      <td>5</td>\n",
       "      <td>1</td>\n",
       "      <td>154</td>\n",
       "      <td>종로5가</td>\n",
       "      <td>2022-01</td>\n",
       "      <td>선불</td>\n",
       "      <td>82217</td>\n",
       "    </tr>\n",
       "    <tr>\n",
       "      <th>...</th>\n",
       "      <td>...</td>\n",
       "      <td>...</td>\n",
       "      <td>...</td>\n",
       "      <td>...</td>\n",
       "      <td>...</td>\n",
       "      <td>...</td>\n",
       "      <td>...</td>\n",
       "    </tr>\n",
       "    <tr>\n",
       "      <th>13675</th>\n",
       "      <td>13676</td>\n",
       "      <td>9</td>\n",
       "      <td>4134</td>\n",
       "      <td>송파나루</td>\n",
       "      <td>2022-08</td>\n",
       "      <td>단체권</td>\n",
       "      <td>0</td>\n",
       "    </tr>\n",
       "    <tr>\n",
       "      <th>13676</th>\n",
       "      <td>13677</td>\n",
       "      <td>9</td>\n",
       "      <td>4135</td>\n",
       "      <td>한성백제</td>\n",
       "      <td>2022-08</td>\n",
       "      <td>단체권</td>\n",
       "      <td>0</td>\n",
       "    </tr>\n",
       "    <tr>\n",
       "      <th>13677</th>\n",
       "      <td>13678</td>\n",
       "      <td>9</td>\n",
       "      <td>4136</td>\n",
       "      <td>올림픽공원(9)</td>\n",
       "      <td>2022-08</td>\n",
       "      <td>단체권</td>\n",
       "      <td>0</td>\n",
       "    </tr>\n",
       "    <tr>\n",
       "      <th>13678</th>\n",
       "      <td>13679</td>\n",
       "      <td>9</td>\n",
       "      <td>4137</td>\n",
       "      <td>둔촌오륜</td>\n",
       "      <td>2022-08</td>\n",
       "      <td>단체권</td>\n",
       "      <td>0</td>\n",
       "    </tr>\n",
       "    <tr>\n",
       "      <th>13679</th>\n",
       "      <td>13680</td>\n",
       "      <td>9</td>\n",
       "      <td>4138</td>\n",
       "      <td>중앙보훈병원</td>\n",
       "      <td>2022-08</td>\n",
       "      <td>단체권</td>\n",
       "      <td>0</td>\n",
       "    </tr>\n",
       "  </tbody>\n",
       "</table>\n",
       "<p>13680 rows × 7 columns</p>\n",
       "</div>"
      ],
      "text/plain": [
       "          연번  호선  고유역번호(외부역코드)        역명     수송연월   권종   승차인원수\n",
       "0          1   1           150    서울역(1)  2022-01   선불  228131\n",
       "1          2   1           151     시청(1)  2022-01   선불  103592\n",
       "2          3   1           152        종각  2022-01   선불  177559\n",
       "3          4   1           153   종로3가(1)  2022-01   선불   94034\n",
       "4          5   1           154      종로5가  2022-01   선불   82217\n",
       "...      ...  ..           ...       ...      ...  ...     ...\n",
       "13675  13676   9          4134      송파나루  2022-08  단체권       0\n",
       "13676  13677   9          4135      한성백제  2022-08  단체권       0\n",
       "13677  13678   9          4136  올림픽공원(9)  2022-08  단체권       0\n",
       "13678  13679   9          4137      둔촌오륜  2022-08  단체권       0\n",
       "13679  13680   9          4138    중앙보훈병원  2022-08  단체권       0\n",
       "\n",
       "[13680 rows x 7 columns]"
      ]
     },
     "execution_count": 5,
     "metadata": {},
     "output_type": "execute_result"
    }
   ],
   "source": [
    "data"
   ]
  },
  {
   "cell_type": "code",
   "execution_count": 6,
   "id": "8f9b1138",
   "metadata": {
    "scrolled": false
   },
   "outputs": [
    {
     "data": {
      "text/plain": [
       "선불     2280\n",
       "후불     2280\n",
       "정기권    2280\n",
       "우대권    2280\n",
       "1회권    2280\n",
       "단체권    2280\n",
       "Name: 권종, dtype: int64"
      ]
     },
     "execution_count": 6,
     "metadata": {},
     "output_type": "execute_result"
    }
   ],
   "source": [
    "data['권종'].value_counts()"
   ]
  },
  {
   "cell_type": "code",
   "execution_count": 7,
   "id": "40379c36",
   "metadata": {},
   "outputs": [
    {
     "data": {
      "text/plain": [
       "선불     2280\n",
       "후불     2280\n",
       "정기권    2280\n",
       "우대권    2280\n",
       "1회권    2280\n",
       "단체권    2280\n",
       "Name: 권종, dtype: int64"
      ]
     },
     "execution_count": 7,
     "metadata": {},
     "output_type": "execute_result"
    }
   ],
   "source": [
    "data['권종'].value_counts()"
   ]
  },
  {
   "cell_type": "code",
   "execution_count": 8,
   "id": "4d1e673e",
   "metadata": {},
   "outputs": [],
   "source": [
    "data = data.drop(columns=['연번','고유역번호(외부역코드)'],axis = 1)"
   ]
  },
  {
   "cell_type": "code",
   "execution_count": 9,
   "id": "e250a4d0",
   "metadata": {
    "scrolled": false
   },
   "outputs": [],
   "source": [
    "line1 = data.groupby('호선').get_group(1)\n",
    "line1_gr = line1.groupby('역명')['승차인원수'].sum()"
   ]
  },
  {
   "cell_type": "code",
   "execution_count": 10,
   "id": "930c7fef",
   "metadata": {
    "scrolled": true
   },
   "outputs": [
    {
     "data": {
      "text/plain": [
       "역명\n",
       "서울역(1)     9649348\n",
       "종각         7127607\n",
       "종로3가(1)    5562794\n",
       "종로5가       4796505\n",
       "시청(1)      4563045\n",
       "청량리        4396890\n",
       "제기동        3728792\n",
       "신설동(1)     2908405\n",
       "동대문(1)     2507123\n",
       "동묘앞(1)     2081686\n",
       "Name: 승차인원수, dtype: int64"
      ]
     },
     "execution_count": 10,
     "metadata": {},
     "output_type": "execute_result"
    }
   ],
   "source": [
    "line1_gr.sort_values(ascending = False)"
   ]
  },
  {
   "cell_type": "code",
   "execution_count": 11,
   "id": "091feae2",
   "metadata": {
    "scrolled": true
   },
   "outputs": [
    {
     "data": {
      "text/plain": [
       "역명\n",
       "서울역(1)     9649348\n",
       "종각         7127607\n",
       "종로3가(1)    5562794\n",
       "종로5가       4796505\n",
       "시청(1)      4563045\n",
       "청량리        4396890\n",
       "제기동        3728792\n",
       "신설동(1)     2908405\n",
       "동대문(1)     2507123\n",
       "동묘앞(1)     2081686\n",
       "Name: 승차인원수, dtype: int64"
      ]
     },
     "execution_count": 11,
     "metadata": {},
     "output_type": "execute_result"
    }
   ],
   "source": [
    "line1_gr.sort_values(ascending = False)"
   ]
  }
 ],
 "metadata": {
  "kernelspec": {
   "display_name": "Python 3.11.0 64-bit",
   "language": "python",
   "name": "python3"
  },
  "language_info": {
   "codemirror_mode": {
    "name": "ipython",
    "version": 3
   },
   "file_extension": ".py",
   "mimetype": "text/x-python",
   "name": "python",
   "nbconvert_exporter": "python",
   "pygments_lexer": "ipython3",
   "version": "3.11.0"
  },
  "vscode": {
   "interpreter": {
    "hash": "cdcc5296ba62b459859a489d9486a681781ab599b02dbfec14bda79d5d80ef2e"
   }
  }
 },
 "nbformat": 4,
 "nbformat_minor": 5
}
